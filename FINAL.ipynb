{
 "cells": [
  {
   "cell_type": "markdown",
   "metadata": {},
   "source": [
    "# Идентификация интернет-пользователей"
   ]
  },
  {
   "cell_type": "markdown",
   "metadata": {},
   "source": [
    "## 1. Цели и задачи проекта, описание исходных и обработанных данных и признаков."
   ]
  },
  {
   "cell_type": "markdown",
   "metadata": {},
   "source": [
    "В обучающей выборке **train_sessions_400users.csv** признаки **site_i** – это индексы посещенных сайтов (расшифровка дана в pickle-файле со словарем **site_dic.pkl**).\n",
    "Признаки **time_j** – время посещения сайтов **site_j**.\n",
    "\n",
    "Целевой признак **user_id** – ID, пользователя, которому принадлежит сессия из 10 посещений веб-сайтов.\n",
    "\n",
    "Задача – сделать прогнозы для сессий в тестовой выборке (**test_sessions_400users.csv**), определить, каким пользователям они принадлежат.\n",
    "\n",
    "Цель: по последовательности из нескольких веб-сайтов, посещенных подряд одним и тем же человеком, идентифицировать этого человека. "
   ]
  },
  {
   "cell_type": "code",
   "execution_count": 79,
   "metadata": {},
   "outputs": [],
   "source": [
    "import os\n",
    "import pandas as pd\n",
    "import numpy as np\n",
    "import scipy.sparse as sps\n",
    "from time import time\n",
    "from scipy.sparse import csr_matrix\n",
    "from sklearn.linear_model import LogisticRegression, SGDClassifier\n",
    "from sklearn import preprocessing\n",
    "from collections import Counter"
   ]
  },
  {
   "cell_type": "code",
   "execution_count": 80,
   "metadata": {},
   "outputs": [],
   "source": [
    "from __future__ import division, print_function\n",
    "# отключим всякие предупреждения Anaconda\n",
    "import warnings\n",
    "warnings.filterwarnings('ignore')\n",
    "from glob import glob\n",
    "import os\n",
    "from tqdm import tqdm_notebook\n",
    "import numpy as np\n",
    "import pandas as pd\n",
    "pd.set_option('display.max.columns', 25)\n",
    "import pickle\n",
    "#pip install seaborn\n",
    "import seaborn as sns\n",
    "%matplotlib inline\n",
    "from matplotlib import pyplot as plt"
   ]
  },
  {
   "cell_type": "code",
   "execution_count": 81,
   "metadata": {},
   "outputs": [],
   "source": [
    "import scipy.sparse as sps\n",
    "from scipy.sparse import csr_matrix\n",
    "from tqdm.auto import tqdm\n",
    "from time import time"
   ]
  },
  {
   "cell_type": "markdown",
   "metadata": {},
   "source": [
    "## 2. Первичный анализ признаков"
   ]
  },
  {
   "cell_type": "code",
   "execution_count": 82,
   "metadata": {},
   "outputs": [],
   "source": [
    "PATH_TO_DATA = 'capstone_user_identification'"
   ]
  },
  {
   "cell_type": "code",
   "execution_count": 83,
   "metadata": {},
   "outputs": [],
   "source": [
    "train_df_400 = pd.read_csv(os.path.join(PATH_TO_DATA,'train_sessions_400users.csv'), \n",
    "                           index_col='session_id')"
   ]
  },
  {
   "cell_type": "code",
   "execution_count": 84,
   "metadata": {},
   "outputs": [],
   "source": [
    "test_df_400 = pd.read_csv(os.path.join(PATH_TO_DATA,'test_sessions_400users.csv'), \n",
    "                           index_col='session_id')"
   ]
  },
  {
   "cell_type": "code",
   "execution_count": 85,
   "metadata": {},
   "outputs": [
    {
     "data": {
      "text/html": [
       "<div>\n",
       "<style scoped>\n",
       "    .dataframe tbody tr th:only-of-type {\n",
       "        vertical-align: middle;\n",
       "    }\n",
       "\n",
       "    .dataframe tbody tr th {\n",
       "        vertical-align: top;\n",
       "    }\n",
       "\n",
       "    .dataframe thead th {\n",
       "        text-align: right;\n",
       "    }\n",
       "</style>\n",
       "<table border=\"1\" class=\"dataframe\">\n",
       "  <thead>\n",
       "    <tr style=\"text-align: right;\">\n",
       "      <th></th>\n",
       "      <th>site1</th>\n",
       "      <th>time1</th>\n",
       "      <th>site2</th>\n",
       "      <th>time2</th>\n",
       "      <th>site3</th>\n",
       "      <th>time3</th>\n",
       "      <th>site4</th>\n",
       "      <th>time4</th>\n",
       "      <th>site5</th>\n",
       "      <th>time5</th>\n",
       "      <th>site6</th>\n",
       "      <th>time6</th>\n",
       "      <th>site7</th>\n",
       "      <th>time7</th>\n",
       "      <th>site8</th>\n",
       "      <th>time8</th>\n",
       "      <th>site9</th>\n",
       "      <th>time9</th>\n",
       "      <th>site10</th>\n",
       "      <th>time10</th>\n",
       "      <th>user_id</th>\n",
       "    </tr>\n",
       "    <tr>\n",
       "      <th>session_id</th>\n",
       "      <th></th>\n",
       "      <th></th>\n",
       "      <th></th>\n",
       "      <th></th>\n",
       "      <th></th>\n",
       "      <th></th>\n",
       "      <th></th>\n",
       "      <th></th>\n",
       "      <th></th>\n",
       "      <th></th>\n",
       "      <th></th>\n",
       "      <th></th>\n",
       "      <th></th>\n",
       "      <th></th>\n",
       "      <th></th>\n",
       "      <th></th>\n",
       "      <th></th>\n",
       "      <th></th>\n",
       "      <th></th>\n",
       "      <th></th>\n",
       "      <th></th>\n",
       "    </tr>\n",
       "  </thead>\n",
       "  <tbody>\n",
       "    <tr>\n",
       "      <th>1</th>\n",
       "      <td>23713</td>\n",
       "      <td>2014-03-24 15:22:40</td>\n",
       "      <td>23720.0</td>\n",
       "      <td>2014-03-24 15:22:48</td>\n",
       "      <td>23713.0</td>\n",
       "      <td>2014-03-24 15:22:48</td>\n",
       "      <td>23713.0</td>\n",
       "      <td>2014-03-24 15:22:54</td>\n",
       "      <td>23720.0</td>\n",
       "      <td>2014-03-24 15:22:54</td>\n",
       "      <td>23713.0</td>\n",
       "      <td>2014-03-24 15:22:55</td>\n",
       "      <td>23713.0</td>\n",
       "      <td>2014-03-24 15:23:01</td>\n",
       "      <td>23713.0</td>\n",
       "      <td>2014-03-24 15:23:03</td>\n",
       "      <td>23713.0</td>\n",
       "      <td>2014-03-24 15:23:04</td>\n",
       "      <td>23713.0</td>\n",
       "      <td>2014-03-24 15:23:05</td>\n",
       "      <td>653</td>\n",
       "    </tr>\n",
       "    <tr>\n",
       "      <th>2</th>\n",
       "      <td>8726</td>\n",
       "      <td>2014-04-17 14:25:58</td>\n",
       "      <td>8725.0</td>\n",
       "      <td>2014-04-17 14:25:59</td>\n",
       "      <td>665.0</td>\n",
       "      <td>2014-04-17 14:25:59</td>\n",
       "      <td>8727.0</td>\n",
       "      <td>2014-04-17 14:25:59</td>\n",
       "      <td>45.0</td>\n",
       "      <td>2014-04-17 14:25:59</td>\n",
       "      <td>8725.0</td>\n",
       "      <td>2014-04-17 14:26:01</td>\n",
       "      <td>45.0</td>\n",
       "      <td>2014-04-17 14:26:01</td>\n",
       "      <td>5320.0</td>\n",
       "      <td>2014-04-17 14:26:18</td>\n",
       "      <td>5320.0</td>\n",
       "      <td>2014-04-17 14:26:47</td>\n",
       "      <td>5320.0</td>\n",
       "      <td>2014-04-17 14:26:48</td>\n",
       "      <td>198</td>\n",
       "    </tr>\n",
       "    <tr>\n",
       "      <th>3</th>\n",
       "      <td>303</td>\n",
       "      <td>2014-03-21 10:12:24</td>\n",
       "      <td>19.0</td>\n",
       "      <td>2014-03-21 10:12:36</td>\n",
       "      <td>303.0</td>\n",
       "      <td>2014-03-21 10:12:54</td>\n",
       "      <td>303.0</td>\n",
       "      <td>2014-03-21 10:13:01</td>\n",
       "      <td>303.0</td>\n",
       "      <td>2014-03-21 10:13:24</td>\n",
       "      <td>303.0</td>\n",
       "      <td>2014-03-21 10:13:36</td>\n",
       "      <td>303.0</td>\n",
       "      <td>2014-03-21 10:13:54</td>\n",
       "      <td>309.0</td>\n",
       "      <td>2014-03-21 10:14:01</td>\n",
       "      <td>303.0</td>\n",
       "      <td>2014-03-21 10:14:06</td>\n",
       "      <td>303.0</td>\n",
       "      <td>2014-03-21 10:14:24</td>\n",
       "      <td>34</td>\n",
       "    </tr>\n",
       "    <tr>\n",
       "      <th>4</th>\n",
       "      <td>1359</td>\n",
       "      <td>2013-12-13 09:52:28</td>\n",
       "      <td>925.0</td>\n",
       "      <td>2013-12-13 09:54:34</td>\n",
       "      <td>1240.0</td>\n",
       "      <td>2013-12-13 09:54:34</td>\n",
       "      <td>1360.0</td>\n",
       "      <td>2013-12-13 09:54:34</td>\n",
       "      <td>1344.0</td>\n",
       "      <td>2013-12-13 09:54:34</td>\n",
       "      <td>1359.0</td>\n",
       "      <td>2013-12-13 09:54:34</td>\n",
       "      <td>1346.0</td>\n",
       "      <td>2013-12-13 09:54:34</td>\n",
       "      <td>1345.0</td>\n",
       "      <td>2013-12-13 09:54:34</td>\n",
       "      <td>1344.0</td>\n",
       "      <td>2013-12-13 09:58:19</td>\n",
       "      <td>1345.0</td>\n",
       "      <td>2013-12-13 09:58:19</td>\n",
       "      <td>601</td>\n",
       "    </tr>\n",
       "    <tr>\n",
       "      <th>5</th>\n",
       "      <td>11</td>\n",
       "      <td>2013-11-26 12:35:29</td>\n",
       "      <td>85.0</td>\n",
       "      <td>2013-11-26 12:35:31</td>\n",
       "      <td>52.0</td>\n",
       "      <td>2013-11-26 12:35:31</td>\n",
       "      <td>85.0</td>\n",
       "      <td>2013-11-26 12:35:32</td>\n",
       "      <td>11.0</td>\n",
       "      <td>2013-11-26 12:35:32</td>\n",
       "      <td>52.0</td>\n",
       "      <td>2013-11-26 12:35:32</td>\n",
       "      <td>11.0</td>\n",
       "      <td>2013-11-26 12:37:03</td>\n",
       "      <td>85.0</td>\n",
       "      <td>2013-11-26 12:37:03</td>\n",
       "      <td>10.0</td>\n",
       "      <td>2013-11-26 12:37:03</td>\n",
       "      <td>85.0</td>\n",
       "      <td>2013-11-26 12:37:04</td>\n",
       "      <td>273</td>\n",
       "    </tr>\n",
       "  </tbody>\n",
       "</table>\n",
       "</div>"
      ],
      "text/plain": [
       "            site1                time1    site2                time2    site3  \\\n",
       "session_id                                                                      \n",
       "1           23713  2014-03-24 15:22:40  23720.0  2014-03-24 15:22:48  23713.0   \n",
       "2            8726  2014-04-17 14:25:58   8725.0  2014-04-17 14:25:59    665.0   \n",
       "3             303  2014-03-21 10:12:24     19.0  2014-03-21 10:12:36    303.0   \n",
       "4            1359  2013-12-13 09:52:28    925.0  2013-12-13 09:54:34   1240.0   \n",
       "5              11  2013-11-26 12:35:29     85.0  2013-11-26 12:35:31     52.0   \n",
       "\n",
       "                          time3    site4                time4    site5  \\\n",
       "session_id                                                               \n",
       "1           2014-03-24 15:22:48  23713.0  2014-03-24 15:22:54  23720.0   \n",
       "2           2014-04-17 14:25:59   8727.0  2014-04-17 14:25:59     45.0   \n",
       "3           2014-03-21 10:12:54    303.0  2014-03-21 10:13:01    303.0   \n",
       "4           2013-12-13 09:54:34   1360.0  2013-12-13 09:54:34   1344.0   \n",
       "5           2013-11-26 12:35:31     85.0  2013-11-26 12:35:32     11.0   \n",
       "\n",
       "                          time5    site6                time6    site7  \\\n",
       "session_id                                                               \n",
       "1           2014-03-24 15:22:54  23713.0  2014-03-24 15:22:55  23713.0   \n",
       "2           2014-04-17 14:25:59   8725.0  2014-04-17 14:26:01     45.0   \n",
       "3           2014-03-21 10:13:24    303.0  2014-03-21 10:13:36    303.0   \n",
       "4           2013-12-13 09:54:34   1359.0  2013-12-13 09:54:34   1346.0   \n",
       "5           2013-11-26 12:35:32     52.0  2013-11-26 12:35:32     11.0   \n",
       "\n",
       "                          time7    site8                time8    site9  \\\n",
       "session_id                                                               \n",
       "1           2014-03-24 15:23:01  23713.0  2014-03-24 15:23:03  23713.0   \n",
       "2           2014-04-17 14:26:01   5320.0  2014-04-17 14:26:18   5320.0   \n",
       "3           2014-03-21 10:13:54    309.0  2014-03-21 10:14:01    303.0   \n",
       "4           2013-12-13 09:54:34   1345.0  2013-12-13 09:54:34   1344.0   \n",
       "5           2013-11-26 12:37:03     85.0  2013-11-26 12:37:03     10.0   \n",
       "\n",
       "                          time9   site10               time10  user_id  \n",
       "session_id                                                              \n",
       "1           2014-03-24 15:23:04  23713.0  2014-03-24 15:23:05      653  \n",
       "2           2014-04-17 14:26:47   5320.0  2014-04-17 14:26:48      198  \n",
       "3           2014-03-21 10:14:06    303.0  2014-03-21 10:14:24       34  \n",
       "4           2013-12-13 09:58:19   1345.0  2013-12-13 09:58:19      601  \n",
       "5           2013-11-26 12:37:03     85.0  2013-11-26 12:37:04      273  "
      ]
     },
     "execution_count": 85,
     "metadata": {},
     "output_type": "execute_result"
    }
   ],
   "source": [
    "train_df_400.head()"
   ]
  },
  {
   "cell_type": "code",
   "execution_count": 86,
   "metadata": {},
   "outputs": [
    {
     "data": {
      "text/plain": [
       "((182793, 21), (46473, 20), 400)"
      ]
     },
     "execution_count": 86,
     "metadata": {},
     "output_type": "execute_result"
    }
   ],
   "source": [
    "train_df_400.shape, test_df_400.shape, train_df_400['user_id'].nunique()"
   ]
  },
  {
   "cell_type": "markdown",
   "metadata": {},
   "source": [
    "**<span style=\"color:green\">Видим, что в обучающей выборке 182793 сессий, в тестовой – 46473, и сессии действительно принадлежат 400 различным пользователям.</span>**"
   ]
  },
  {
   "cell_type": "code",
   "execution_count": 87,
   "metadata": {},
   "outputs": [],
   "source": [
    "y = train_df_400.user_id\n",
    "class_encoder = preprocessing.LabelEncoder()\n",
    "y_for_vw = class_encoder.fit_transform(y)+1"
   ]
  },
  {
   "cell_type": "code",
   "execution_count": 88,
   "metadata": {},
   "outputs": [],
   "source": [
    "sites = ['site' + str(i) for i in range(1, 11)]"
   ]
  },
  {
   "cell_type": "code",
   "execution_count": 89,
   "metadata": {},
   "outputs": [],
   "source": [
    "path_pkl = os.path.join(PATH_TO_DATA, 'site_dic.pkl')\n",
    "unpickled_df = pd.read_pickle(path_pkl)"
   ]
  },
  {
   "cell_type": "code",
   "execution_count": 90,
   "metadata": {},
   "outputs": [
    {
     "data": {
      "text/plain": [
       "66164"
      ]
     },
     "execution_count": 90,
     "metadata": {},
     "output_type": "execute_result"
    }
   ],
   "source": [
    "#проверяем количество NaN \n",
    "\n",
    "train_df_400[sites].isnull().sum().sum()"
   ]
  },
  {
   "cell_type": "code",
   "execution_count": 91,
   "metadata": {},
   "outputs": [],
   "source": [
    "# заменяем NaN на 0 и преобразуем в матрицу\n",
    "\n",
    "example_series = train_df_400[sites].fillna(0).astype(int).values"
   ]
  },
  {
   "cell_type": "code",
   "execution_count": 92,
   "metadata": {},
   "outputs": [],
   "source": [
    "count_sites = pd.Series([item for sublist in example_series for item in sublist]).value_counts()"
   ]
  },
  {
   "cell_type": "markdown",
   "metadata": {},
   "source": [
    "**<span style=\"color:green\">Вывел наиболее популярные 10 сайтов</span>**"
   ]
  },
  {
   "cell_type": "code",
   "execution_count": 93,
   "metadata": {},
   "outputs": [
    {
     "name": "stdout",
     "output_type": "stream",
     "text": [
      "['www.google.fr']\n",
      "['annotathon.org']\n",
      "['www.google.com']\n",
      "['www.facebook.com']\n",
      "['apis.google.com']\n",
      "['blast.ncbi.nlm.nih.gov']\n",
      "['www.ncbi.nlm.nih.gov']\n",
      "['clients1.google.com']\n",
      "['mail.google.com']\n",
      "['s.youtube.com']\n"
     ]
    }
   ],
   "source": [
    "index_site = list(count_sites.index)\n",
    "index_site.remove(0)\n",
    "for ind in index_site[:10]:\n",
    "    print([k for k,v in unpickled_df.items() if v == ind])"
   ]
  },
  {
   "cell_type": "code",
   "execution_count": 94,
   "metadata": {},
   "outputs": [
    {
     "data": {
      "text/plain": [
       "32343"
      ]
     },
     "execution_count": 94,
     "metadata": {},
     "output_type": "execute_result"
    }
   ],
   "source": [
    "len(index_site)"
   ]
  },
  {
   "cell_type": "markdown",
   "metadata": {},
   "source": [
    "**<span style=\"color:green\">Всего уникальных сайтов в тренировочном сете 32343. Важно отметить, что показатель ниже, чем в словаре. Возможно оставшиеся сайты в проверочном сете.</span>**"
   ]
  },
  {
   "cell_type": "code",
   "execution_count": 95,
   "metadata": {},
   "outputs": [
    {
     "data": {
      "text/plain": [
       "15694"
      ]
     },
     "execution_count": 95,
     "metadata": {},
     "output_type": "execute_result"
    }
   ],
   "source": [
    "#проверяем количество NaN в test\n",
    "\n",
    "test_df_400[sites].isnull().sum().sum()"
   ]
  },
  {
   "cell_type": "code",
   "execution_count": 96,
   "metadata": {},
   "outputs": [],
   "source": [
    "example_series_test = test_df_400[sites].fillna(0).astype(int).values\n",
    "count_sites_test = pd.Series([item for sublist in example_series_test for item in sublist]).value_counts()"
   ]
  },
  {
   "cell_type": "code",
   "execution_count": 97,
   "metadata": {},
   "outputs": [
    {
     "name": "stdout",
     "output_type": "stream",
     "text": [
      "['annotathon.org']\n",
      "['www.google.fr']\n",
      "['www.ncbi.nlm.nih.gov']\n",
      "['www.facebook.com']\n",
      "['www.google.com']\n",
      "['s.youtube.com']\n",
      "['apis.google.com']\n",
      "['www.phylogeny.fr']\n",
      "['www.bing.com']\n",
      "['clients1.google.com']\n"
     ]
    }
   ],
   "source": [
    "index_site_test = list(count_sites_test.index)\n",
    "index_site_test.remove(0)\n",
    "for ind in index_site_test[:10]:\n",
    "    print([k for k,v in unpickled_df.items() if v == ind])"
   ]
  },
  {
   "cell_type": "code",
   "execution_count": 98,
   "metadata": {},
   "outputs": [
    {
     "name": "stdout",
     "output_type": "stream",
     "text": [
      "BINGO\n",
      "BINGO\n",
      "BINGO\n",
      "BINGO\n",
      "BINGO\n",
      "NONE\n",
      "BINGO\n",
      "BINGO\n",
      "NONE\n",
      "BINGO\n"
     ]
    }
   ],
   "source": [
    "for i in index_site[:10]:\n",
    "    if i in index_site_test[:10]:\n",
    "        print(\"BINGO\")\n",
    "    else:\n",
    "        print(\"NONE\")"
   ]
  },
  {
   "cell_type": "markdown",
   "metadata": {},
   "source": [
    "**<span style=\"color:green\">Вывел наиболее популярные 10 сайтов в тесте. Видно совпадение 8 сайтов в тренировочном с тестовым, правда не по порядку</span>**"
   ]
  },
  {
   "cell_type": "markdown",
   "metadata": {},
   "source": [
    "**<span style=\"color:green\">ID наиболее активных пользователей</span>**"
   ]
  },
  {
   "cell_type": "code",
   "execution_count": 99,
   "metadata": {},
   "outputs": [
    {
     "data": {
      "text/plain": [
       "Int64Index([149, 405, 984, 361, 884, 104, 251, 989, 48, 68], dtype='int64')"
      ]
     },
     "execution_count": 99,
     "metadata": {},
     "output_type": "execute_result"
    }
   ],
   "source": [
    "top_10 = train_df_400.user_id.value_counts()[:10]\n",
    "top_10.index"
   ]
  },
  {
   "cell_type": "code",
   "execution_count": 100,
   "metadata": {},
   "outputs": [
    {
     "data": {
      "text/plain": [
       "(182793, 10)"
      ]
     },
     "execution_count": 100,
     "metadata": {},
     "output_type": "execute_result"
    }
   ],
   "source": [
    "train_df_400_sites = train_df_400[sites]\n",
    "train_df_400_sites.shape"
   ]
  },
  {
   "cell_type": "code",
   "execution_count": 101,
   "metadata": {},
   "outputs": [],
   "source": [
    "num_unique_sites = [np.unique(train_df_400_sites.values[i, :-1]).shape[0] \n",
    "                    for i in range(train_df_400_sites.shape[0])]"
   ]
  },
  {
   "cell_type": "markdown",
   "metadata": {},
   "source": [
    "**<span style=\"color:green\">Количество уникальных сайтов в каждой сессии</span>**"
   ]
  },
  {
   "cell_type": "code",
   "execution_count": 102,
   "metadata": {},
   "outputs": [
    {
     "data": {
      "text/plain": [
       "7    31115\n",
       "6    29734\n",
       "8    25215\n",
       "5    24965\n",
       "4    17836\n",
       "9    16677\n",
       "3    14756\n",
       "2    13054\n",
       "1     9441\n",
       "dtype: int64"
      ]
     },
     "execution_count": 102,
     "metadata": {},
     "output_type": "execute_result"
    }
   ],
   "source": [
    "pd.Series(num_unique_sites).value_counts()"
   ]
  },
  {
   "cell_type": "code",
   "execution_count": 103,
   "metadata": {},
   "outputs": [],
   "source": [
    "import pylab \n",
    "import scipy.stats as stats"
   ]
  },
  {
   "cell_type": "code",
   "execution_count": 104,
   "metadata": {},
   "outputs": [
    {
     "data": {
      "image/png": "[encoded data removed]",
      "text/plain": [
       "<Figure size 432x288 with 1 Axes>"
      ]
     },
     "metadata": {
      "needs_background": "light"
     },
     "output_type": "display_data"
    }
   ],
   "source": [
    "stats.probplot(num_unique_sites, dist=\"norm\", plot=pylab)\n",
    "pylab.show()"
   ]
  },
  {
   "cell_type": "code",
   "execution_count": 105,
   "metadata": {},
   "outputs": [
    {
     "name": "stdout",
     "output_type": "stream",
     "text": [
      "Statistics=0.943, p=0.000\n",
      "Sample does not look Gaussian (reject H0)\n"
     ]
    }
   ],
   "source": [
    "stat, p = stats.shapiro(num_unique_sites)\n",
    "print('Statistics=%.3f, p=%.3f' % (stat, p))\n",
    "# interpret\n",
    "alpha = 0.05\n",
    "if p > alpha:\n",
    "    print('Sample looks Gaussian (fail to reject H0)')\n",
    "else:\n",
    "    print('Sample does not look Gaussian (reject H0)')"
   ]
  },
  {
   "cell_type": "markdown",
   "metadata": {},
   "source": [
    "**<span style=\"color:green\">Верно, распределение не нормально – хвосты тяжелые.</span>**"
   ]
  },
  {
   "cell_type": "markdown",
   "metadata": {},
   "source": [
    "**Найду p-value, что пользователь хотя бы раз зайдет на сайт, который он уже ранее посетил в сессии из 10 сайтов.**"
   ]
  },
  {
   "cell_type": "code",
   "execution_count": 106,
   "metadata": {},
   "outputs": [],
   "source": [
    "has_two_similar = (np.array(num_unique_sites) < 10).astype('int')"
   ]
  },
  {
   "cell_type": "code",
   "execution_count": 107,
   "metadata": {},
   "outputs": [
    {
     "data": {
      "text/plain": [
       "182793"
      ]
     },
     "execution_count": 107,
     "metadata": {},
     "output_type": "execute_result"
    }
   ],
   "source": [
    "has_two_similar.sum()"
   ]
  },
  {
   "cell_type": "code",
   "execution_count": 108,
   "metadata": {},
   "outputs": [
    {
     "data": {
      "text/plain": [
       "0.0"
      ]
     },
     "execution_count": 108,
     "metadata": {},
     "output_type": "execute_result"
    }
   ],
   "source": [
    "stats.binom_test(has_two_similar.sum(), has_two_similar.shape[0], 0.95, alternative='greater')"
   ]
  },
  {
   "cell_type": "markdown",
   "metadata": {},
   "source": [
    "**<span style=\"color:green\">Вероятность незначительная<span>**"
   ]
  },
  {
   "cell_type": "code",
   "execution_count": 109,
   "metadata": {},
   "outputs": [],
   "source": [
    "from statsmodels.stats.proportion import proportion_confint"
   ]
  },
  {
   "cell_type": "code",
   "execution_count": 110,
   "metadata": {},
   "outputs": [
    {
     "data": {
      "text/plain": [
       "(0.9999789850919195, 1.0000000000000002)"
      ]
     },
     "execution_count": 110,
     "metadata": {},
     "output_type": "execute_result"
    }
   ],
   "source": [
    "wilson_interval = proportion_confint(has_two_similar.sum(), has_two_similar.shape[0], method='wilson')\n",
    "wilson_interval"
   ]
  },
  {
   "cell_type": "markdown",
   "metadata": {},
   "source": [
    "**95%-доверительный интервал Уилсона для величины из прошлого вопроса**"
   ]
  },
  {
   "cell_type": "code",
   "execution_count": 111,
   "metadata": {},
   "outputs": [],
   "source": [
    "def get_bootstrap_samples(data, n_samples, random_seed=17):\n",
    "    np.random.seed(random_seed)\n",
    "    indices = np.random.randint(0, len(data), (n_samples, len(data)))\n",
    "    samples = data[indices]\n",
    "    return samples"
   ]
  },
  {
   "cell_type": "code",
   "execution_count": 112,
   "metadata": {},
   "outputs": [],
   "source": [
    "def stat_intervals(stat, alpha):\n",
    "    boundaries = np.percentile(stat, \n",
    "                 [100 * alpha / 2., 100 * (1 - alpha / 2.)])\n",
    "    return boundaries"
   ]
  },
  {
   "cell_type": "code",
   "execution_count": 113,
   "metadata": {},
   "outputs": [],
   "source": [
    "import matplotlib.pyplot as plt"
   ]
  },
  {
   "cell_type": "code",
   "execution_count": 114,
   "metadata": {},
   "outputs": [
    {
     "data": {
      "image/png": "[encoded data removed]",
      "text/plain": [
       "<Figure size 432x288 with 1 Axes>"
      ]
     },
     "metadata": {
      "needs_background": "light"
     },
     "output_type": "display_data"
    }
   ],
   "source": [
    "sorted_site_1000 = {}\n",
    "\n",
    "for key, value in count_sites.items():\n",
    "    if value >= 1000:\n",
    "        sorted_site_1000[key] = value\n",
    "    \n",
    "plt.hist(list(sorted_site_1000.values()))\n",
    "plt.show()"
   ]
  },
  {
   "cell_type": "markdown",
   "metadata": {},
   "source": [
    "**Распределение сайтов с частотой более 1000**"
   ]
  },
  {
   "cell_type": "code",
   "execution_count": 115,
   "metadata": {},
   "outputs": [],
   "source": [
    "sorted_site_5 = {}\n",
    "\n",
    "for key, value in count_sites.items():\n",
    "    if value >= 5:\n",
    "        sorted_site_5[key] = value"
   ]
  },
  {
   "cell_type": "code",
   "execution_count": 116,
   "metadata": {},
   "outputs": [
    {
     "data": {
      "text/plain": [
       "11756"
      ]
     },
     "execution_count": 116,
     "metadata": {},
     "output_type": "execute_result"
    }
   ],
   "source": [
    "site_freq = list(sorted_site_5.values())\n",
    "len(site_freq)"
   ]
  },
  {
   "cell_type": "code",
   "execution_count": 117,
   "metadata": {},
   "outputs": [],
   "source": [
    "site_mean_scores = list(map(np.mean, get_bootstrap_samples(np.array(site_freq), len(site_freq))))"
   ]
  },
  {
   "cell_type": "code",
   "execution_count": 118,
   "metadata": {},
   "outputs": [
    {
     "name": "stdout",
     "output_type": "stream",
     "text": [
      "{4: 1828, 3: 2681, 2: 4304, 1: 11775}\n"
     ]
    }
   ],
   "source": [
    "#количество посещений сайтов на которые заходили меньше, чем пять раз\n",
    "\n",
    "sorted_site_4 = {}\n",
    "\n",
    "for key, value in count_sites.items():\n",
    "    if value < 5:\n",
    "        if value in sorted_site_4.keys():\n",
    "            sorted_site_4[value] = sorted_site_4[value] + 1\n",
    "        else:\n",
    "            sorted_site_4[value] = 1\n",
    "        \n",
    "print(sorted_site_4)"
   ]
  },
  {
   "cell_type": "code",
   "execution_count": 119,
   "metadata": {},
   "outputs": [
    {
     "name": "stdout",
     "output_type": "stream",
     "text": [
      "95% доверительный интервал для средней частоты появления сайта в выборке которые были посещены минимум 5 раз :\n",
      "[124.22213125 184.50040405]\n"
     ]
    }
   ],
   "source": [
    "print (\"95% доверительный интервал для средней частоты появления сайта в выборке которые были посещены минимум 5 раз :\")\n",
    "print(stat_intervals(site_mean_scores, 0.05))"
   ]
  },
  {
   "cell_type": "markdown",
   "metadata": {},
   "source": [
    "**<span style=\"color:green\">То есть сайты, которые посещают более пяти раз как правило посещают с частотой от 124 до 184 раз. Наиболее часто на сайт заходят один раз и больше не посещают. Дальше идет общая тенденция на понижение</span>**"
   ]
  },
  {
   "cell_type": "code",
   "execution_count": 120,
   "metadata": {},
   "outputs": [],
   "source": [
    "# создание разряженной матрицы\n",
    "\n",
    "def create_sparse_matrix(dataframe):\n",
    "    tmp_arr = np.array(dataframe)\n",
    "    row = 0\n",
    "    rows = []\n",
    "    cols = []\n",
    "    data = []\n",
    "\n",
    "    for arr in tmp_arr:\n",
    "        #print(arr)\n",
    "        for i, val in enumerate(arr):\n",
    "            if val != 0:                \n",
    "                data.append(val)\n",
    "                cols.append(i)\n",
    "                rows.append(row)\n",
    "        row = row + 1\n",
    "        \n",
    "    return(sps.coo_matrix((data, (rows, cols))))"
   ]
  },
  {
   "cell_type": "code",
   "execution_count": 121,
   "metadata": {},
   "outputs": [],
   "source": [
    "train_sparse = csr_matrix(create_sparse_matrix(test_df_400[sites].fillna(0)))"
   ]
  },
  {
   "cell_type": "markdown",
   "metadata": {},
   "source": [
    "## 3 Первичный визуальный анализ признаков"
   ]
  },
  {
   "cell_type": "code",
   "execution_count": 123,
   "metadata": {},
   "outputs": [],
   "source": [
    "train_df_400_full = train_df_400.copy()\n",
    "#train_df_400_full = train_df_400_full.fillna(0)"
   ]
  },
  {
   "cell_type": "code",
   "execution_count": 124,
   "metadata": {},
   "outputs": [],
   "source": [
    "train_df_400_full.time1 = pd.to_datetime(train_df_400_full.time1)\n",
    "train_df_400_full.time2 = pd.to_datetime(train_df_400_full.time2)\n",
    "train_df_400_full.time3 = pd.to_datetime(train_df_400_full.time3)\n",
    "train_df_400_full.time4 = pd.to_datetime(train_df_400_full.time4)\n",
    "train_df_400_full.time5 = pd.to_datetime(train_df_400_full.time5)\n",
    "train_df_400_full.time6 = pd.to_datetime(train_df_400_full.time6)\n",
    "train_df_400_full.time7 = pd.to_datetime(train_df_400_full.time7)\n",
    "train_df_400_full.time8 = pd.to_datetime(train_df_400_full.time8)\n",
    "train_df_400_full.time9 = pd.to_datetime(train_df_400_full.time9)\n",
    "train_df_400_full.time10 = pd.to_datetime(train_df_400_full.time10)"
   ]
  },
  {
   "cell_type": "code",
   "execution_count": 125,
   "metadata": {},
   "outputs": [
    {
     "name": "stdout",
     "output_type": "stream",
     "text": [
      "<class 'pandas.core.frame.DataFrame'>\n",
      "Int64Index: 182793 entries, 1 to 182793\n",
      "Data columns (total 21 columns):\n",
      "site1      182793 non-null int64\n",
      "time1      182793 non-null datetime64[ns]\n",
      "site2      181175 non-null float64\n",
      "time2      181175 non-null datetime64[ns]\n",
      "site3      179441 non-null float64\n",
      "time3      179441 non-null datetime64[ns]\n",
      "site4      178054 non-null float64\n",
      "time4      178054 non-null datetime64[ns]\n",
      "site5      176653 non-null float64\n",
      "time5      176653 non-null datetime64[ns]\n",
      "site6      175268 non-null float64\n",
      "time6      175268 non-null datetime64[ns]\n",
      "site7      173960 non-null float64\n",
      "time7      173960 non-null datetime64[ns]\n",
      "site8      172738 non-null float64\n",
      "time8      172738 non-null datetime64[ns]\n",
      "site9      171437 non-null float64\n",
      "time9      171437 non-null datetime64[ns]\n",
      "site10     170247 non-null float64\n",
      "time10     170247 non-null datetime64[ns]\n",
      "user_id    182793 non-null int64\n",
      "dtypes: datetime64[ns](10), float64(9), int64(2)\n",
      "memory usage: 30.7 MB\n"
     ]
    }
   ],
   "source": [
    "train_df_400_full.info()"
   ]
  },
  {
   "cell_type": "code",
   "execution_count": 126,
   "metadata": {},
   "outputs": [],
   "source": [
    "train_df_400_full['time_diff_1'] = (train_df_400_full.time2 - train_df_400_full.time1)/np.timedelta64(1,'s')\n",
    "train_df_400_full['time_diff_2'] = (train_df_400_full.time3 - train_df_400_full.time2)/np.timedelta64(1,'s')\n",
    "train_df_400_full['time_diff_3'] = (train_df_400_full.time4 - train_df_400_full.time3)/np.timedelta64(1,'s')\n",
    "train_df_400_full['time_diff_4'] = (train_df_400_full.time5 - train_df_400_full.time4)/np.timedelta64(1,'s')\n",
    "train_df_400_full['time_diff_5'] = (train_df_400_full.time6 - train_df_400_full.time5)/np.timedelta64(1,'s')\n",
    "train_df_400_full['time_diff_6'] = (train_df_400_full.time7 - train_df_400_full.time6)/np.timedelta64(1,'s')\n",
    "train_df_400_full['time_diff_7'] = (train_df_400_full.time8 - train_df_400_full.time7)/np.timedelta64(1,'s')\n",
    "train_df_400_full['time_diff_8'] = (train_df_400_full.time9 - train_df_400_full.time8)/np.timedelta64(1,'s')\n",
    "train_df_400_full['time_diff_9'] = (train_df_400_full.time10 - train_df_400_full.time9)/np.timedelta64(1,'s')\n",
    "\n",
    "train_df_400_full['session_timespan'] = train_df_400_full['time_diff_1'] + train_df_400_full['time_diff_2'] + \\\n",
    "train_df_400_full['time_diff_3'] + train_df_400_full['time_diff_4'] + train_df_400_full['time_diff_5'] + \\\n",
    "train_df_400_full['time_diff_6'] + train_df_400_full['time_diff_7'] + train_df_400_full['time_diff_8'] + \\\n",
    "train_df_400_full['time_diff_9'] \n",
    "\n"
   ]
  },
  {
   "cell_type": "code",
   "execution_count": 127,
   "metadata": {},
   "outputs": [],
   "source": [
    "train_df_400_full['unique_sites'] = train_df_400_full[sites].apply(pd.Series.nunique, axis=1)"
   ]
  },
  {
   "cell_type": "code",
   "execution_count": 128,
   "metadata": {},
   "outputs": [],
   "source": [
    "train_df_400_full['start_hour'] = train_df_400_full.time1.dt.hour"
   ]
  },
  {
   "cell_type": "code",
   "execution_count": 129,
   "metadata": {},
   "outputs": [],
   "source": [
    "train_df_400_full['day_of_week'] = train_df_400_full.time1.dt.weekday"
   ]
  },
  {
   "cell_type": "code",
   "execution_count": 130,
   "metadata": {},
   "outputs": [],
   "source": [
    "times = ['time' + str(i) for i in range(1, 11)]"
   ]
  },
  {
   "cell_type": "code",
   "execution_count": 133,
   "metadata": {},
   "outputs": [],
   "source": [
    "train_df_400_full_site = train_df_400_full.drop(['time1', 'time2', 'time3', 'time4', 'time5', 'time6', 'time7', 'time8', 'time9', 'time10'], axis=1)"
   ]
  },
  {
   "cell_type": "code",
   "execution_count": 134,
   "metadata": {},
   "outputs": [
    {
     "name": "stdout",
     "output_type": "stream",
     "text": [
      "<class 'pandas.core.frame.DataFrame'>\n",
      "Int64Index: 182793 entries, 1 to 182793\n",
      "Data columns (total 34 columns):\n",
      "site1               182793 non-null int64\n",
      "time1               182793 non-null datetime64[ns]\n",
      "site2               181175 non-null float64\n",
      "time2               181175 non-null datetime64[ns]\n",
      "site3               179441 non-null float64\n",
      "time3               179441 non-null datetime64[ns]\n",
      "site4               178054 non-null float64\n",
      "time4               178054 non-null datetime64[ns]\n",
      "site5               176653 non-null float64\n",
      "time5               176653 non-null datetime64[ns]\n",
      "site6               175268 non-null float64\n",
      "time6               175268 non-null datetime64[ns]\n",
      "site7               173960 non-null float64\n",
      "time7               173960 non-null datetime64[ns]\n",
      "site8               172738 non-null float64\n",
      "time8               172738 non-null datetime64[ns]\n",
      "site9               171437 non-null float64\n",
      "time9               171437 non-null datetime64[ns]\n",
      "site10              170247 non-null float64\n",
      "time10              170247 non-null datetime64[ns]\n",
      "user_id             182793 non-null int64\n",
      "time_diff_1         181175 non-null float64\n",
      "time_diff_2         179441 non-null float64\n",
      "time_diff_3         178054 non-null float64\n",
      "time_diff_4         176653 non-null float64\n",
      "time_diff_5         175268 non-null float64\n",
      "time_diff_6         173960 non-null float64\n",
      "time_diff_7         172738 non-null float64\n",
      "time_diff_8         171437 non-null float64\n",
      "time_diff_9         170247 non-null float64\n",
      "session_timespan    170247 non-null float64\n",
      "unique_sites        182793 non-null int64\n",
      "start_hour          182793 non-null int64\n",
      "day_of_week         182793 non-null int64\n",
      "dtypes: datetime64[ns](10), float64(19), int64(5)\n",
      "memory usage: 48.8 MB\n"
     ]
    }
   ],
   "source": [
    "train_df_400_full.info()"
   ]
  },
  {
   "cell_type": "code",
   "execution_count": 135,
   "metadata": {},
   "outputs": [
    {
     "data": {
      "text/html": [
       "<div>\n",
       "<style scoped>\n",
       "    .dataframe tbody tr th:only-of-type {\n",
       "        vertical-align: middle;\n",
       "    }\n",
       "\n",
       "    .dataframe tbody tr th {\n",
       "        vertical-align: top;\n",
       "    }\n",
       "\n",
       "    .dataframe thead th {\n",
       "        text-align: right;\n",
       "    }\n",
       "</style>\n",
       "<table border=\"1\" class=\"dataframe\">\n",
       "  <thead>\n",
       "    <tr style=\"text-align: right;\">\n",
       "      <th></th>\n",
       "      <th>site1</th>\n",
       "      <th>time1</th>\n",
       "      <th>site2</th>\n",
       "      <th>time2</th>\n",
       "      <th>site3</th>\n",
       "      <th>time3</th>\n",
       "      <th>site4</th>\n",
       "      <th>time4</th>\n",
       "      <th>site5</th>\n",
       "      <th>time5</th>\n",
       "      <th>site6</th>\n",
       "      <th>time6</th>\n",
       "      <th>...</th>\n",
       "      <th>time_diff_2</th>\n",
       "      <th>time_diff_3</th>\n",
       "      <th>time_diff_4</th>\n",
       "      <th>time_diff_5</th>\n",
       "      <th>time_diff_6</th>\n",
       "      <th>time_diff_7</th>\n",
       "      <th>time_diff_8</th>\n",
       "      <th>time_diff_9</th>\n",
       "      <th>session_timespan</th>\n",
       "      <th>unique_sites</th>\n",
       "      <th>start_hour</th>\n",
       "      <th>day_of_week</th>\n",
       "    </tr>\n",
       "    <tr>\n",
       "      <th>session_id</th>\n",
       "      <th></th>\n",
       "      <th></th>\n",
       "      <th></th>\n",
       "      <th></th>\n",
       "      <th></th>\n",
       "      <th></th>\n",
       "      <th></th>\n",
       "      <th></th>\n",
       "      <th></th>\n",
       "      <th></th>\n",
       "      <th></th>\n",
       "      <th></th>\n",
       "      <th></th>\n",
       "      <th></th>\n",
       "      <th></th>\n",
       "      <th></th>\n",
       "      <th></th>\n",
       "      <th></th>\n",
       "      <th></th>\n",
       "      <th></th>\n",
       "      <th></th>\n",
       "      <th></th>\n",
       "      <th></th>\n",
       "      <th></th>\n",
       "      <th></th>\n",
       "    </tr>\n",
       "  </thead>\n",
       "  <tbody>\n",
       "    <tr>\n",
       "      <th>1</th>\n",
       "      <td>23713</td>\n",
       "      <td>2014-03-24 15:22:40</td>\n",
       "      <td>23720.0</td>\n",
       "      <td>2014-03-24 15:22:48</td>\n",
       "      <td>23713.0</td>\n",
       "      <td>2014-03-24 15:22:48</td>\n",
       "      <td>23713.0</td>\n",
       "      <td>2014-03-24 15:22:54</td>\n",
       "      <td>23720.0</td>\n",
       "      <td>2014-03-24 15:22:54</td>\n",
       "      <td>23713.0</td>\n",
       "      <td>2014-03-24 15:22:55</td>\n",
       "      <td>...</td>\n",
       "      <td>0.0</td>\n",
       "      <td>6.0</td>\n",
       "      <td>0.0</td>\n",
       "      <td>1.0</td>\n",
       "      <td>6.0</td>\n",
       "      <td>2.0</td>\n",
       "      <td>1.0</td>\n",
       "      <td>1.0</td>\n",
       "      <td>25.0</td>\n",
       "      <td>2</td>\n",
       "      <td>15</td>\n",
       "      <td>0</td>\n",
       "    </tr>\n",
       "    <tr>\n",
       "      <th>2</th>\n",
       "      <td>8726</td>\n",
       "      <td>2014-04-17 14:25:58</td>\n",
       "      <td>8725.0</td>\n",
       "      <td>2014-04-17 14:25:59</td>\n",
       "      <td>665.0</td>\n",
       "      <td>2014-04-17 14:25:59</td>\n",
       "      <td>8727.0</td>\n",
       "      <td>2014-04-17 14:25:59</td>\n",
       "      <td>45.0</td>\n",
       "      <td>2014-04-17 14:25:59</td>\n",
       "      <td>8725.0</td>\n",
       "      <td>2014-04-17 14:26:01</td>\n",
       "      <td>...</td>\n",
       "      <td>0.0</td>\n",
       "      <td>0.0</td>\n",
       "      <td>0.0</td>\n",
       "      <td>2.0</td>\n",
       "      <td>0.0</td>\n",
       "      <td>17.0</td>\n",
       "      <td>29.0</td>\n",
       "      <td>1.0</td>\n",
       "      <td>50.0</td>\n",
       "      <td>6</td>\n",
       "      <td>14</td>\n",
       "      <td>3</td>\n",
       "    </tr>\n",
       "    <tr>\n",
       "      <th>3</th>\n",
       "      <td>303</td>\n",
       "      <td>2014-03-21 10:12:24</td>\n",
       "      <td>19.0</td>\n",
       "      <td>2014-03-21 10:12:36</td>\n",
       "      <td>303.0</td>\n",
       "      <td>2014-03-21 10:12:54</td>\n",
       "      <td>303.0</td>\n",
       "      <td>2014-03-21 10:13:01</td>\n",
       "      <td>303.0</td>\n",
       "      <td>2014-03-21 10:13:24</td>\n",
       "      <td>303.0</td>\n",
       "      <td>2014-03-21 10:13:36</td>\n",
       "      <td>...</td>\n",
       "      <td>18.0</td>\n",
       "      <td>7.0</td>\n",
       "      <td>23.0</td>\n",
       "      <td>12.0</td>\n",
       "      <td>18.0</td>\n",
       "      <td>7.0</td>\n",
       "      <td>5.0</td>\n",
       "      <td>18.0</td>\n",
       "      <td>120.0</td>\n",
       "      <td>3</td>\n",
       "      <td>10</td>\n",
       "      <td>4</td>\n",
       "    </tr>\n",
       "    <tr>\n",
       "      <th>4</th>\n",
       "      <td>1359</td>\n",
       "      <td>2013-12-13 09:52:28</td>\n",
       "      <td>925.0</td>\n",
       "      <td>2013-12-13 09:54:34</td>\n",
       "      <td>1240.0</td>\n",
       "      <td>2013-12-13 09:54:34</td>\n",
       "      <td>1360.0</td>\n",
       "      <td>2013-12-13 09:54:34</td>\n",
       "      <td>1344.0</td>\n",
       "      <td>2013-12-13 09:54:34</td>\n",
       "      <td>1359.0</td>\n",
       "      <td>2013-12-13 09:54:34</td>\n",
       "      <td>...</td>\n",
       "      <td>0.0</td>\n",
       "      <td>0.0</td>\n",
       "      <td>0.0</td>\n",
       "      <td>0.0</td>\n",
       "      <td>0.0</td>\n",
       "      <td>0.0</td>\n",
       "      <td>225.0</td>\n",
       "      <td>0.0</td>\n",
       "      <td>351.0</td>\n",
       "      <td>7</td>\n",
       "      <td>9</td>\n",
       "      <td>4</td>\n",
       "    </tr>\n",
       "    <tr>\n",
       "      <th>5</th>\n",
       "      <td>11</td>\n",
       "      <td>2013-11-26 12:35:29</td>\n",
       "      <td>85.0</td>\n",
       "      <td>2013-11-26 12:35:31</td>\n",
       "      <td>52.0</td>\n",
       "      <td>2013-11-26 12:35:31</td>\n",
       "      <td>85.0</td>\n",
       "      <td>2013-11-26 12:35:32</td>\n",
       "      <td>11.0</td>\n",
       "      <td>2013-11-26 12:35:32</td>\n",
       "      <td>52.0</td>\n",
       "      <td>2013-11-26 12:35:32</td>\n",
       "      <td>...</td>\n",
       "      <td>0.0</td>\n",
       "      <td>1.0</td>\n",
       "      <td>0.0</td>\n",
       "      <td>0.0</td>\n",
       "      <td>91.0</td>\n",
       "      <td>0.0</td>\n",
       "      <td>0.0</td>\n",
       "      <td>1.0</td>\n",
       "      <td>95.0</td>\n",
       "      <td>4</td>\n",
       "      <td>12</td>\n",
       "      <td>1</td>\n",
       "    </tr>\n",
       "    <tr>\n",
       "      <th>6</th>\n",
       "      <td>83</td>\n",
       "      <td>2014-01-24 14:06:48</td>\n",
       "      <td>1344.0</td>\n",
       "      <td>2014-01-24 14:06:49</td>\n",
       "      <td>1240.0</td>\n",
       "      <td>2014-01-24 14:06:49</td>\n",
       "      <td>1359.0</td>\n",
       "      <td>2014-01-24 14:06:57</td>\n",
       "      <td>1345.0</td>\n",
       "      <td>2014-01-24 14:06:58</td>\n",
       "      <td>85.0</td>\n",
       "      <td>2014-01-24 14:07:14</td>\n",
       "      <td>...</td>\n",
       "      <td>0.0</td>\n",
       "      <td>8.0</td>\n",
       "      <td>1.0</td>\n",
       "      <td>16.0</td>\n",
       "      <td>10.0</td>\n",
       "      <td>12.0</td>\n",
       "      <td>0.0</td>\n",
       "      <td>0.0</td>\n",
       "      <td>48.0</td>\n",
       "      <td>8</td>\n",
       "      <td>14</td>\n",
       "      <td>4</td>\n",
       "    </tr>\n",
       "    <tr>\n",
       "      <th>7</th>\n",
       "      <td>13585</td>\n",
       "      <td>2013-11-20 14:45:16</td>\n",
       "      <td>13585.0</td>\n",
       "      <td>2013-11-20 14:45:17</td>\n",
       "      <td>13585.0</td>\n",
       "      <td>2013-11-20 14:45:18</td>\n",
       "      <td>13585.0</td>\n",
       "      <td>2013-11-20 14:45:19</td>\n",
       "      <td>13585.0</td>\n",
       "      <td>2013-11-20 14:45:21</td>\n",
       "      <td>13585.0</td>\n",
       "      <td>2013-11-20 14:45:22</td>\n",
       "      <td>...</td>\n",
       "      <td>1.0</td>\n",
       "      <td>1.0</td>\n",
       "      <td>2.0</td>\n",
       "      <td>1.0</td>\n",
       "      <td>2.0</td>\n",
       "      <td>4.0</td>\n",
       "      <td>0.0</td>\n",
       "      <td>2.0</td>\n",
       "      <td>14.0</td>\n",
       "      <td>2</td>\n",
       "      <td>14</td>\n",
       "      <td>2</td>\n",
       "    </tr>\n",
       "    <tr>\n",
       "      <th>8</th>\n",
       "      <td>29312</td>\n",
       "      <td>2013-02-12 08:42:54</td>\n",
       "      <td>29311.0</td>\n",
       "      <td>2013-02-12 08:42:54</td>\n",
       "      <td>29312.0</td>\n",
       "      <td>2013-02-12 08:42:55</td>\n",
       "      <td>29312.0</td>\n",
       "      <td>2013-02-12 08:42:56</td>\n",
       "      <td>NaN</td>\n",
       "      <td>NaT</td>\n",
       "      <td>NaN</td>\n",
       "      <td>NaT</td>\n",
       "      <td>...</td>\n",
       "      <td>1.0</td>\n",
       "      <td>1.0</td>\n",
       "      <td>NaN</td>\n",
       "      <td>NaN</td>\n",
       "      <td>NaN</td>\n",
       "      <td>NaN</td>\n",
       "      <td>NaN</td>\n",
       "      <td>NaN</td>\n",
       "      <td>NaN</td>\n",
       "      <td>2</td>\n",
       "      <td>8</td>\n",
       "      <td>1</td>\n",
       "    </tr>\n",
       "    <tr>\n",
       "      <th>9</th>\n",
       "      <td>21</td>\n",
       "      <td>2013-11-16 13:35:17</td>\n",
       "      <td>62.0</td>\n",
       "      <td>2013-11-16 13:35:17</td>\n",
       "      <td>18.0</td>\n",
       "      <td>2013-11-16 13:35:17</td>\n",
       "      <td>1387.0</td>\n",
       "      <td>2013-11-16 13:35:17</td>\n",
       "      <td>7.0</td>\n",
       "      <td>2013-11-16 13:35:17</td>\n",
       "      <td>72.0</td>\n",
       "      <td>2013-11-16 13:35:17</td>\n",
       "      <td>...</td>\n",
       "      <td>0.0</td>\n",
       "      <td>0.0</td>\n",
       "      <td>0.0</td>\n",
       "      <td>0.0</td>\n",
       "      <td>0.0</td>\n",
       "      <td>0.0</td>\n",
       "      <td>0.0</td>\n",
       "      <td>0.0</td>\n",
       "      <td>0.0</td>\n",
       "      <td>10</td>\n",
       "      <td>13</td>\n",
       "      <td>5</td>\n",
       "    </tr>\n",
       "    <tr>\n",
       "      <th>10</th>\n",
       "      <td>1563</td>\n",
       "      <td>2014-03-02 13:23:05</td>\n",
       "      <td>1563.0</td>\n",
       "      <td>2014-03-02 13:23:08</td>\n",
       "      <td>1563.0</td>\n",
       "      <td>2014-03-02 13:23:10</td>\n",
       "      <td>1563.0</td>\n",
       "      <td>2014-03-02 13:23:11</td>\n",
       "      <td>1563.0</td>\n",
       "      <td>2014-03-02 13:23:13</td>\n",
       "      <td>1563.0</td>\n",
       "      <td>2014-03-02 13:23:14</td>\n",
       "      <td>...</td>\n",
       "      <td>2.0</td>\n",
       "      <td>1.0</td>\n",
       "      <td>2.0</td>\n",
       "      <td>1.0</td>\n",
       "      <td>2.0</td>\n",
       "      <td>1.0</td>\n",
       "      <td>1.0</td>\n",
       "      <td>1.0</td>\n",
       "      <td>14.0</td>\n",
       "      <td>1</td>\n",
       "      <td>13</td>\n",
       "      <td>6</td>\n",
       "    </tr>\n",
       "    <tr>\n",
       "      <th>11</th>\n",
       "      <td>337</td>\n",
       "      <td>2014-02-13 17:07:11</td>\n",
       "      <td>337.0</td>\n",
       "      <td>2014-02-13 17:07:16</td>\n",
       "      <td>337.0</td>\n",
       "      <td>2014-02-13 17:07:17</td>\n",
       "      <td>337.0</td>\n",
       "      <td>2014-02-13 17:07:20</td>\n",
       "      <td>13917.0</td>\n",
       "      <td>2014-02-13 17:07:21</td>\n",
       "      <td>337.0</td>\n",
       "      <td>2014-02-13 17:07:21</td>\n",
       "      <td>...</td>\n",
       "      <td>1.0</td>\n",
       "      <td>3.0</td>\n",
       "      <td>1.0</td>\n",
       "      <td>0.0</td>\n",
       "      <td>0.0</td>\n",
       "      <td>0.0</td>\n",
       "      <td>1.0</td>\n",
       "      <td>0.0</td>\n",
       "      <td>11.0</td>\n",
       "      <td>4</td>\n",
       "      <td>17</td>\n",
       "      <td>3</td>\n",
       "    </tr>\n",
       "    <tr>\n",
       "      <th>12</th>\n",
       "      <td>18</td>\n",
       "      <td>2014-02-04 08:41:26</td>\n",
       "      <td>1105.0</td>\n",
       "      <td>2014-02-04 08:41:26</td>\n",
       "      <td>1635.0</td>\n",
       "      <td>2014-02-04 08:41:26</td>\n",
       "      <td>49.0</td>\n",
       "      <td>2014-02-04 08:41:26</td>\n",
       "      <td>1104.0</td>\n",
       "      <td>2014-02-04 08:41:26</td>\n",
       "      <td>21.0</td>\n",
       "      <td>2014-02-04 08:41:27</td>\n",
       "      <td>...</td>\n",
       "      <td>0.0</td>\n",
       "      <td>0.0</td>\n",
       "      <td>0.0</td>\n",
       "      <td>1.0</td>\n",
       "      <td>0.0</td>\n",
       "      <td>3.0</td>\n",
       "      <td>4.0</td>\n",
       "      <td>1.0</td>\n",
       "      <td>9.0</td>\n",
       "      <td>9</td>\n",
       "      <td>8</td>\n",
       "      <td>1</td>\n",
       "    </tr>\n",
       "    <tr>\n",
       "      <th>13</th>\n",
       "      <td>125</td>\n",
       "      <td>2014-02-28 10:49:59</td>\n",
       "      <td>1269.0</td>\n",
       "      <td>2014-02-28 10:49:59</td>\n",
       "      <td>221.0</td>\n",
       "      <td>2014-02-28 10:49:59</td>\n",
       "      <td>49.0</td>\n",
       "      <td>2014-02-28 10:49:59</td>\n",
       "      <td>19.0</td>\n",
       "      <td>2014-02-28 10:49:59</td>\n",
       "      <td>1275.0</td>\n",
       "      <td>2014-02-28 10:49:59</td>\n",
       "      <td>...</td>\n",
       "      <td>0.0</td>\n",
       "      <td>0.0</td>\n",
       "      <td>0.0</td>\n",
       "      <td>0.0</td>\n",
       "      <td>3.0</td>\n",
       "      <td>9.0</td>\n",
       "      <td>13.0</td>\n",
       "      <td>1.0</td>\n",
       "      <td>26.0</td>\n",
       "      <td>9</td>\n",
       "      <td>10</td>\n",
       "      <td>4</td>\n",
       "    </tr>\n",
       "    <tr>\n",
       "      <th>14</th>\n",
       "      <td>11</td>\n",
       "      <td>2013-12-18 15:55:05</td>\n",
       "      <td>692.0</td>\n",
       "      <td>2013-12-18 15:55:05</td>\n",
       "      <td>227.0</td>\n",
       "      <td>2013-12-18 15:55:06</td>\n",
       "      <td>27.0</td>\n",
       "      <td>2013-12-18 15:55:06</td>\n",
       "      <td>692.0</td>\n",
       "      <td>2013-12-18 15:55:06</td>\n",
       "      <td>11.0</td>\n",
       "      <td>2013-12-18 15:55:16</td>\n",
       "      <td>...</td>\n",
       "      <td>1.0</td>\n",
       "      <td>0.0</td>\n",
       "      <td>0.0</td>\n",
       "      <td>10.0</td>\n",
       "      <td>1.0</td>\n",
       "      <td>28.0</td>\n",
       "      <td>0.0</td>\n",
       "      <td>0.0</td>\n",
       "      <td>40.0</td>\n",
       "      <td>8</td>\n",
       "      <td>15</td>\n",
       "      <td>2</td>\n",
       "    </tr>\n",
       "    <tr>\n",
       "      <th>15</th>\n",
       "      <td>7</td>\n",
       "      <td>2014-03-20 15:35:27</td>\n",
       "      <td>10.0</td>\n",
       "      <td>2014-03-20 15:35:28</td>\n",
       "      <td>11.0</td>\n",
       "      <td>2014-03-20 15:35:29</td>\n",
       "      <td>10.0</td>\n",
       "      <td>2014-03-20 15:35:46</td>\n",
       "      <td>11.0</td>\n",
       "      <td>2014-03-20 15:35:46</td>\n",
       "      <td>7.0</td>\n",
       "      <td>2014-03-20 15:35:46</td>\n",
       "      <td>...</td>\n",
       "      <td>1.0</td>\n",
       "      <td>17.0</td>\n",
       "      <td>0.0</td>\n",
       "      <td>0.0</td>\n",
       "      <td>192.0</td>\n",
       "      <td>2.0</td>\n",
       "      <td>0.0</td>\n",
       "      <td>13.0</td>\n",
       "      <td>226.0</td>\n",
       "      <td>3</td>\n",
       "      <td>15</td>\n",
       "      <td>3</td>\n",
       "    </tr>\n",
       "    <tr>\n",
       "      <th>16</th>\n",
       "      <td>91</td>\n",
       "      <td>2013-11-12 09:30:59</td>\n",
       "      <td>91.0</td>\n",
       "      <td>2013-11-12 09:31:19</td>\n",
       "      <td>91.0</td>\n",
       "      <td>2013-11-12 09:31:20</td>\n",
       "      <td>91.0</td>\n",
       "      <td>2013-11-12 09:31:21</td>\n",
       "      <td>91.0</td>\n",
       "      <td>2013-11-12 09:31:23</td>\n",
       "      <td>11.0</td>\n",
       "      <td>2013-11-12 09:31:24</td>\n",
       "      <td>...</td>\n",
       "      <td>1.0</td>\n",
       "      <td>1.0</td>\n",
       "      <td>2.0</td>\n",
       "      <td>1.0</td>\n",
       "      <td>0.0</td>\n",
       "      <td>1.0</td>\n",
       "      <td>11.0</td>\n",
       "      <td>1.0</td>\n",
       "      <td>38.0</td>\n",
       "      <td>2</td>\n",
       "      <td>9</td>\n",
       "      <td>1</td>\n",
       "    </tr>\n",
       "    <tr>\n",
       "      <th>17</th>\n",
       "      <td>303</td>\n",
       "      <td>2014-03-21 14:19:58</td>\n",
       "      <td>303.0</td>\n",
       "      <td>2014-03-21 14:20:14</td>\n",
       "      <td>303.0</td>\n",
       "      <td>2014-03-21 14:20:28</td>\n",
       "      <td>303.0</td>\n",
       "      <td>2014-03-21 14:20:44</td>\n",
       "      <td>303.0</td>\n",
       "      <td>2014-03-21 14:20:58</td>\n",
       "      <td>303.0</td>\n",
       "      <td>2014-03-21 14:21:28</td>\n",
       "      <td>...</td>\n",
       "      <td>14.0</td>\n",
       "      <td>16.0</td>\n",
       "      <td>14.0</td>\n",
       "      <td>30.0</td>\n",
       "      <td>30.0</td>\n",
       "      <td>27.0</td>\n",
       "      <td>1.0</td>\n",
       "      <td>0.0</td>\n",
       "      <td>148.0</td>\n",
       "      <td>3</td>\n",
       "      <td>14</td>\n",
       "      <td>4</td>\n",
       "    </tr>\n",
       "    <tr>\n",
       "      <th>18</th>\n",
       "      <td>5443</td>\n",
       "      <td>2014-02-21 14:39:46</td>\n",
       "      <td>5443.0</td>\n",
       "      <td>2014-02-21 14:40:19</td>\n",
       "      <td>5443.0</td>\n",
       "      <td>2014-02-21 14:40:52</td>\n",
       "      <td>5443.0</td>\n",
       "      <td>2014-02-21 14:41:25</td>\n",
       "      <td>5443.0</td>\n",
       "      <td>2014-02-21 14:41:55</td>\n",
       "      <td>5443.0</td>\n",
       "      <td>2014-02-21 14:42:25</td>\n",
       "      <td>...</td>\n",
       "      <td>33.0</td>\n",
       "      <td>33.0</td>\n",
       "      <td>30.0</td>\n",
       "      <td>30.0</td>\n",
       "      <td>30.0</td>\n",
       "      <td>32.0</td>\n",
       "      <td>30.0</td>\n",
       "      <td>30.0</td>\n",
       "      <td>281.0</td>\n",
       "      <td>1</td>\n",
       "      <td>14</td>\n",
       "      <td>4</td>\n",
       "    </tr>\n",
       "    <tr>\n",
       "      <th>19</th>\n",
       "      <td>108</td>\n",
       "      <td>2014-03-28 09:58:14</td>\n",
       "      <td>109.0</td>\n",
       "      <td>2014-03-28 09:58:14</td>\n",
       "      <td>109.0</td>\n",
       "      <td>2014-03-28 09:58:15</td>\n",
       "      <td>NaN</td>\n",
       "      <td>NaT</td>\n",
       "      <td>NaN</td>\n",
       "      <td>NaT</td>\n",
       "      <td>NaN</td>\n",
       "      <td>NaT</td>\n",
       "      <td>...</td>\n",
       "      <td>1.0</td>\n",
       "      <td>NaN</td>\n",
       "      <td>NaN</td>\n",
       "      <td>NaN</td>\n",
       "      <td>NaN</td>\n",
       "      <td>NaN</td>\n",
       "      <td>NaN</td>\n",
       "      <td>NaN</td>\n",
       "      <td>NaN</td>\n",
       "      <td>2</td>\n",
       "      <td>9</td>\n",
       "      <td>4</td>\n",
       "    </tr>\n",
       "    <tr>\n",
       "      <th>20</th>\n",
       "      <td>22</td>\n",
       "      <td>2014-01-15 16:23:37</td>\n",
       "      <td>27.0</td>\n",
       "      <td>2014-01-15 16:23:38</td>\n",
       "      <td>3033.0</td>\n",
       "      <td>2014-01-15 16:23:42</td>\n",
       "      <td>27.0</td>\n",
       "      <td>2014-01-15 16:23:43</td>\n",
       "      <td>22.0</td>\n",
       "      <td>2014-01-15 16:23:43</td>\n",
       "      <td>3033.0</td>\n",
       "      <td>2014-01-15 16:23:43</td>\n",
       "      <td>...</td>\n",
       "      <td>4.0</td>\n",
       "      <td>1.0</td>\n",
       "      <td>0.0</td>\n",
       "      <td>0.0</td>\n",
       "      <td>0.0</td>\n",
       "      <td>0.0</td>\n",
       "      <td>0.0</td>\n",
       "      <td>1.0</td>\n",
       "      <td>7.0</td>\n",
       "      <td>6</td>\n",
       "      <td>16</td>\n",
       "      <td>2</td>\n",
       "    </tr>\n",
       "  </tbody>\n",
       "</table>\n",
       "<p>20 rows × 34 columns</p>\n",
       "</div>"
      ],
      "text/plain": [
       "            site1               time1    site2               time2    site3  \\\n",
       "session_id                                                                    \n",
       "1           23713 2014-03-24 15:22:40  23720.0 2014-03-24 15:22:48  23713.0   \n",
       "2            8726 2014-04-17 14:25:58   8725.0 2014-04-17 14:25:59    665.0   \n",
       "3             303 2014-03-21 10:12:24     19.0 2014-03-21 10:12:36    303.0   \n",
       "4            1359 2013-12-13 09:52:28    925.0 2013-12-13 09:54:34   1240.0   \n",
       "5              11 2013-11-26 12:35:29     85.0 2013-11-26 12:35:31     52.0   \n",
       "6              83 2014-01-24 14:06:48   1344.0 2014-01-24 14:06:49   1240.0   \n",
       "7           13585 2013-11-20 14:45:16  13585.0 2013-11-20 14:45:17  13585.0   \n",
       "8           29312 2013-02-12 08:42:54  29311.0 2013-02-12 08:42:54  29312.0   \n",
       "9              21 2013-11-16 13:35:17     62.0 2013-11-16 13:35:17     18.0   \n",
       "10           1563 2014-03-02 13:23:05   1563.0 2014-03-02 13:23:08   1563.0   \n",
       "11            337 2014-02-13 17:07:11    337.0 2014-02-13 17:07:16    337.0   \n",
       "12             18 2014-02-04 08:41:26   1105.0 2014-02-04 08:41:26   1635.0   \n",
       "13            125 2014-02-28 10:49:59   1269.0 2014-02-28 10:49:59    221.0   \n",
       "14             11 2013-12-18 15:55:05    692.0 2013-12-18 15:55:05    227.0   \n",
       "15              7 2014-03-20 15:35:27     10.0 2014-03-20 15:35:28     11.0   \n",
       "16             91 2013-11-12 09:30:59     91.0 2013-11-12 09:31:19     91.0   \n",
       "17            303 2014-03-21 14:19:58    303.0 2014-03-21 14:20:14    303.0   \n",
       "18           5443 2014-02-21 14:39:46   5443.0 2014-02-21 14:40:19   5443.0   \n",
       "19            108 2014-03-28 09:58:14    109.0 2014-03-28 09:58:14    109.0   \n",
       "20             22 2014-01-15 16:23:37     27.0 2014-01-15 16:23:38   3033.0   \n",
       "\n",
       "                         time3    site4               time4    site5  \\\n",
       "session_id                                                             \n",
       "1          2014-03-24 15:22:48  23713.0 2014-03-24 15:22:54  23720.0   \n",
       "2          2014-04-17 14:25:59   8727.0 2014-04-17 14:25:59     45.0   \n",
       "3          2014-03-21 10:12:54    303.0 2014-03-21 10:13:01    303.0   \n",
       "4          2013-12-13 09:54:34   1360.0 2013-12-13 09:54:34   1344.0   \n",
       "5          2013-11-26 12:35:31     85.0 2013-11-26 12:35:32     11.0   \n",
       "6          2014-01-24 14:06:49   1359.0 2014-01-24 14:06:57   1345.0   \n",
       "7          2013-11-20 14:45:18  13585.0 2013-11-20 14:45:19  13585.0   \n",
       "8          2013-02-12 08:42:55  29312.0 2013-02-12 08:42:56      NaN   \n",
       "9          2013-11-16 13:35:17   1387.0 2013-11-16 13:35:17      7.0   \n",
       "10         2014-03-02 13:23:10   1563.0 2014-03-02 13:23:11   1563.0   \n",
       "11         2014-02-13 17:07:17    337.0 2014-02-13 17:07:20  13917.0   \n",
       "12         2014-02-04 08:41:26     49.0 2014-02-04 08:41:26   1104.0   \n",
       "13         2014-02-28 10:49:59     49.0 2014-02-28 10:49:59     19.0   \n",
       "14         2013-12-18 15:55:06     27.0 2013-12-18 15:55:06    692.0   \n",
       "15         2014-03-20 15:35:29     10.0 2014-03-20 15:35:46     11.0   \n",
       "16         2013-11-12 09:31:20     91.0 2013-11-12 09:31:21     91.0   \n",
       "17         2014-03-21 14:20:28    303.0 2014-03-21 14:20:44    303.0   \n",
       "18         2014-02-21 14:40:52   5443.0 2014-02-21 14:41:25   5443.0   \n",
       "19         2014-03-28 09:58:15      NaN                 NaT      NaN   \n",
       "20         2014-01-15 16:23:42     27.0 2014-01-15 16:23:43     22.0   \n",
       "\n",
       "                         time5    site6               time6  ...  time_diff_2  \\\n",
       "session_id                                                   ...                \n",
       "1          2014-03-24 15:22:54  23713.0 2014-03-24 15:22:55  ...          0.0   \n",
       "2          2014-04-17 14:25:59   8725.0 2014-04-17 14:26:01  ...          0.0   \n",
       "3          2014-03-21 10:13:24    303.0 2014-03-21 10:13:36  ...         18.0   \n",
       "4          2013-12-13 09:54:34   1359.0 2013-12-13 09:54:34  ...          0.0   \n",
       "5          2013-11-26 12:35:32     52.0 2013-11-26 12:35:32  ...          0.0   \n",
       "6          2014-01-24 14:06:58     85.0 2014-01-24 14:07:14  ...          0.0   \n",
       "7          2013-11-20 14:45:21  13585.0 2013-11-20 14:45:22  ...          1.0   \n",
       "8                          NaT      NaN                 NaT  ...          1.0   \n",
       "9          2013-11-16 13:35:17     72.0 2013-11-16 13:35:17  ...          0.0   \n",
       "10         2014-03-02 13:23:13   1563.0 2014-03-02 13:23:14  ...          2.0   \n",
       "11         2014-02-13 17:07:21    337.0 2014-02-13 17:07:21  ...          1.0   \n",
       "12         2014-02-04 08:41:26     21.0 2014-02-04 08:41:27  ...          0.0   \n",
       "13         2014-02-28 10:49:59   1275.0 2014-02-28 10:49:59  ...          0.0   \n",
       "14         2013-12-18 15:55:06     11.0 2013-12-18 15:55:16  ...          1.0   \n",
       "15         2014-03-20 15:35:46      7.0 2014-03-20 15:35:46  ...          1.0   \n",
       "16         2013-11-12 09:31:23     11.0 2013-11-12 09:31:24  ...          1.0   \n",
       "17         2014-03-21 14:20:58    303.0 2014-03-21 14:21:28  ...         14.0   \n",
       "18         2014-02-21 14:41:55   5443.0 2014-02-21 14:42:25  ...         33.0   \n",
       "19                         NaT      NaN                 NaT  ...          1.0   \n",
       "20         2014-01-15 16:23:43   3033.0 2014-01-15 16:23:43  ...          4.0   \n",
       "\n",
       "           time_diff_3  time_diff_4 time_diff_5  time_diff_6 time_diff_7  \\\n",
       "session_id                                                                 \n",
       "1                  6.0          0.0         1.0          6.0         2.0   \n",
       "2                  0.0          0.0         2.0          0.0        17.0   \n",
       "3                  7.0         23.0        12.0         18.0         7.0   \n",
       "4                  0.0          0.0         0.0          0.0         0.0   \n",
       "5                  1.0          0.0         0.0         91.0         0.0   \n",
       "6                  8.0          1.0        16.0         10.0        12.0   \n",
       "7                  1.0          2.0         1.0          2.0         4.0   \n",
       "8                  1.0          NaN         NaN          NaN         NaN   \n",
       "9                  0.0          0.0         0.0          0.0         0.0   \n",
       "10                 1.0          2.0         1.0          2.0         1.0   \n",
       "11                 3.0          1.0         0.0          0.0         0.0   \n",
       "12                 0.0          0.0         1.0          0.0         3.0   \n",
       "13                 0.0          0.0         0.0          3.0         9.0   \n",
       "14                 0.0          0.0        10.0          1.0        28.0   \n",
       "15                17.0          0.0         0.0        192.0         2.0   \n",
       "16                 1.0          2.0         1.0          0.0         1.0   \n",
       "17                16.0         14.0        30.0         30.0        27.0   \n",
       "18                33.0         30.0        30.0         30.0        32.0   \n",
       "19                 NaN          NaN         NaN          NaN         NaN   \n",
       "20                 1.0          0.0         0.0          0.0         0.0   \n",
       "\n",
       "            time_diff_8 time_diff_9  session_timespan  unique_sites  \\\n",
       "session_id                                                            \n",
       "1                   1.0         1.0              25.0             2   \n",
       "2                  29.0         1.0              50.0             6   \n",
       "3                   5.0        18.0             120.0             3   \n",
       "4                 225.0         0.0             351.0             7   \n",
       "5                   0.0         1.0              95.0             4   \n",
       "6                   0.0         0.0              48.0             8   \n",
       "7                   0.0         2.0              14.0             2   \n",
       "8                   NaN         NaN               NaN             2   \n",
       "9                   0.0         0.0               0.0            10   \n",
       "10                  1.0         1.0              14.0             1   \n",
       "11                  1.0         0.0              11.0             4   \n",
       "12                  4.0         1.0               9.0             9   \n",
       "13                 13.0         1.0              26.0             9   \n",
       "14                  0.0         0.0              40.0             8   \n",
       "15                  0.0        13.0             226.0             3   \n",
       "16                 11.0         1.0              38.0             2   \n",
       "17                  1.0         0.0             148.0             3   \n",
       "18                 30.0        30.0             281.0             1   \n",
       "19                  NaN         NaN               NaN             2   \n",
       "20                  0.0         1.0               7.0             6   \n",
       "\n",
       "            start_hour  day_of_week  \n",
       "session_id                           \n",
       "1                   15            0  \n",
       "2                   14            3  \n",
       "3                   10            4  \n",
       "4                    9            4  \n",
       "5                   12            1  \n",
       "6                   14            4  \n",
       "7                   14            2  \n",
       "8                    8            1  \n",
       "9                   13            5  \n",
       "10                  13            6  \n",
       "11                  17            3  \n",
       "12                   8            1  \n",
       "13                  10            4  \n",
       "14                  15            2  \n",
       "15                  15            3  \n",
       "16                   9            1  \n",
       "17                  14            4  \n",
       "18                  14            4  \n",
       "19                   9            4  \n",
       "20                  16            2  \n",
       "\n",
       "[20 rows x 34 columns]"
      ]
     },
     "execution_count": 135,
     "metadata": {},
     "output_type": "execute_result"
    }
   ],
   "source": [
    "train_df_400_full.head(20)"
   ]
  },
  {
   "cell_type": "code",
   "execution_count": 136,
   "metadata": {},
   "outputs": [],
   "source": [
    "import statistics"
   ]
  },
  {
   "cell_type": "code",
   "execution_count": 137,
   "metadata": {},
   "outputs": [
    {
     "name": "stdout",
     "output_type": "stream",
     "text": [
      "Медианная продолжительность сессии для сессий пользователей составляет  51.0\n"
     ]
    }
   ],
   "source": [
    "median = statistics.median(train_df_400_full.session_timespan.values)\n",
    "print('Медианная продолжительность сессии для сессий пользователей составляет ', median)"
   ]
  },
  {
   "cell_type": "code",
   "execution_count": 138,
   "metadata": {},
   "outputs": [
    {
     "name": "stdout",
     "output_type": "stream",
     "text": [
      "Медианная день недели для сессий пользователей составляет  2\n"
     ]
    }
   ],
   "source": [
    "median = statistics.median(train_df_400_full.day_of_week.values)\n",
    "print('Медианная день недели для сессий пользователей составляет ', median)"
   ]
  },
  {
   "cell_type": "code",
   "execution_count": 139,
   "metadata": {},
   "outputs": [
    {
     "name": "stdout",
     "output_type": "stream",
     "text": [
      "Медианный час для начала сессии для пользователей составляет  12\n"
     ]
    }
   ],
   "source": [
    "median = statistics.median(train_df_400_full.start_hour.values)\n",
    "print('Медианный час для начала сессии для пользователей составляет ', median)"
   ]
  },
  {
   "cell_type": "code",
   "execution_count": 140,
   "metadata": {},
   "outputs": [
    {
     "name": "stdout",
     "output_type": "stream",
     "text": [
      "Медианное значение числа уникальных сайтов для пользователей составляет  6\n"
     ]
    }
   ],
   "source": [
    "median = statistics.median(train_df_400_full['unique_sites'].values)\n",
    "print('Медианное значение числа уникальных сайтов для пользователей составляет ', median)"
   ]
  },
  {
   "cell_type": "code",
   "execution_count": 141,
   "metadata": {},
   "outputs": [],
   "source": [
    "train_df_400_full.session_timespan = train_df_400_full.session_timespan.clip(lower=0)"
   ]
  },
  {
   "cell_type": "code",
   "execution_count": 142,
   "metadata": {},
   "outputs": [],
   "source": [
    "x = train_df_400_full.session_timespan"
   ]
  },
  {
   "cell_type": "code",
   "execution_count": 143,
   "metadata": {},
   "outputs": [
    {
     "data": {
      "image/png": "[encoded data removed]",
      "text/plain": [
       "<Figure size 1080x360 with 1 Axes>"
      ]
     },
     "metadata": {
      "needs_background": "light"
     },
     "output_type": "display_data"
    }
   ],
   "source": [
    "fig, ax = plt.subplots(figsize=(15, 5))\n",
    "sns.distplot(x, bins=100, kde=False, color='darkviolet', hist_kws=dict(edgecolor=\"k\", linewidth=2))\n",
    "plt.title(\"Распределение длины сессии\")\n",
    "plt.xlabel(\"Длина сессии в секундах\")\n",
    "plt.ylabel(\"Частота\")\n",
    "plt.show()"
   ]
  },
  {
   "cell_type": "code",
   "execution_count": 144,
   "metadata": {},
   "outputs": [
    {
     "data": {
      "image/png": "[encoded data removed]",
      "text/plain": [
       "<Figure size 900x360 with 1 Axes>"
      ]
     },
     "metadata": {
      "needs_background": "light"
     },
     "output_type": "display_data"
    }
   ],
   "source": [
    "ax =sns.catplot(x=\"unique_sites\", kind=\"count\", color='aqua', data=train_df_400_full, height=5, aspect=2.5)\n",
    "plt.title(\"Распределение числа уникальных сайтов\", fontsize=12)\n",
    "plt.xlabel(\"Число\", fontsize=10)\n",
    "plt.ylabel(\"Частота\", fontsize=10)\n",
    "plt.show()"
   ]
  },
  {
   "cell_type": "code",
   "execution_count": 145,
   "metadata": {},
   "outputs": [],
   "source": [
    "train_df_400_full_top = train_df_400_full[(train_df_400_full.user_id == 149) | (train_df_400_full.user_id == 405) |\n",
    "                  (train_df_400_full.user_id == 984) | (train_df_400_full.user_id == 361) |\n",
    "                 (train_df_400_full.user_id == 884) | (train_df_400_full.user_id == 104) |\n",
    "                 (train_df_400_full.user_id == 251) | (train_df_400_full.user_id == 989) |\n",
    "                 (train_df_400_full.user_id == 48) | (train_df_400_full.user_id == 68)]"
   ]
  },
  {
   "cell_type": "code",
   "execution_count": 146,
   "metadata": {},
   "outputs": [],
   "source": [
    "color_dic = {'149': 'pink', '405': 'darkviolet', '984':'blueviolet', \n",
    "             '361': 'hotpink', '884': 'orchid', \n",
    "             '104': 'firebrick', '251': 'gold', '989': 'forestgreen', \n",
    "             '48': 'slategrey', '68':'brown'}"
   ]
  },
  {
   "cell_type": "code",
   "execution_count": 147,
   "metadata": {},
   "outputs": [
    {
     "data": {
      "image/png": "[encoded data removed]",
      "text/plain": [
       "<Figure size 1440x1440 with 10 Axes>"
      ]
     },
     "metadata": {
      "needs_background": "light"
     },
     "output_type": "display_data"
    }
   ],
   "source": [
    "list_user = list(color_dic.keys())\n",
    "\n",
    "fig, axes = plt.subplots(nrows=5, ncols=2, figsize=(20, 20))\n",
    "set_user = set(train_df_400_full_top.user_id)\n",
    "\n",
    "user = 0\n",
    "for idx, ax in enumerate(axes):\n",
    "    for i, a in enumerate(ax):\n",
    "        sns.countplot(train_df_400_full_top[train_df_400_full_top.user_id == int(list_user[user])][\"unique_sites\"],\n",
    "                      color=color_dic[list_user[user]], ax=axes[idx, i])\n",
    "        axes[idx, i].set_xlabel('Число уникальных сайтов')\n",
    "        axes[idx, i].set_ylabel('Частота')\n",
    "        axes[idx, i].legend([list_user[user]])\n",
    "        user = user + 1"
   ]
  },
  {
   "cell_type": "markdown",
   "metadata": {},
   "source": [
    "**<span style=\"color:green\">Вывел графики для топов пользователей. Как правило у топов число уникальных сайтов около 8 - 7</span>**"
   ]
  },
  {
   "cell_type": "code",
   "execution_count": 148,
   "metadata": {},
   "outputs": [
    {
     "data": {
      "image/png": "[encoded data removed]",
      "text/plain": [
       "<Figure size 900x360 with 1 Axes>"
      ]
     },
     "metadata": {
      "needs_background": "light"
     },
     "output_type": "display_data"
    }
   ],
   "source": [
    "ax =sns.catplot(x=\"start_hour\", kind=\"count\", color='darkgreen', data=train_df_400_full,\n",
    "                order = [0, 1, 2, 3, 4, 5, 6, 7, 8, 9, 10, 11, 12, 13, 14, 15, 16, 17, 18, 19, 20, 21, 22, 23],\n",
    "                height=5, aspect=2.5)\n",
    "plt.title(\"Распределение часа начала сессии\", fontsize=12)\n",
    "plt.xlabel(\"Час\", fontsize=10)\n",
    "plt.ylabel(\"Частота\", fontsize=10)\n",
    "plt.show()"
   ]
  },
  {
   "cell_type": "markdown",
   "metadata": {},
   "source": [
    "**<span style=\"color:green\">Из графика становиться понятно, что до 7 утра никто не выходит в интрнет. Максимум наблюдается на 10 утра и 14 часов дня. После 17 частота падает значительно и держиться практически на одном уровне с незначительной просадкой в 19. </span>**"
   ]
  },
  {
   "cell_type": "code",
   "execution_count": 149,
   "metadata": {},
   "outputs": [
    {
     "data": {
      "image/png": "[encoded data removed]",
      "text/plain": [
       "<Figure size 1440x1440 with 10 Axes>"
      ]
     },
     "metadata": {
      "needs_background": "light"
     },
     "output_type": "display_data"
    }
   ],
   "source": [
    "fig, axes = plt.subplots(nrows=5, ncols=2, figsize=(20, 20))\n",
    "#set_user = set(train_data_10users.target)\n",
    "\n",
    "user = 0\n",
    "for idx, ax in enumerate(axes):\n",
    "    for i, a in enumerate(ax):\n",
    "        sns.countplot(train_df_400_full_top[train_df_400_full_top.user_id == int(list_user[user])][\"start_hour\"],\n",
    "                      color=color_dic[list_user[user]], \n",
    "                      order = [0, 1, 2, 3, 4, 5, 6, 7, 8, 9, 10, 11, 12, 13, 14, 15, 16, 17, 18, 19, 20, 21, 22, 23],\n",
    "                      ax=axes[idx, i])\n",
    "        axes[idx, i].set_xlabel('Час начала сессии')\n",
    "        axes[idx, i].set_ylabel('Частота')\n",
    "        axes[idx, i].legend([list_user[user]])\n",
    "        user = user + 1"
   ]
  },
  {
   "cell_type": "markdown",
   "metadata": {},
   "source": [
    "**<span style=\"color:green\">У 6 пользователей из топа картинка распределения совпадает с общей картинкой, а у четырех более специфичное распределение. </span>**"
   ]
  },
  {
   "cell_type": "code",
   "execution_count": 150,
   "metadata": {},
   "outputs": [
    {
     "data": {
      "image/png": "[encoded data removed]",
      "text/plain": [
       "<Figure size 900x360 with 1 Axes>"
      ]
     },
     "metadata": {
      "needs_background": "light"
     },
     "output_type": "display_data"
    }
   ],
   "source": [
    "ax =sns.catplot(x=\"day_of_week\", kind=\"count\", color='sienna', data=train_df_400_full, height=5, aspect=2.5)\n",
    "plt.title(\"Распределение недели, в которую началась сессия\", fontsize=12)\n",
    "plt.xlabel(\"День недели\", fontsize=10)\n",
    "plt.ylabel(\"Частота\", fontsize=10)\n",
    "plt.show()"
   ]
  },
  {
   "cell_type": "markdown",
   "metadata": {},
   "source": [
    "**<span style=\"color:green\">У пользователей наблюдается тяга к среде. На выходных частота падает значительно. </span>**"
   ]
  },
  {
   "cell_type": "code",
   "execution_count": 151,
   "metadata": {},
   "outputs": [
    {
     "data": {
      "image/png": "[encoded data removed]",
      "text/plain": [
       "<Figure size 1440x1440 with 10 Axes>"
      ]
     },
     "metadata": {
      "needs_background": "light"
     },
     "output_type": "display_data"
    }
   ],
   "source": [
    "fig, axes = plt.subplots(nrows=5, ncols=2, figsize=(20, 20))\n",
    "\n",
    "user = 0\n",
    "for idx, ax in enumerate(axes):\n",
    "    for i, a in enumerate(ax):\n",
    "        sns.countplot(train_df_400_full_top[train_df_400_full_top.user_id == int(list_user[user])][\"day_of_week\"],\n",
    "                      color=color_dic[list_user[user]], order = [0, 1, 2, 3, 4, 5, 6], ax=axes[idx, i])\n",
    "        axes[idx, i].set_xlabel('День недели начала сессии')\n",
    "        axes[idx, i].set_ylabel('Частота')\n",
    "        axes[idx, i].legend([list_user[user]])\n",
    "        axes[idx, i].set_xticklabels(['Пн', 'Вт', 'Ср', 'Чт', 'Пт', 'Сб',  'Вс'])\n",
    "        user = user+1"
   ]
  },
  {
   "cell_type": "markdown",
   "metadata": {},
   "source": [
    "**<span style=\"color:green\">У 6 пользователей из топа наблюдается так же максимум в среду. Один проявляет интерес в субботу, что не спецефично для общей картины. </span>**"
   ]
  },
  {
   "cell_type": "code",
   "execution_count": 152,
   "metadata": {},
   "outputs": [],
   "source": [
    "top_10_sites={}\n",
    "\n",
    "index_site_test = list(count_sites_test.index)\n",
    "index_site_test.remove(0)\n",
    "for ind in index_site_test[:10]:\n",
    "    site = [k for k,v in unpickled_df.items() if v == ind][0]\n",
    "    top_10_sites[site] = count_sites_test.get(ind)"
   ]
  },
  {
   "cell_type": "code",
   "execution_count": 153,
   "metadata": {},
   "outputs": [
    {
     "data": {
      "text/plain": [
       "{'annotathon.org': 22924,\n",
       " 'www.google.fr': 18413,\n",
       " 'www.ncbi.nlm.nih.gov': 16279,\n",
       " 'www.facebook.com': 13388,\n",
       " 'www.google.com': 13356,\n",
       " 's.youtube.com': 11306,\n",
       " 'apis.google.com': 8948,\n",
       " 'www.phylogeny.fr': 7915,\n",
       " 'www.bing.com': 6869,\n",
       " 'clients1.google.com': 6236}"
      ]
     },
     "execution_count": 153,
     "metadata": {},
     "output_type": "execute_result"
    }
   ],
   "source": [
    "top_10_sites"
   ]
  },
  {
   "cell_type": "code",
   "execution_count": 154,
   "metadata": {},
   "outputs": [
    {
     "data": {
      "text/plain": [
       "[22924, 18413, 16279, 13388, 13356, 11306, 8948, 7915, 6869, 6236]"
      ]
     },
     "execution_count": 154,
     "metadata": {},
     "output_type": "execute_result"
    }
   ],
   "source": [
    "top_10_sites.values()\n",
    "[v for k,v in top_10_sites.items()]"
   ]
  },
  {
   "cell_type": "code",
   "execution_count": 155,
   "metadata": {},
   "outputs": [
    {
     "data": {
      "image/png": "[encoded data removed]",
      "text/plain": [
       "<Figure size 1080x360 with 1 Axes>"
      ]
     },
     "metadata": {
      "needs_background": "light"
     },
     "output_type": "display_data"
    }
   ],
   "source": [
    "fig, ax = plt.subplots(figsize=(15, 5))\n",
    "ax = sns.barplot(x=[k for k,v in top_10_sites.items()], y=[v for k,v in top_10_sites.items()])\n",
    "plt.xticks(rotation = 90)\n",
    "plt.title(\"Распределение частоты наиболее популярных сайтов\", fontsize=12)\n",
    "plt.xlabel(\"Сайт\", fontsize=10)\n",
    "plt.ylabel(\"Частота\", fontsize=10)\n",
    "plt.show()"
   ]
  },
  {
   "cell_type": "code",
   "execution_count": 156,
   "metadata": {},
   "outputs": [],
   "source": [
    "train_df_400_full['weekday'] = train_df_400_full['day_of_week'].apply(lambda x: 1 if x > 4 else 0)"
   ]
  },
  {
   "cell_type": "code",
   "execution_count": 157,
   "metadata": {},
   "outputs": [
    {
     "data": {
      "image/png": "[encoded data removed]",
      "text/plain": [
       "<Figure size 952.5x360 with 1 Axes>"
      ]
     },
     "metadata": {
      "needs_background": "light"
     },
     "output_type": "display_data"
    }
   ],
   "source": [
    "ax =sns.catplot(x=\"start_hour\", kind=\"count\", hue=\"weekday\", data=train_df_400_full,\n",
    "                order = [0, 1, 2, 3, 4, 5, 6, 7, 8, 9, 10, 11, 12, 13, 14, 15, 16, 17, 18, 19, 20, 21, 22, 23],\n",
    "                height=5, aspect=2.5)\n",
    "\n",
    "# title\n",
    "new_title = 'День недели'\n",
    "ax._legend.set_title(new_title)\n",
    "# replace labels\n",
    "new_labels = ['Будни', 'Выходные']\n",
    "for t, l in zip(ax._legend.texts, new_labels): t.set_text(l)"
   ]
  },
  {
   "cell_type": "code",
   "execution_count": 158,
   "metadata": {},
   "outputs": [
    {
     "data": {
      "text/plain": [
       "{'annotathon.org': 22924,\n",
       " 'www.google.fr': 18413,\n",
       " 'www.ncbi.nlm.nih.gov': 16279,\n",
       " 'www.facebook.com': 13388,\n",
       " 'www.google.com': 13356,\n",
       " 's.youtube.com': 11306,\n",
       " 'apis.google.com': 8948,\n",
       " 'www.phylogeny.fr': 7915,\n",
       " 'www.bing.com': 6869,\n",
       " 'clients1.google.com': 6236}"
      ]
     },
     "execution_count": 158,
     "metadata": {},
     "output_type": "execute_result"
    }
   ],
   "source": [
    "top_10_sites"
   ]
  },
  {
   "cell_type": "code",
   "execution_count": 159,
   "metadata": {},
   "outputs": [],
   "source": [
    "train_df_400_full_top['weekday'] = train_df_400_full_top['day_of_week'].apply(lambda x: 1 if x > 4 else 0)"
   ]
  },
  {
   "cell_type": "code",
   "execution_count": 160,
   "metadata": {},
   "outputs": [
    {
     "data": {
      "image/png": "[encoded data removed]",
      "text/plain": [
       "<Figure size 1440x1440 with 10 Axes>"
      ]
     },
     "metadata": {
      "needs_background": "light"
     },
     "output_type": "display_data"
    }
   ],
   "source": [
    "fig, axes = plt.subplots(nrows=5, ncols=2, figsize=(20, 20))\n",
    "\n",
    "user = 0\n",
    "for idx, ax in enumerate(axes):\n",
    "    for i, a in enumerate(ax):\n",
    "        sns.countplot(train_df_400_full_top[train_df_400_full_top.user_id == int(list_user[user])][\"start_hour\"], hue = 'weekday',\n",
    "                      data = train_df_400_full_top,\n",
    "                      order = [0, 1, 2, 3, 4, 5, 6, 7, 8, 9, 10, 11, 12, 13, 14, 15, 16, 17, 18, 19, 20, 21, 22, 23],\n",
    "                      ax=axes[idx, i])\n",
    "        axes[idx, i].set_xlabel('Час начала сессии ')\n",
    "        axes[idx, i].set_ylabel('Частота')\n",
    "        axes[idx, i].legend(['Будни', 'Выходные'], title = list_user[user])\n",
    "        user = user + 1"
   ]
  },
  {
   "cell_type": "markdown",
   "metadata": {},
   "source": [
    "**<span style=\"color:green\"> Расссмотрение распределения по времени в зависимости от того, выходные это дни или будние дни принес дополнительные характеристики по пользователям. У всех пользователей значительно падает частота выхода в интрнет в выходные дни. Пользователь 149 испытывает тягу выходить в интернет в вечернее время. </span>**"
   ]
  },
  {
   "cell_type": "markdown",
   "metadata": {},
   "source": [
    "## 4. Сравнение алгоритмов классификации."
   ]
  },
  {
   "cell_type": "code",
   "execution_count": 161,
   "metadata": {},
   "outputs": [],
   "source": [
    "from sklearn.model_selection import train_test_split, cross_val_score, StratifiedKFold, GridSearchCV\n",
    "from sklearn.metrics import accuracy_score, f1_score"
   ]
  },
  {
   "cell_type": "code",
   "execution_count": 170,
   "metadata": {},
   "outputs": [],
   "source": [
    "def arrays_to_vw(X, y=None, train=True, out_file='tmp.vw'):\n",
    "    X = np.nan_to_num(X)\n",
    "    X = X.astype(int)\n",
    "    \n",
    "    with open(out_file, 'w') as f:\n",
    "        print(X.shape)\n",
    "        for i in range(X.shape[0]):\n",
    "            string =  ' '.join([str(x) for x in X[i] if x != np.nan])\n",
    "            if y is None:\n",
    "                #print(\"NONE\")\n",
    "                f.write(str(1) + \" | \" + string + \"\\n\")\n",
    "            else:\n",
    "                f.write(str(y[i]) + \" | \" + string + \"\\n\")"
   ]
  },
  {
   "cell_type": "code",
   "execution_count": 171,
   "metadata": {},
   "outputs": [],
   "source": [
    "test_df_400_full = test_df_400.copy()\n",
    "#test_df_400_full = test_df_400_full.fillna(0)"
   ]
  },
  {
   "cell_type": "code",
   "execution_count": 172,
   "metadata": {},
   "outputs": [],
   "source": [
    "test_df_400_full.time1 = pd.to_datetime(test_df_400_full.time1)\n",
    "test_df_400_full.time2 = pd.to_datetime(test_df_400_full.time2)\n",
    "test_df_400_full.time3 = pd.to_datetime(test_df_400_full.time3)\n",
    "test_df_400_full.time4 = pd.to_datetime(test_df_400_full.time4)\n",
    "test_df_400_full.time5 = pd.to_datetime(test_df_400_full.time5)\n",
    "test_df_400_full.time6 = pd.to_datetime(test_df_400_full.time6)\n",
    "test_df_400_full.time7 = pd.to_datetime(test_df_400_full.time7)\n",
    "test_df_400_full.time8 = pd.to_datetime(test_df_400_full.time8)\n",
    "test_df_400_full.time9 = pd.to_datetime(test_df_400_full.time9)\n",
    "test_df_400_full.time10 = pd.to_datetime(test_df_400_full.time10)"
   ]
  },
  {
   "cell_type": "code",
   "execution_count": 173,
   "metadata": {},
   "outputs": [],
   "source": [
    "test_df_400_full['time_diff_1'] = (test_df_400_full.time2 - test_df_400_full.time1)/np.timedelta64(1,'s')\n",
    "test_df_400_full['time_diff_2'] = (test_df_400_full.time3 - test_df_400_full.time2)/np.timedelta64(1,'s')\n",
    "test_df_400_full['time_diff_3'] = (test_df_400_full.time4 - test_df_400_full.time3)/np.timedelta64(1,'s')\n",
    "test_df_400_full['time_diff_4'] = (test_df_400_full.time5 - test_df_400_full.time4)/np.timedelta64(1,'s')\n",
    "test_df_400_full['time_diff_5'] = (test_df_400_full.time6 - test_df_400_full.time5)/np.timedelta64(1,'s')\n",
    "test_df_400_full['time_diff_6'] = (test_df_400_full.time7 - test_df_400_full.time6)/np.timedelta64(1,'s')\n",
    "test_df_400_full['time_diff_7'] = (test_df_400_full.time8 - test_df_400_full.time7)/np.timedelta64(1,'s')\n",
    "test_df_400_full['time_diff_8'] = (test_df_400_full.time9 - test_df_400_full.time8)/np.timedelta64(1,'s')\n",
    "test_df_400_full['time_diff_9'] = (test_df_400_full.time10 - test_df_400_full.time9)/np.timedelta64(1,'s')\n",
    "\n",
    "test_df_400_full['session_timespan'] = test_df_400_full['time_diff_1'] + test_df_400_full['time_diff_2'] + \\\n",
    "test_df_400_full['time_diff_3'] + test_df_400_full['time_diff_4'] + test_df_400_full['time_diff_5'] + \\\n",
    "test_df_400_full['time_diff_6'] + test_df_400_full['time_diff_7'] + test_df_400_full['time_diff_8'] + \\\n",
    "test_df_400_full['time_diff_9'] "
   ]
  },
  {
   "cell_type": "code",
   "execution_count": 174,
   "metadata": {},
   "outputs": [],
   "source": [
    "test_df_400_full['unique_sites'] = test_df_400_full[sites].apply(pd.Series.nunique, axis=1)"
   ]
  },
  {
   "cell_type": "code",
   "execution_count": 175,
   "metadata": {},
   "outputs": [],
   "source": [
    "test_df_400_full['start_hour'] = test_df_400_full.time1.dt.hour"
   ]
  },
  {
   "cell_type": "code",
   "execution_count": 176,
   "metadata": {},
   "outputs": [],
   "source": [
    "test_df_400_full['day_of_week'] = test_df_400_full.time1.dt.weekday"
   ]
  },
  {
   "cell_type": "code",
   "execution_count": 177,
   "metadata": {},
   "outputs": [],
   "source": [
    "test_df_400_full_site = test_df_400_full.drop(['time1', 'time2', 'time3', 'time4', 'time5', 'time6', 'time7', 'time8', 'time9', 'time10'], axis=1)"
   ]
  },
  {
   "cell_type": "code",
   "execution_count": 178,
   "metadata": {},
   "outputs": [
    {
     "name": "stdout",
     "output_type": "stream",
     "text": [
      "(182793, 24)\n",
      "(46473, 23)\n"
     ]
    }
   ],
   "source": [
    "arrays_to_vw(train_df_400_full_site.values, y_for_vw, True, 'kaggle_data_final/train_part.vw')\n",
    "arrays_to_vw(test_df_400_full_site.values, None, False, 'kaggle_data_final/test.vw')"
   ]
  },
  {
   "cell_type": "code",
   "execution_count": 179,
   "metadata": {},
   "outputs": [
    {
     "name": "stdout",
     "output_type": "stream",
     "text": [
      "final_regressor = kaggle_data_final_result/model.vw\n",
      "Num weight bits = 26\n",
      "learning rate = 0.5\n",
      "initial_t = 0\n",
      "power_t = 0.5\n",
      "decay_learning_rate = 1\n",
      "creating cache_file = kaggle_data_final/train_part.vw.cache\n",
      "Reading datafile = kaggle_data_final/train_part.vw\n",
      "num sources = 1\n",
      "average  since         example        example  current  current  current\n",
      "loss     last          counter         weight    label  predict features\n",
      "1.000000 1.000000            1            1.0      262        1       25\n",
      "1.000000 1.000000            2            2.0       82      262       25\n",
      "1.000000 1.000000            4            4.0      241       82       25\n",
      "1.000000 1.000000            8            8.0      352      106       25\n",
      "1.000000 1.000000           16           16.0      135       16       25\n",
      "1.000000 1.000000           32           32.0       71      112       25\n",
      "0.984375 0.968750           64           64.0      358      162       25\n",
      "0.992188 1.000000          128          128.0      348      345       25\n",
      "0.964844 0.937500          256          256.0      202       99       25\n",
      "0.962891 0.960938          512          512.0       30      128       25\n",
      "0.945312 0.927734         1024         1024.0       36      290       25\n",
      "0.890137 0.834961         2048         2048.0       21      337       25\n",
      "0.814453 0.738770         4096         4096.0       80      229       25\n",
      "0.702271 0.590088         8192         8192.0      307      144       25\n",
      "0.558899 0.415527        16384        16384.0       59       59       25\n",
      "0.393860 0.228821        32768        32768.0      262      262       25\n",
      "0.257050 0.120239        65536        65536.0      171      171       25\n",
      "0.164574 0.072098       131072       131072.0      180      180       25\n",
      "0.108631 0.108631       262144       262144.0       88       88       25 h\n",
      "\n",
      "finished run\n",
      "number of examples per pass = 164514\n",
      "passes used = 3\n",
      "weighted example sum = 493542.000000\n",
      "weighted label sum = 0.000000\n",
      "average loss = 0.049674 h\n",
      "total feature number = 12338550\n"
     ]
    }
   ],
   "source": [
    "!vw --oaa 400 --passes 3 -c -k kaggle_data_final/train_part.vw -b 26 -f  kaggle_data_final_result/model.vw "
   ]
  },
  {
   "cell_type": "code",
   "execution_count": 180,
   "metadata": {},
   "outputs": [
    {
     "name": "stdout",
     "output_type": "stream",
     "text": [
      "only testing\n",
      "predictions = kaggle_data_final_result/vw_valid_pred_final.csv\n",
      "Num weight bits = 26\n",
      "learning rate = 0.5\n",
      "initial_t = 0\n",
      "power_t = 0.5\n",
      "using no cache\n",
      "Reading datafile = kaggle_data_final/test.vw\n",
      "num sources = 1\n",
      "average  since         example        example  current  current  current\n",
      "loss     last          counter         weight    label  predict features\n",
      "1.000000 1.000000            1            1.0        1       25       24\n",
      "1.000000 1.000000            2            2.0        1       21       24\n",
      "1.000000 1.000000            4            4.0        1       36       24\n",
      "1.000000 1.000000            8            8.0        1       16       24\n",
      "1.000000 1.000000           16           16.0        1      144       24\n",
      "1.000000 1.000000           32           32.0        1       49       24\n",
      "0.937500 0.875000           64           64.0        1      272       24\n",
      "0.960938 0.984375          128          128.0        1       18       24\n",
      "0.972656 0.984375          256          256.0        1       27       24\n",
      "0.974609 0.976562          512          512.0        1      297       24\n",
      "0.978516 0.982422         1024         1024.0        1      202       24\n",
      "0.979492 0.980469         2048         2048.0        1      396       24\n",
      "0.978516 0.977539         4096         4096.0        1      126       24\n",
      "0.978271 0.978027         8192         8192.0        1       20       24\n",
      "0.978027 0.977783        16384        16384.0        1       37       24\n",
      "0.976898 0.975769        32768        32768.0        1      126       24\n",
      "\n",
      "finished run\n",
      "number of examples = 46473\n",
      "weighted example sum = 46473.000000\n",
      "weighted label sum = 0.000000\n",
      "average loss = 0.977449\n",
      "total feature number = 1115352\n"
     ]
    }
   ],
   "source": [
    "!vw -t -i kaggle_data_final_result/model.vw kaggle_data_final/test.vw -p kaggle_data_final_result/vw_valid_pred_final.csv"
   ]
  },
  {
   "cell_type": "code",
   "execution_count": 181,
   "metadata": {},
   "outputs": [],
   "source": [
    "y_pred = pd.read_csv('kaggle_data_final_result/vw_valid_pred_final.csv', header=None)"
   ]
  },
  {
   "cell_type": "code",
   "execution_count": 182,
   "metadata": {},
   "outputs": [],
   "source": [
    "data = range(1, len(y_pred)+1)\n",
    "df = pd.DataFrame(pd.Series(data), columns=['session_id'])\n",
    "df['user_id'] = class_encoder.inverse_transform((y_pred-1).values.ravel())\n",
    "df = df.set_index('session_id')\n",
    "df.to_csv('kaggle_data_final_result/first_vw_submission_final.csv', index_label=\"session_id\")"
   ]
  },
  {
   "cell_type": "markdown",
   "metadata": {},
   "source": [
    "**Результат на kaggle 0.10793**"
   ]
  },
  {
   "cell_type": "code",
   "execution_count": 187,
   "metadata": {},
   "outputs": [],
   "source": [
    "train_df_400_full_site = train_df_400_full_site.fillna(0)\n",
    "test_df_400_full_site = test_df_400_full_site.fillna(0)"
   ]
  },
  {
   "cell_type": "code",
   "execution_count": 188,
   "metadata": {},
   "outputs": [],
   "source": [
    "site_nine_train = train_df_400_full_site[sites].iloc[:,0:9]\n",
    "time_nine_train = train_df_400_full_site.iloc[:,11:20].astype(int)\n",
    "site_nine_test = test_df_400_full_site[sites].iloc[:,0:9]\n",
    "time_nine_test = test_df_400_full_site.iloc[:,11:20].astype(int)"
   ]
  },
  {
   "cell_type": "code",
   "execution_count": 189,
   "metadata": {},
   "outputs": [
    {
     "data": {
      "text/html": [
       "<div>\n",
       "<style scoped>\n",
       "    .dataframe tbody tr th:only-of-type {\n",
       "        vertical-align: middle;\n",
       "    }\n",
       "\n",
       "    .dataframe tbody tr th {\n",
       "        vertical-align: top;\n",
       "    }\n",
       "\n",
       "    .dataframe thead th {\n",
       "        text-align: right;\n",
       "    }\n",
       "</style>\n",
       "<table border=\"1\" class=\"dataframe\">\n",
       "  <thead>\n",
       "    <tr style=\"text-align: right;\">\n",
       "      <th></th>\n",
       "      <th>time_diff_1</th>\n",
       "      <th>time_diff_2</th>\n",
       "      <th>time_diff_3</th>\n",
       "      <th>time_diff_4</th>\n",
       "      <th>time_diff_5</th>\n",
       "      <th>time_diff_6</th>\n",
       "      <th>time_diff_7</th>\n",
       "      <th>time_diff_8</th>\n",
       "      <th>time_diff_9</th>\n",
       "    </tr>\n",
       "    <tr>\n",
       "      <th>session_id</th>\n",
       "      <th></th>\n",
       "      <th></th>\n",
       "      <th></th>\n",
       "      <th></th>\n",
       "      <th></th>\n",
       "      <th></th>\n",
       "      <th></th>\n",
       "      <th></th>\n",
       "      <th></th>\n",
       "    </tr>\n",
       "  </thead>\n",
       "  <tbody>\n",
       "    <tr>\n",
       "      <th>1</th>\n",
       "      <td>8</td>\n",
       "      <td>0</td>\n",
       "      <td>6</td>\n",
       "      <td>0</td>\n",
       "      <td>1</td>\n",
       "      <td>6</td>\n",
       "      <td>2</td>\n",
       "      <td>1</td>\n",
       "      <td>1</td>\n",
       "    </tr>\n",
       "    <tr>\n",
       "      <th>2</th>\n",
       "      <td>1</td>\n",
       "      <td>0</td>\n",
       "      <td>0</td>\n",
       "      <td>0</td>\n",
       "      <td>2</td>\n",
       "      <td>0</td>\n",
       "      <td>17</td>\n",
       "      <td>29</td>\n",
       "      <td>1</td>\n",
       "    </tr>\n",
       "    <tr>\n",
       "      <th>3</th>\n",
       "      <td>12</td>\n",
       "      <td>18</td>\n",
       "      <td>7</td>\n",
       "      <td>23</td>\n",
       "      <td>12</td>\n",
       "      <td>18</td>\n",
       "      <td>7</td>\n",
       "      <td>5</td>\n",
       "      <td>18</td>\n",
       "    </tr>\n",
       "    <tr>\n",
       "      <th>4</th>\n",
       "      <td>126</td>\n",
       "      <td>0</td>\n",
       "      <td>0</td>\n",
       "      <td>0</td>\n",
       "      <td>0</td>\n",
       "      <td>0</td>\n",
       "      <td>0</td>\n",
       "      <td>225</td>\n",
       "      <td>0</td>\n",
       "    </tr>\n",
       "    <tr>\n",
       "      <th>5</th>\n",
       "      <td>2</td>\n",
       "      <td>0</td>\n",
       "      <td>1</td>\n",
       "      <td>0</td>\n",
       "      <td>0</td>\n",
       "      <td>91</td>\n",
       "      <td>0</td>\n",
       "      <td>0</td>\n",
       "      <td>1</td>\n",
       "    </tr>\n",
       "  </tbody>\n",
       "</table>\n",
       "</div>"
      ],
      "text/plain": [
       "            time_diff_1  time_diff_2  time_diff_3  time_diff_4  time_diff_5  \\\n",
       "session_id                                                                    \n",
       "1                     8            0            6            0            1   \n",
       "2                     1            0            0            0            2   \n",
       "3                    12           18            7           23           12   \n",
       "4                   126            0            0            0            0   \n",
       "5                     2            0            1            0            0   \n",
       "\n",
       "            time_diff_6  time_diff_7  time_diff_8  time_diff_9  \n",
       "session_id                                                      \n",
       "1                     6            2            1            1  \n",
       "2                     0           17           29            1  \n",
       "3                    18            7            5           18  \n",
       "4                     0            0          225            0  \n",
       "5                    91            0            0            1  "
      ]
     },
     "execution_count": 189,
     "metadata": {},
     "output_type": "execute_result"
    }
   ],
   "source": [
    "time_nine_train.head()"
   ]
  },
  {
   "cell_type": "code",
   "execution_count": 190,
   "metadata": {},
   "outputs": [],
   "source": [
    "def arrays_to_vw_2(X1, X2, y=None, train=True, out_file='tmp.vw'):\n",
    "    X1 = np.nan_to_num(X1)\n",
    "    X2 = np.nan_to_num(X2)\n",
    "    X1 = X1.astype(int)\n",
    "    X2 = X2.astype(int)\n",
    "    \n",
    "    with open(out_file, 'w') as f:\n",
    "        print(X1.shape, X2.shape)\n",
    "        for i in range(X1.shape[0]):\n",
    "            string = []\n",
    "            for x in zip(X1[i], X2[i]):\n",
    "                string.append(str(x[0])+\":\"+ str(x[1]))\n",
    "            string_result =  ' '.join([str(x) for x in string]) \n",
    "            #print(string)\n",
    "            if y is None:\n",
    "                #print(\"NONE\")\n",
    "                f.write(str(1) + \" | \" + string_result + \"\\n\")\n",
    "            else:\n",
    "                f.write(str(y[i]) + \" | \" + string_result + \"\\n\")"
   ]
  },
  {
   "cell_type": "code",
   "execution_count": 191,
   "metadata": {},
   "outputs": [
    {
     "name": "stdout",
     "output_type": "stream",
     "text": [
      "(182793, 9) (182793, 9)\n",
      "(46473, 9) (46473, 9)\n"
     ]
    }
   ],
   "source": [
    "arrays_to_vw_2(site_nine_train.values, time_nine_train.values, y_for_vw, True, 'kaggle_data_final/train_part_2.vw')\n",
    "arrays_to_vw_2(site_nine_test.values, time_nine_test.values, None, False, 'kaggle_data_final/test_2.vw')"
   ]
  },
  {
   "cell_type": "code",
   "execution_count": 192,
   "metadata": {},
   "outputs": [
    {
     "name": "stdout",
     "output_type": "stream",
     "text": [
      "262 | 23713:8 23720:0 23713:6 23713:0 23720:1 23713:6 23713:2 23713:1 23713:1\r\n",
      "82 | 8726:1 8725:0 665:0 8727:0 45:2 8725:0 45:17 5320:29 5320:1\r\n",
      "16 | 303:12 19:18 303:7 303:23 303:12 303:18 303:7 309:5 303:18\r\n"
     ]
    }
   ],
   "source": [
    "!head -3 kaggle_data_final/train_part_2.vw"
   ]
  },
  {
   "cell_type": "code",
   "execution_count": 193,
   "metadata": {},
   "outputs": [
    {
     "name": "stdout",
     "output_type": "stream",
     "text": [
      "1 | 9:179 304:0 308:0 307:1 91:117 308:59 312:61 300:120 305:588\r\n",
      "1 | 838:0 504:0 68:0 11:2 838:1 11:1 838:0 886:0 27:5\r\n",
      "1 | 190:0 192:0 8:1 189:0 191:0 189:0 190:0 2375:0 192:1\r\n"
     ]
    }
   ],
   "source": [
    "!head -3 kaggle_data_final/test_2.vw"
   ]
  },
  {
   "cell_type": "code",
   "execution_count": 194,
   "metadata": {},
   "outputs": [
    {
     "name": "stdout",
     "output_type": "stream",
     "text": [
      "final_regressor = kaggle_data_final_result/model_2.vw\n",
      "Num weight bits = 26\n",
      "learning rate = 0.5\n",
      "initial_t = 0\n",
      "power_t = 0.5\n",
      "decay_learning_rate = 1\n",
      "creating cache_file = kaggle_data_final/train_part_2.vw.cache\n",
      "Reading datafile = kaggle_data_final/train_part_2.vw\n",
      "num sources = 1\n",
      "average  since         example        example  current  current  current\n",
      "loss     last          counter         weight    label  predict features\n",
      "1.000000 1.000000            1            1.0      262        1        8\n",
      "1.000000 1.000000            2            2.0       82      262        6\n",
      "1.000000 1.000000            4            4.0      241      262        3\n",
      "1.000000 1.000000            8            8.0      352      262        3\n",
      "1.000000 1.000000           16           16.0      135       16        9\n",
      "1.000000 1.000000           32           32.0       71      112        5\n",
      "0.953125 0.906250           64           64.0      358       99        8\n",
      "0.976562 1.000000          128          128.0      348      281        6\n",
      "0.949219 0.921875          256          256.0      202       59        1\n",
      "0.953125 0.957031          512          512.0       30      295        4\n",
      "0.958008 0.962891         1024         1024.0       36      290       10\n",
      "0.945312 0.932617         2048         2048.0       21       21        7\n",
      "0.929199 0.913086         4096         4096.0       80      183        7\n",
      "0.911255 0.893311         8192         8192.0      307       42        6\n",
      "0.889160 0.867065        16384        16384.0       59       59        8\n",
      "0.869415 0.849670        32768        32768.0      262       30        9\n",
      "0.846237 0.823059        65536        65536.0      171      244        8\n",
      "0.824417 0.802597       131072       131072.0      180       11        7\n",
      "0.795750 0.795750       262144       262144.0       88      181        9 h\n",
      "\n",
      "finished run\n",
      "number of examples per pass = 164514\n",
      "passes used = 3\n",
      "weighted example sum = 493542.000000\n",
      "weighted label sum = 0.000000\n",
      "average loss = 0.752941 h\n",
      "total feature number = 3095421\n"
     ]
    }
   ],
   "source": [
    "!vw --oaa 400 --passes 3 -c -k kaggle_data_final/train_part_2.vw -b 26 -f  kaggle_data_final_result/model_2.vw "
   ]
  },
  {
   "cell_type": "code",
   "execution_count": 195,
   "metadata": {},
   "outputs": [
    {
     "name": "stdout",
     "output_type": "stream",
     "text": [
      "only testing\n",
      "predictions = kaggle_data_final_result/vw_valid_pred_final_2.csv\n",
      "Num weight bits = 26\n",
      "learning rate = 0.5\n",
      "initial_t = 0\n",
      "power_t = 0.5\n",
      "using no cache\n",
      "Reading datafile = kaggle_data_final/test_2.vw\n",
      "num sources = 1\n",
      "average  since         example        example  current  current  current\n",
      "loss     last          counter         weight    label  predict features\n",
      "1.000000 1.000000            1            1.0        1      357        8\n",
      "1.000000 1.000000            2            2.0        1       30        5\n",
      "1.000000 1.000000            4            4.0        1      265       10\n",
      "1.000000 1.000000            8            8.0        1      117        7\n",
      "1.000000 1.000000           16           16.0        1      358       10\n",
      "1.000000 1.000000           32           32.0        1      265        8\n",
      "0.984375 0.968750           64           64.0        1      397        3\n",
      "0.984375 0.984375          128          128.0        1      144        1\n",
      "0.984375 0.984375          256          256.0        1      144        1\n",
      "0.990234 0.996094          512          512.0        1      237        6\n",
      "0.991211 0.992188         1024         1024.0        1      202        3\n",
      "0.990723 0.990234         2048         2048.0        1      181        7\n",
      "0.990479 0.990234         4096         4096.0        1      162        4\n",
      "0.992920 0.995361         8192         8192.0        1      277        7\n",
      "0.991760 0.990601        16384        16384.0        1       37        8\n",
      "0.991211 0.990662        32768        32768.0        1      345        6\n",
      "\n",
      "finished run\n",
      "number of examples = 46473\n",
      "weighted example sum = 46473.000000\n",
      "weighted label sum = 0.000000\n",
      "average loss = 0.991457\n",
      "total feature number = 315932\n"
     ]
    }
   ],
   "source": [
    "!vw -t -i kaggle_data_final_result/model_2.vw kaggle_data_final/test_2.vw -p kaggle_data_final_result/vw_valid_pred_final_2.csv"
   ]
  },
  {
   "cell_type": "code",
   "execution_count": 196,
   "metadata": {},
   "outputs": [],
   "source": [
    "y_pred = pd.read_csv('kaggle_data_final_result/vw_valid_pred_final_2.csv', header=None)"
   ]
  },
  {
   "cell_type": "code",
   "execution_count": 197,
   "metadata": {},
   "outputs": [],
   "source": [
    "data = range(1, len(y_pred)+1)\n",
    "df = pd.DataFrame(pd.Series(data), columns=['session_id'])\n",
    "df['user_id'] = class_encoder.inverse_transform((y_pred-1).values.ravel())\n",
    "df = df.set_index('session_id')\n",
    "df.to_csv('kaggle_data_final_result/second_vw_submission_final.csv', index_label=\"session_id\")"
   ]
  },
  {
   "cell_type": "markdown",
   "metadata": {},
   "source": [
    "**Результат на kaggle 0.10475**"
   ]
  },
  {
   "cell_type": "markdown",
   "metadata": {},
   "source": [
    "**Решил, что хватит каждый раз загружать и надо проверять сначало локально**"
   ]
  },
  {
   "cell_type": "code",
   "execution_count": 198,
   "metadata": {},
   "outputs": [],
   "source": [
    "train_share = int(.7 * site_nine_train.shape[0])\n",
    "train_df_part_site = site_nine_train.iloc[:train_share, :]\n",
    "train_df_part_time = time_nine_train.iloc[:train_share, :]\n",
    "valid_df_site = site_nine_train.iloc[train_share:, :]\n",
    "valid_df_time = time_nine_train.iloc[train_share:, :]"
   ]
  },
  {
   "cell_type": "code",
   "execution_count": 199,
   "metadata": {},
   "outputs": [],
   "source": [
    "train_share = int(.7 * y_for_vw.shape[0])\n",
    "y_train_part_for_vw = y_for_vw[:train_share]\n",
    "y_valid_for_vw = y_for_vw[train_share:]"
   ]
  },
  {
   "cell_type": "code",
   "execution_count": 200,
   "metadata": {},
   "outputs": [
    {
     "name": "stdout",
     "output_type": "stream",
     "text": [
      "(127955, 9) (127955, 9)\n",
      "(54838, 9) (54838, 9)\n"
     ]
    }
   ],
   "source": [
    "arrays_to_vw_2(train_df_part_site.values, train_df_part_time.values, y_for_vw, True, 'kaggle_data_final/train_part_loc.vw')\n",
    "arrays_to_vw_2(valid_df_site.values, valid_df_time.values, None, False, 'kaggle_data_final/test_loc.vw')"
   ]
  },
  {
   "cell_type": "code",
   "execution_count": 209,
   "metadata": {},
   "outputs": [
    {
     "name": "stdout",
     "output_type": "stream",
     "text": [
      "final_regressor = kaggle_data_final_result/model_loc.vw\n",
      "Num weight bits = 26\n",
      "learning rate = 0.5\n",
      "initial_t = 0\n",
      "power_t = 0.5\n",
      "decay_learning_rate = 1\n",
      "creating cache_file = kaggle_data_final/train_part_loc.vw.cache\n",
      "Reading datafile = kaggle_data_final/train_part_loc.vw\n",
      "num sources = 1\n",
      "average  since         example        example  current  current  current\n",
      "loss     last          counter         weight    label  predict features\n",
      "1.000000 1.000000            1            1.0      262        1        8\n",
      "1.000000 1.000000            2            2.0       82      262        6\n",
      "1.000000 1.000000            4            4.0      241      262        3\n",
      "1.000000 1.000000            8            8.0      352      262        3\n",
      "1.000000 1.000000           16           16.0      135       16        9\n",
      "1.000000 1.000000           32           32.0       71      112        5\n",
      "0.953125 0.906250           64           64.0      358       99        8\n",
      "0.976562 1.000000          128          128.0      348      281        6\n",
      "0.949219 0.921875          256          256.0      202       59        1\n",
      "0.953125 0.957031          512          512.0       30      295        4\n",
      "0.958008 0.962891         1024         1024.0       36      290       10\n",
      "0.945312 0.932617         2048         2048.0       21       21        7\n",
      "0.929199 0.913086         4096         4096.0       80      183        7\n",
      "0.911255 0.893311         8192         8192.0      307       42        6\n",
      "0.889160 0.867065        16384        16384.0       59       59        8\n",
      "0.869415 0.849670        32768        32768.0      262       30        9\n",
      "0.846237 0.823059        65536        65536.0      171      244        8\n",
      "0.820629 0.820629       131072       131072.0        6      137        2 h\n",
      "0.796361 0.772094       262144       262144.0       12      115        5 h\n",
      "\n",
      "finished run\n",
      "number of examples per pass = 115160\n",
      "passes used = 3\n",
      "weighted example sum = 345480.000000\n",
      "weighted label sum = 0.000000\n",
      "average loss = 0.767331 h\n",
      "total feature number = 2167716\n"
     ]
    }
   ],
   "source": [
    "!vw --oaa 400 --passes 3 -c -k kaggle_data_final/train_part_loc.vw -b 26 -f  kaggle_data_final_result/model_loc.vw "
   ]
  },
  {
   "cell_type": "code",
   "execution_count": 210,
   "metadata": {},
   "outputs": [
    {
     "name": "stdout",
     "output_type": "stream",
     "text": [
      "only testing\n",
      "predictions = kaggle_data_final_result/vw_valid_pred_final_loc.csv\n",
      "Num weight bits = 26\n",
      "learning rate = 0.5\n",
      "initial_t = 0\n",
      "power_t = 0.5\n",
      "using no cache\n",
      "Reading datafile = kaggle_data_final/test_loc.vw\n",
      "num sources = 1\n",
      "average  since         example        example  current  current  current\n",
      "loss     last          counter         weight    label  predict features\n",
      "1.000000 1.000000            1            1.0        1      188        8\n",
      "1.000000 1.000000            2            2.0        1      162        5\n",
      "1.000000 1.000000            4            4.0        1      143        6\n",
      "1.000000 1.000000            8            8.0        1      387        8\n",
      "1.000000 1.000000           16           16.0        1      162        2\n",
      "1.000000 1.000000           32           32.0        1      237       10\n",
      "1.000000 1.000000           64           64.0        1      178        6\n",
      "1.000000 1.000000          128          128.0        1       21        9\n",
      "0.996094 0.992188          256          256.0        1       14        5\n",
      "0.998047 1.000000          512          512.0        1      370        8\n",
      "0.996094 0.994141         1024         1024.0        1      189        5\n",
      "0.997559 0.999023         2048         2048.0        1      311        8\n",
      "0.997314 0.997070         4096         4096.0        1      162        2\n",
      "0.997559 0.997803         8192         8192.0        1       25        8\n",
      "0.997070 0.996582        16384        16384.0        1      211        5\n",
      "0.997101 0.997131        32768        32768.0        1      248       10\n",
      "\n",
      "finished run\n",
      "number of examples = 54838\n",
      "weighted example sum = 54838.000000\n",
      "weighted label sum = 0.000000\n",
      "average loss = 0.997374\n",
      "total feature number = 343888\n"
     ]
    }
   ],
   "source": [
    "!vw -t -i kaggle_data_final_result/model_loc.vw kaggle_data_final/test_loc.vw -p kaggle_data_final_result/vw_valid_pred_final_loc.csv"
   ]
  },
  {
   "cell_type": "code",
   "execution_count": 211,
   "metadata": {},
   "outputs": [],
   "source": [
    "y_pred = pd.read_csv('kaggle_data_final_result/vw_valid_pred_final_loc.csv', header=None)"
   ]
  },
  {
   "cell_type": "code",
   "execution_count": 212,
   "metadata": {},
   "outputs": [
    {
     "data": {
      "text/plain": [
       "0.23644188336554944"
      ]
     },
     "execution_count": 212,
     "metadata": {},
     "output_type": "execute_result"
    }
   ],
   "source": [
    "accuracy_score(y_pred.values, y_valid_for_vw)"
   ]
  },
  {
   "cell_type": "markdown",
   "metadata": {},
   "source": [
    "--sgd 0.005507130092271782"
   ]
  },
  {
   "cell_type": "markdown",
   "metadata": {},
   "source": [
    "--normalized 0.14603012509573654"
   ]
  },
  {
   "cell_type": "markdown",
   "metadata": {},
   "source": [
    "--invariant 0.1611291440242168"
   ]
  },
  {
   "cell_type": "markdown",
   "metadata": {},
   "source": [
    "--conjugate_gradient 0.18425179619971552"
   ]
  },
  {
   "cell_type": "markdown",
   "metadata": {},
   "source": [
    "--ftrl 0.09141471242569021"
   ]
  },
  {
   "cell_type": "markdown",
   "metadata": {},
   "source": [
    "full 0.1976366752981509"
   ]
  },
  {
   "cell_type": "code",
   "execution_count": 213,
   "metadata": {},
   "outputs": [],
   "source": []
  },
  {
   "cell_type": "code",
   "execution_count": null,
   "metadata": {},
   "outputs": [],
   "source": []
  },
  {
   "cell_type": "code",
   "execution_count": 215,
   "metadata": {},
   "outputs": [
    {
     "name": "stdout",
     "output_type": "stream",
     "text": [
      "only testing\n",
      "predictions = kaggle_data_final_result/vw_valid_pred_final_loc.csv\n",
      "Num weight bits = 26\n",
      "learning rate = 0.5\n",
      "initial_t = 0\n",
      "power_t = 0.5\n",
      "using no cache\n",
      "Reading datafile = kaggle_data_final/test.vw\n",
      "num sources = 1\n",
      "average  since         example        example  current  current  current\n",
      "loss     last          counter         weight    label  predict features\n",
      "0.000000 0.000000            1            1.0        1        1       24\n",
      "0.500000 1.000000            2            2.0        1       21       24\n",
      "0.500000 0.500000            4            4.0        1        1       24\n",
      "0.625000 0.750000            8            8.0        1       71       24\n",
      "0.562500 0.500000           16           16.0        1        1       24\n",
      "0.625000 0.687500           32           32.0        1        1       24\n",
      "0.671875 0.718750           64           64.0        1      338       24\n",
      "0.632812 0.593750          128          128.0        1       96       24\n",
      "0.613281 0.593750          256          256.0        1       83       24\n",
      "0.615234 0.617188          512          512.0        1      107       24\n",
      "0.614258 0.613281         1024         1024.0        1      202       24\n",
      "0.617676 0.621094         2048         2048.0        1      181       24\n",
      "0.616455 0.615234         4096         4096.0        1        1       24\n",
      "0.614868 0.613281         8192         8192.0        1        1       24\n",
      "0.615112 0.615356        16384        16384.0        1        1       24\n",
      "0.615967 0.616821        32768        32768.0        1        1       24\n",
      "\n",
      "finished run\n",
      "number of examples = 46473\n",
      "weighted example sum = 46473.000000\n",
      "weighted label sum = 0.000000\n",
      "average loss = 0.617821\n",
      "total feature number = 1115352\n"
     ]
    }
   ],
   "source": [
    "!vw -t -i kaggle_data_final_result/model_loc.vw kaggle_data_final/test.vw -p kaggle_data_final_result/vw_valid_pred_final_loc.csv"
   ]
  },
  {
   "cell_type": "code",
   "execution_count": null,
   "metadata": {},
   "outputs": [],
   "source": []
  }
 ],
 "metadata": {
  "kernelspec": {
   "display_name": "Python 3",
   "language": "python",
   "name": "python3"
  },
  "language_info": {
   "codemirror_mode": {
    "name": "ipython",
    "version": 3
   },
   "file_extension": ".py",
   "mimetype": "text/x-python",
   "name": "python",
   "nbconvert_exporter": "python",
   "pygments_lexer": "ipython3",
   "version": "3.7.6"
  }
 },
 "nbformat": 4,
 "nbformat_minor": 2
}
