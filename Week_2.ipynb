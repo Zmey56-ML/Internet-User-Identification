{
 "cells": [
  {
   "cell_type": "code",
   "execution_count": 1,
   "metadata": {},
   "outputs": [],
   "source": [
    "from __future__ import division, print_function\n",
    "# turn off all Anaconda warnings\n",
    "import warnings\n",
    "warnings.filterwarnings('ignore')\n",
    "from glob import glob\n",
    "import os\n",
    "import math\n",
    "import pickle\n",
    "#pip install tqdm\n",
    "from tqdm import tqdm_notebook\n",
    "import numpy as np\n",
    "import pandas as pd\n",
    "from scipy.sparse import csr_matrix\n",
    "#import glob\n",
    "import collections\n",
    "from tqdm.auto import tqdm\n",
    "from collections import Counter\n",
    "from time import time"
   ]
  },
  {
   "cell_type": "markdown",
   "metadata": {},
   "source": [
    "# WEEK 2"
   ]
  },
  {
   "cell_type": "markdown",
   "metadata": {},
   "source": [
    "### Часть 1. Каковы длины (число сессий) новых 16 разреженных матриц?"
   ]
  },
  {
   "cell_type": "code",
   "execution_count": 2,
   "metadata": {},
   "outputs": [],
   "source": [
    "import scipy.sparse as sps"
   ]
  },
  {
   "cell_type": "code",
   "execution_count": 3,
   "metadata": {},
   "outputs": [],
   "source": [
    "PATH_TO_DATA = 'capstone_user_identification'"
   ]
  },
  {
   "cell_type": "code",
   "execution_count": 4,
   "metadata": {},
   "outputs": [
    {
     "name": "stdout",
     "output_type": "stream",
     "text": [
      "capstone_user_identification\\3users/*.csv\n",
      "capstone_user_identification\\10users/*.csv\n",
      "capstone_user_identification\\150users/*.csv\n"
     ]
    }
   ],
   "source": [
    "path_3 = os.path.join(PATH_TO_DATA, '3users/*.csv')\n",
    "path_10 = os.path.join(PATH_TO_DATA, '10users/*.csv')\n",
    "path_150 = os.path.join(PATH_TO_DATA, '150users/*.csv')\n",
    "\n",
    "print(path_3)\n",
    "print(path_10)\n",
    "print(path_150)"
   ]
  },
  {
   "cell_type": "code",
   "execution_count": 5,
   "metadata": {},
   "outputs": [],
   "source": [
    "# change data path\n",
    "\n",
    "path_pkl = os.path.join(PATH_TO_DATA, 'site_freq_3users.pkl')\n",
    "unpickled_df_3 = pd.read_pickle(path_pkl)\n",
    "#print(unpickled_df_3)\n",
    "path_pkl_10 = os.path.join(PATH_TO_DATA, 'site_freq_10users.pkl')\n",
    "unpickled_df_10 = pd.read_pickle(path_pkl_10)\n",
    "#print(unpickled_df_10)\n",
    "path_pkl_150 = os.path.join(PATH_TO_DATA, 'site_freq_150users.pkl')\n",
    "unpickled_df_150 = pd.read_pickle(path_pkl_150)\n",
    "#print(unpickled_df_150)"
   ]
  },
  {
   "cell_type": "code",
   "execution_count": 7,
   "metadata": {},
   "outputs": [
    {
     "data": {
      "text/plain": [
       "'capstone_user_identification\\\\3users/*.csv'"
      ]
     },
     "execution_count": 7,
     "metadata": {},
     "output_type": "execute_result"
    }
   ],
   "source": [
    "path = os.path.join(PATH_TO_DATA, '3users/*.csv')\n",
    "\n",
    "stock_files = sorted(glob(path))\n",
    "\n",
    "path"
   ]
  },
  {
   "cell_type": "code",
   "execution_count": 6,
   "metadata": {},
   "outputs": [],
   "source": [
    "def prepare_sparse_train_set_window(path_to_csv_files, path_to_pkl_files, session_length=10, window_size=10):\n",
    "    \n",
    "    stock_files = sorted(glob(path_to_csv_files))\n",
    "    \n",
    "    #create dataframe from file\n",
    "    df = pd.concat((pd.read_csv(file) for file in stock_files), ignore_index=True)\n",
    "    \n",
    "    #sorted site\n",
    "    df_site_dict = path_to_pkl_files\n",
    "    \n",
    "    #create number list site\n",
    "    list_all_site = []\n",
    "    user_list = []\n",
    "    user = 1\n",
    "    for filename in tqdm((stock_files), desc='Loop2'):\n",
    "        tmp_df = pd.read_csv(filename)\n",
    "        list_site = []\n",
    "        for site in tmp_df.site:\n",
    "            list_site.append(df_site_dict.get(site))\n",
    "        #print(\"LEN 1\", len(list_site))\n",
    "        #print(\"List Site\", list_site)\n",
    "        #multiple_len =  (math.ceil(len(list_site)/session_length))*session_length\n",
    "        #print(multiple_len)\n",
    "        #tmp = [0] * (session_length)\n",
    "        #print(tmp)\n",
    "        #tmp_little_list = list_site.copy()\n",
    "        #list_site.extend(tmp)\n",
    "        #print(len(list_site))\n",
    "        #print(\"list site new\", list_site)\n",
    "        count = 0\n",
    "        for start in range(0, (len(list_site) + window_size), window_size):\n",
    "            ind_1 = start\n",
    "            ind_2 = start + session_length\n",
    "            #print(start)\n",
    "            if ind_2 <= (len(list_site)-1):\n",
    "                #print('OK')\n",
    "                sess = list_site[ind_1 : ind_2]\n",
    "                #print(\"SESS\", sess)\n",
    "                #sess.append(user)\n",
    "                #print(sess)\n",
    "                list_all_site.append(sess)\n",
    "                user_list.append(user)\n",
    "            else:\n",
    "                if(len(list_site[ind_1:])==0):\n",
    "                    break\n",
    "                sess = list_site[ind_1:] + [0 for _ in range(session_length - len(list_site[ind_1:]))]\n",
    "                #print(\"SESS2\", sess)\n",
    "                list_all_site.append(sess)\n",
    "                user_list.append(user)\n",
    "                #sess.append(user)\n",
    "        user = user + 1\n",
    "        \n",
    "    tmp_arr = np.array(list_all_site)\n",
    "    row = 0\n",
    "    width = 0\n",
    "    rows = []\n",
    "    cols = []\n",
    "    data = []\n",
    "\n",
    "    for arr in tqdm(tmp_arr, desc = \"Loop 4\"):\n",
    "        unique, counts = np.unique(arr, return_counts=True)\n",
    "        #print(dict(zip(unique, counts)))\n",
    "        #print(\"next\")\n",
    "        for key, value in dict(zip(unique, counts)).items():\n",
    "            #print(row, key, value)\n",
    "            width = width + 1\n",
    "            if key != 0:\n",
    "                rows.append(row)\n",
    "                cols.append(key-1)\n",
    "                data.append(value)\n",
    "                #array_new[row][key-1] = value\n",
    "        row = row + 1\n",
    "        \n",
    "    B = sps.coo_matrix((data, (rows, cols))).tocsr()\n",
    "    return(B, user_list)\n",
    "        "
   ]
  },
  {
   "cell_type": "code",
   "execution_count": 7,
   "metadata": {},
   "outputs": [
    {
     "data": {
      "application/vnd.jupyter.widget-view+json": {
       "model_id": "10966ddc356a4daf85c745177ddac72d",
       "version_major": 2,
       "version_minor": 0
      },
      "text/plain": [
       "HBox(children=(IntProgress(value=0, description='Loop2', max=3, style=ProgressStyle(description_width='initial…"
      ]
     },
     "metadata": {},
     "output_type": "display_data"
    },
    {
     "name": "stdout",
     "output_type": "stream",
     "text": [
      "\n"
     ]
    },
    {
     "data": {
      "application/vnd.jupyter.widget-view+json": {
       "model_id": "7b603a34eba0496c8437cf54d2b580c7",
       "version_major": 2,
       "version_minor": 0
      },
      "text/plain": [
       "HBox(children=(IntProgress(value=0, description='Loop 4', max=12, style=ProgressStyle(description_width='initi…"
      ]
     },
     "metadata": {},
     "output_type": "display_data"
    },
    {
     "name": "stdout",
     "output_type": "stream",
     "text": [
      "\n"
     ]
    }
   ],
   "source": [
    "X_test, y = prepare_sparse_train_set_window(path_3, unpickled_df_3, 5, 3)"
   ]
  },
  {
   "cell_type": "code",
   "execution_count": 17,
   "metadata": {},
   "outputs": [
    {
     "data": {
      "application/vnd.jupyter.widget-view+json": {
       "model_id": "fe22d189a17d4c0fb0ce98df3b7613c4",
       "version_major": 2,
       "version_minor": 0
      },
      "text/plain": [
       "HBox(children=(IntProgress(value=0, description='Loop2', max=10, style=ProgressStyle(description_width='initia…"
      ]
     },
     "metadata": {},
     "output_type": "display_data"
    },
    {
     "name": "stdout",
     "output_type": "stream",
     "text": [
      "\n"
     ]
    },
    {
     "data": {
      "application/vnd.jupyter.widget-view+json": {
       "model_id": "58b0f9630e3c4dc084110106f4c1d966",
       "version_major": 2,
       "version_minor": 0
      },
      "text/plain": [
       "HBox(children=(IntProgress(value=0, description='Loop 4', max=14061, style=ProgressStyle(description_width='in…"
      ]
     },
     "metadata": {},
     "output_type": "display_data"
    },
    {
     "name": "stdout",
     "output_type": "stream",
     "text": [
      "\n"
     ]
    }
   ],
   "source": [
    "#запишу 10 10 для 4 недели для 10 пользователей. в цикле его нет\n",
    "X_sparse_10, y_10 = prepare_sparse_train_set_window(path_10, unpickled_df_10, 10, 10)\n",
    "\n",
    "file_name = 'capstone_websites_data_1/X_sparse_%dusers_s%d_w%d.pkl' % (10, 10, 10)\n",
    "with open(file_name, 'wb') as fp:\n",
    "    pickle.dump(X_sparse_10, fp)\n",
    "file_name = 'capstone_websites_data_1/y_%dusers_s%d_w%d.pkl' % (10, 10, 10)\n",
    "with open(file_name,'wb') as fp:\n",
    "    pickle.dump(y_10, fp)"
   ]
  },
  {
   "cell_type": "code",
   "execution_count": 18,
   "metadata": {},
   "outputs": [
    {
     "data": {
      "application/vnd.jupyter.widget-view+json": {
       "model_id": "d274cf6513a149bcb3e72379576e9105",
       "version_major": 2,
       "version_minor": 0
      },
      "text/plain": [
       "HBox(children=(IntProgress(value=0, description='Loop2', max=150, style=ProgressStyle(description_width='initi…"
      ]
     },
     "metadata": {},
     "output_type": "display_data"
    },
    {
     "name": "stdout",
     "output_type": "stream",
     "text": [
      "\n"
     ]
    },
    {
     "data": {
      "application/vnd.jupyter.widget-view+json": {
       "model_id": "e834becf773f4dc2afebda1b561084f5",
       "version_major": 2,
       "version_minor": 0
      },
      "text/plain": [
       "HBox(children=(IntProgress(value=0, description='Loop 4', max=137019, style=ProgressStyle(description_width='i…"
      ]
     },
     "metadata": {},
     "output_type": "display_data"
    },
    {
     "name": "stdout",
     "output_type": "stream",
     "text": [
      "\n"
     ]
    }
   ],
   "source": [
    "#запишу 10 10 для 4 недели для 150 пользователей, в цикле его нет\n",
    "X_sparse_150, y_150 = prepare_sparse_train_set_window(path_150, unpickled_df_150, 10, 10)\n",
    "\n",
    "file_name = 'capstone_websites_data_1/X_sparse_%dusers_s%d_w%d.pkl' % (150, 10, 10)\n",
    "with open(file_name, 'wb') as fp:\n",
    "    pickle.dump(X_sparse_150, fp)\n",
    "file_name = 'capstone_websites_data_1/y_%dusers_s%d_w%d.pkl' % (150, 10, 10)\n",
    "with open(file_name,'wb') as fp:\n",
    "    pickle.dump(y_150, fp)"
   ]
  },
  {
   "cell_type": "markdown",
   "metadata": {},
   "source": [
    "Запустите созданную функцию 16 раз с помощью циклов по числу пользователей num_users (10 или 150), значениям параметра session_length (15, 10, 7 или 5) и значениям параметра window_size (10, 7 или 5). Сериализуйте все 16 разреженных матриц (обучающие выборки) и векторов (метки целевого класса – ID пользователя) в файлы X_sparse_{num_users}users_s{session_length}_w{window_size}.pkl и y_{num_users}users_s{session_length}_w{window_size}.pkl.\n",
    "\n",
    "Чтоб убедиться, что мы все далее будем работать с идентичными объектами, запишите в список data_lengths число строк во всех полученных рареженных матрицах (16 значений). Если какие-то будут совпадать, это нормально (можно сообразить, почему).\n",
    "\n",
    "На моем ноутбуке этот участок кода отработал за 26 секунд, хотя понятно, что все зависит от эффективности реализации функции prepare_sparse_train_set_window и мощности используемого железа. И честно говоря, моя первая реализация была намного менее эффективной (34 минуты), так что тут у Вас есть возможность оптимизировать свой код."
   ]
  },
  {
   "cell_type": "code",
   "execution_count": 13,
   "metadata": {
    "scrolled": true
   },
   "outputs": [
    {
     "name": "stdout",
     "output_type": "stream",
     "text": [
      "NUM USER =  10  Window Size =  10  Session Length =  15\n"
     ]
    },
    {
     "data": {
      "application/vnd.jupyter.widget-view+json": {
       "model_id": "72fa6c4b763e4171bd8727ba14e1e599",
       "version_major": 2,
       "version_minor": 0
      },
      "text/plain": [
       "HBox(children=(IntProgress(value=0, description='Loop2', max=10, style=ProgressStyle(description_width='initia…"
      ]
     },
     "metadata": {},
     "output_type": "display_data"
    },
    {
     "name": "stdout",
     "output_type": "stream",
     "text": [
      "\n"
     ]
    },
    {
     "data": {
      "application/vnd.jupyter.widget-view+json": {
       "model_id": "683f67c81fab4dce9c24faab097b77cc",
       "version_major": 2,
       "version_minor": 0
      },
      "text/plain": [
       "HBox(children=(IntProgress(value=0, description='Loop 4', max=14061, style=ProgressStyle(description_width='in…"
      ]
     },
     "metadata": {},
     "output_type": "display_data"
    },
    {
     "name": "stdout",
     "output_type": "stream",
     "text": [
      "\n",
      "14061\n",
      "[14061, 14061]\n",
      "NUM USER =  10  Window Size =  7  Session Length =  15\n"
     ]
    },
    {
     "data": {
      "application/vnd.jupyter.widget-view+json": {
       "model_id": "580f318a90ff4249ba8759bc6be10e86",
       "version_major": 2,
       "version_minor": 0
      },
      "text/plain": [
       "HBox(children=(IntProgress(value=0, description='Loop2', max=10, style=ProgressStyle(description_width='initia…"
      ]
     },
     "metadata": {},
     "output_type": "display_data"
    },
    {
     "name": "stdout",
     "output_type": "stream",
     "text": [
      "\n"
     ]
    },
    {
     "data": {
      "application/vnd.jupyter.widget-view+json": {
       "model_id": "096c69203cfc4f1484708c40676f0c9c",
       "version_major": 2,
       "version_minor": 0
      },
      "text/plain": [
       "HBox(children=(IntProgress(value=0, description='Loop 4', max=20087, style=ProgressStyle(description_width='in…"
      ]
     },
     "metadata": {},
     "output_type": "display_data"
    },
    {
     "name": "stdout",
     "output_type": "stream",
     "text": [
      "\n",
      "20087\n",
      "[14061, 14061, 20087, 20087]\n",
      "NUM USER =  10  Window Size =  7  Session Length =  10\n"
     ]
    },
    {
     "data": {
      "application/vnd.jupyter.widget-view+json": {
       "model_id": "a2bef6328f41446d830c9cde52c1fd3d",
       "version_major": 2,
       "version_minor": 0
      },
      "text/plain": [
       "HBox(children=(IntProgress(value=0, description='Loop2', max=10, style=ProgressStyle(description_width='initia…"
      ]
     },
     "metadata": {},
     "output_type": "display_data"
    },
    {
     "name": "stdout",
     "output_type": "stream",
     "text": [
      "\n"
     ]
    },
    {
     "data": {
      "application/vnd.jupyter.widget-view+json": {
       "model_id": "bc97dbb668ba44a98b69bdd62ee18a67",
       "version_major": 2,
       "version_minor": 0
      },
      "text/plain": [
       "HBox(children=(IntProgress(value=0, description='Loop 4', max=20087, style=ProgressStyle(description_width='in…"
      ]
     },
     "metadata": {},
     "output_type": "display_data"
    },
    {
     "name": "stdout",
     "output_type": "stream",
     "text": [
      "\n",
      "20087\n",
      "[14061, 14061, 20087, 20087, 20087, 20087]\n",
      "NUM USER =  10  Window Size =  7  Session Length =  7\n"
     ]
    },
    {
     "data": {
      "application/vnd.jupyter.widget-view+json": {
       "model_id": "91f6b30b6e1c43df88e43dc5a5d5ea10",
       "version_major": 2,
       "version_minor": 0
      },
      "text/plain": [
       "HBox(children=(IntProgress(value=0, description='Loop2', max=10, style=ProgressStyle(description_width='initia…"
      ]
     },
     "metadata": {},
     "output_type": "display_data"
    },
    {
     "name": "stdout",
     "output_type": "stream",
     "text": [
      "\n"
     ]
    },
    {
     "data": {
      "application/vnd.jupyter.widget-view+json": {
       "model_id": "c0c82472e8264f36adab86dc6dfa38ce",
       "version_major": 2,
       "version_minor": 0
      },
      "text/plain": [
       "HBox(children=(IntProgress(value=0, description='Loop 4', max=20087, style=ProgressStyle(description_width='in…"
      ]
     },
     "metadata": {},
     "output_type": "display_data"
    },
    {
     "name": "stdout",
     "output_type": "stream",
     "text": [
      "\n",
      "20087\n",
      "[14061, 14061, 20087, 20087, 20087, 20087, 20087, 20087]\n",
      "NUM USER =  10  Window Size =  5  Session Length =  15\n"
     ]
    },
    {
     "data": {
      "application/vnd.jupyter.widget-view+json": {
       "model_id": "d4cab0e99c8e49a680a85218cc404f2e",
       "version_major": 2,
       "version_minor": 0
      },
      "text/plain": [
       "HBox(children=(IntProgress(value=0, description='Loop2', max=10, style=ProgressStyle(description_width='initia…"
      ]
     },
     "metadata": {},
     "output_type": "display_data"
    },
    {
     "name": "stdout",
     "output_type": "stream",
     "text": [
      "\n"
     ]
    },
    {
     "data": {
      "application/vnd.jupyter.widget-view+json": {
       "model_id": "68c980086c094598b990b933bff765c2",
       "version_major": 2,
       "version_minor": 0
      },
      "text/plain": [
       "HBox(children=(IntProgress(value=0, description='Loop 4', max=28118, style=ProgressStyle(description_width='in…"
      ]
     },
     "metadata": {},
     "output_type": "display_data"
    },
    {
     "name": "stdout",
     "output_type": "stream",
     "text": [
      "\n",
      "28118\n",
      "[14061, 14061, 20087, 20087, 20087, 20087, 20087, 20087, 28118, 28118]\n",
      "NUM USER =  10  Window Size =  5  Session Length =  10\n"
     ]
    },
    {
     "data": {
      "application/vnd.jupyter.widget-view+json": {
       "model_id": "ec18c976923142918bf448f5efd6d80c",
       "version_major": 2,
       "version_minor": 0
      },
      "text/plain": [
       "HBox(children=(IntProgress(value=0, description='Loop2', max=10, style=ProgressStyle(description_width='initia…"
      ]
     },
     "metadata": {},
     "output_type": "display_data"
    },
    {
     "name": "stdout",
     "output_type": "stream",
     "text": [
      "\n"
     ]
    },
    {
     "data": {
      "application/vnd.jupyter.widget-view+json": {
       "model_id": "5253dadd6fe14334988427b605427a80",
       "version_major": 2,
       "version_minor": 0
      },
      "text/plain": [
       "HBox(children=(IntProgress(value=0, description='Loop 4', max=28118, style=ProgressStyle(description_width='in…"
      ]
     },
     "metadata": {},
     "output_type": "display_data"
    },
    {
     "name": "stdout",
     "output_type": "stream",
     "text": [
      "\n",
      "28118\n",
      "[14061, 14061, 20087, 20087, 20087, 20087, 20087, 20087, 28118, 28118, 28118, 28118]\n",
      "NUM USER =  10  Window Size =  5  Session Length =  7\n"
     ]
    },
    {
     "data": {
      "application/vnd.jupyter.widget-view+json": {
       "model_id": "d8b14620ec0241c788073cf739add011",
       "version_major": 2,
       "version_minor": 0
      },
      "text/plain": [
       "HBox(children=(IntProgress(value=0, description='Loop2', max=10, style=ProgressStyle(description_width='initia…"
      ]
     },
     "metadata": {},
     "output_type": "display_data"
    },
    {
     "name": "stdout",
     "output_type": "stream",
     "text": [
      "\n"
     ]
    },
    {
     "data": {
      "application/vnd.jupyter.widget-view+json": {
       "model_id": "28167f0443504a3ea64723e809ac2367",
       "version_major": 2,
       "version_minor": 0
      },
      "text/plain": [
       "HBox(children=(IntProgress(value=0, description='Loop 4', max=28118, style=ProgressStyle(description_width='in…"
      ]
     },
     "metadata": {},
     "output_type": "display_data"
    },
    {
     "name": "stdout",
     "output_type": "stream",
     "text": [
      "\n",
      "28118\n",
      "[14061, 14061, 20087, 20087, 20087, 20087, 20087, 20087, 28118, 28118, 28118, 28118, 28118, 28118]\n",
      "NUM USER =  10  Window Size =  5  Session Length =  5\n"
     ]
    },
    {
     "data": {
      "application/vnd.jupyter.widget-view+json": {
       "model_id": "15c83b66ec984f79ade5a529a0a31732",
       "version_major": 2,
       "version_minor": 0
      },
      "text/plain": [
       "HBox(children=(IntProgress(value=0, description='Loop2', max=10, style=ProgressStyle(description_width='initia…"
      ]
     },
     "metadata": {},
     "output_type": "display_data"
    },
    {
     "name": "stdout",
     "output_type": "stream",
     "text": [
      "\n"
     ]
    },
    {
     "data": {
      "application/vnd.jupyter.widget-view+json": {
       "model_id": "f605d83ce31f4eb78494800b000b2c6f",
       "version_major": 2,
       "version_minor": 0
      },
      "text/plain": [
       "HBox(children=(IntProgress(value=0, description='Loop 4', max=28118, style=ProgressStyle(description_width='in…"
      ]
     },
     "metadata": {},
     "output_type": "display_data"
    },
    {
     "name": "stdout",
     "output_type": "stream",
     "text": [
      "\n",
      "28118\n",
      "[14061, 14061, 20087, 20087, 20087, 20087, 20087, 20087, 28118, 28118, 28118, 28118, 28118, 28118, 28118, 28118]\n",
      "NUM USER =  150  Window Size =  10  Session Length =  15\n"
     ]
    },
    {
     "data": {
      "application/vnd.jupyter.widget-view+json": {
       "model_id": "d506fe5f92fb47048306463d981ddfcf",
       "version_major": 2,
       "version_minor": 0
      },
      "text/plain": [
       "HBox(children=(IntProgress(value=0, description='Loop2', max=150, style=ProgressStyle(description_width='initi…"
      ]
     },
     "metadata": {},
     "output_type": "display_data"
    },
    {
     "name": "stdout",
     "output_type": "stream",
     "text": [
      "\n"
     ]
    },
    {
     "data": {
      "application/vnd.jupyter.widget-view+json": {
       "model_id": "c5c9b4a1d20e4a29a5da5702ab73a9e2",
       "version_major": 2,
       "version_minor": 0
      },
      "text/plain": [
       "HBox(children=(IntProgress(value=0, description='Loop 4', max=137019, style=ProgressStyle(description_width='i…"
      ]
     },
     "metadata": {},
     "output_type": "display_data"
    },
    {
     "name": "stdout",
     "output_type": "stream",
     "text": [
      "\n",
      "137019\n",
      "[14061, 14061, 20087, 20087, 20087, 20087, 20087, 20087, 28118, 28118, 28118, 28118, 28118, 28118, 28118, 28118, 137019, 137019]\n",
      "NUM USER =  150  Window Size =  7  Session Length =  15\n"
     ]
    },
    {
     "data": {
      "application/vnd.jupyter.widget-view+json": {
       "model_id": "8700182c90d54110a86ffebcb513d653",
       "version_major": 2,
       "version_minor": 0
      },
      "text/plain": [
       "HBox(children=(IntProgress(value=0, description='Loop2', max=150, style=ProgressStyle(description_width='initi…"
      ]
     },
     "metadata": {},
     "output_type": "display_data"
    },
    {
     "name": "stdout",
     "output_type": "stream",
     "text": [
      "\n"
     ]
    },
    {
     "data": {
      "application/vnd.jupyter.widget-view+json": {
       "model_id": "74102e2717ef4d1686fcb21b801ae2c4",
       "version_major": 2,
       "version_minor": 0
      },
      "text/plain": [
       "HBox(children=(IntProgress(value=0, description='Loop 4', max=195712, style=ProgressStyle(description_width='i…"
      ]
     },
     "metadata": {},
     "output_type": "display_data"
    },
    {
     "name": "stdout",
     "output_type": "stream",
     "text": [
      "\n",
      "195712\n",
      "[14061, 14061, 20087, 20087, 20087, 20087, 20087, 20087, 28118, 28118, 28118, 28118, 28118, 28118, 28118, 28118, 137019, 137019, 195712, 195712]\n",
      "NUM USER =  150  Window Size =  7  Session Length =  10\n"
     ]
    },
    {
     "data": {
      "application/vnd.jupyter.widget-view+json": {
       "model_id": "8e10badf464c4e63b14db0eb1984f122",
       "version_major": 2,
       "version_minor": 0
      },
      "text/plain": [
       "HBox(children=(IntProgress(value=0, description='Loop2', max=150, style=ProgressStyle(description_width='initi…"
      ]
     },
     "metadata": {},
     "output_type": "display_data"
    },
    {
     "name": "stdout",
     "output_type": "stream",
     "text": [
      "\n"
     ]
    },
    {
     "data": {
      "application/vnd.jupyter.widget-view+json": {
       "model_id": "d9c1827126fe464282ecced64ffc7257",
       "version_major": 2,
       "version_minor": 0
      },
      "text/plain": [
       "HBox(children=(IntProgress(value=0, description='Loop 4', max=195712, style=ProgressStyle(description_width='i…"
      ]
     },
     "metadata": {},
     "output_type": "display_data"
    },
    {
     "name": "stdout",
     "output_type": "stream",
     "text": [
      "\n",
      "195712\n",
      "[14061, 14061, 20087, 20087, 20087, 20087, 20087, 20087, 28118, 28118, 28118, 28118, 28118, 28118, 28118, 28118, 137019, 137019, 195712, 195712, 195712, 195712]\n",
      "NUM USER =  150  Window Size =  7  Session Length =  7\n"
     ]
    },
    {
     "data": {
      "application/vnd.jupyter.widget-view+json": {
       "model_id": "9434dd9aec384fe1922bf565fc34abdb",
       "version_major": 2,
       "version_minor": 0
      },
      "text/plain": [
       "HBox(children=(IntProgress(value=0, description='Loop2', max=150, style=ProgressStyle(description_width='initi…"
      ]
     },
     "metadata": {},
     "output_type": "display_data"
    },
    {
     "name": "stdout",
     "output_type": "stream",
     "text": [
      "\n"
     ]
    },
    {
     "data": {
      "application/vnd.jupyter.widget-view+json": {
       "model_id": "267246bcfa0c4733a77ae20735ef6ef6",
       "version_major": 2,
       "version_minor": 0
      },
      "text/plain": [
       "HBox(children=(IntProgress(value=0, description='Loop 4', max=195712, style=ProgressStyle(description_width='i…"
      ]
     },
     "metadata": {},
     "output_type": "display_data"
    },
    {
     "name": "stdout",
     "output_type": "stream",
     "text": [
      "\n",
      "195712\n",
      "[14061, 14061, 20087, 20087, 20087, 20087, 20087, 20087, 28118, 28118, 28118, 28118, 28118, 28118, 28118, 28118, 137019, 137019, 195712, 195712, 195712, 195712, 195712, 195712]\n",
      "NUM USER =  150  Window Size =  5  Session Length =  15\n"
     ]
    },
    {
     "data": {
      "application/vnd.jupyter.widget-view+json": {
       "model_id": "43abc9b04b214436866908418a575955",
       "version_major": 2,
       "version_minor": 0
      },
      "text/plain": [
       "HBox(children=(IntProgress(value=0, description='Loop2', max=150, style=ProgressStyle(description_width='initi…"
      ]
     },
     "metadata": {},
     "output_type": "display_data"
    },
    {
     "name": "stdout",
     "output_type": "stream",
     "text": [
      "\n"
     ]
    },
    {
     "data": {
      "application/vnd.jupyter.widget-view+json": {
       "model_id": "1baabfe68e4c4f87b1fcf7895bd2fb7a",
       "version_major": 2,
       "version_minor": 0
      },
      "text/plain": [
       "HBox(children=(IntProgress(value=0, description='Loop 4', max=273957, style=ProgressStyle(description_width='i…"
      ]
     },
     "metadata": {},
     "output_type": "display_data"
    },
    {
     "name": "stdout",
     "output_type": "stream",
     "text": [
      "\n",
      "273957\n",
      "[14061, 14061, 20087, 20087, 20087, 20087, 20087, 20087, 28118, 28118, 28118, 28118, 28118, 28118, 28118, 28118, 137019, 137019, 195712, 195712, 195712, 195712, 195712, 195712, 273957, 273957]\n",
      "NUM USER =  150  Window Size =  5  Session Length =  10\n"
     ]
    },
    {
     "data": {
      "application/vnd.jupyter.widget-view+json": {
       "model_id": "88c5f533055b4a70ad8f6ea194c12459",
       "version_major": 2,
       "version_minor": 0
      },
      "text/plain": [
       "HBox(children=(IntProgress(value=0, description='Loop2', max=150, style=ProgressStyle(description_width='initi…"
      ]
     },
     "metadata": {},
     "output_type": "display_data"
    },
    {
     "name": "stdout",
     "output_type": "stream",
     "text": [
      "\n"
     ]
    },
    {
     "data": {
      "application/vnd.jupyter.widget-view+json": {
       "model_id": "4e458e659e474f9b8792678a9906ee28",
       "version_major": 2,
       "version_minor": 0
      },
      "text/plain": [
       "HBox(children=(IntProgress(value=0, description='Loop 4', max=273957, style=ProgressStyle(description_width='i…"
      ]
     },
     "metadata": {},
     "output_type": "display_data"
    },
    {
     "name": "stdout",
     "output_type": "stream",
     "text": [
      "\n",
      "273957\n",
      "[14061, 14061, 20087, 20087, 20087, 20087, 20087, 20087, 28118, 28118, 28118, 28118, 28118, 28118, 28118, 28118, 137019, 137019, 195712, 195712, 195712, 195712, 195712, 195712, 273957, 273957, 273957, 273957]\n",
      "NUM USER =  150  Window Size =  5  Session Length =  7\n"
     ]
    },
    {
     "data": {
      "application/vnd.jupyter.widget-view+json": {
       "model_id": "f43b774173084e76af257908721f99ed",
       "version_major": 2,
       "version_minor": 0
      },
      "text/plain": [
       "HBox(children=(IntProgress(value=0, description='Loop2', max=150, style=ProgressStyle(description_width='initi…"
      ]
     },
     "metadata": {},
     "output_type": "display_data"
    },
    {
     "name": "stdout",
     "output_type": "stream",
     "text": [
      "\n"
     ]
    },
    {
     "data": {
      "application/vnd.jupyter.widget-view+json": {
       "model_id": "20d0527646ed4ded8951409ae23d4adf",
       "version_major": 2,
       "version_minor": 0
      },
      "text/plain": [
       "HBox(children=(IntProgress(value=0, description='Loop 4', max=273957, style=ProgressStyle(description_width='i…"
      ]
     },
     "metadata": {},
     "output_type": "display_data"
    },
    {
     "name": "stdout",
     "output_type": "stream",
     "text": [
      "\n",
      "273957\n",
      "[14061, 14061, 20087, 20087, 20087, 20087, 20087, 20087, 28118, 28118, 28118, 28118, 28118, 28118, 28118, 28118, 137019, 137019, 195712, 195712, 195712, 195712, 195712, 195712, 273957, 273957, 273957, 273957, 273957, 273957]\n",
      "NUM USER =  150  Window Size =  5  Session Length =  5\n"
     ]
    },
    {
     "data": {
      "application/vnd.jupyter.widget-view+json": {
       "model_id": "ac36a89e14fd4ece8795be432c33f32f",
       "version_major": 2,
       "version_minor": 0
      },
      "text/plain": [
       "HBox(children=(IntProgress(value=0, description='Loop2', max=150, style=ProgressStyle(description_width='initi…"
      ]
     },
     "metadata": {},
     "output_type": "display_data"
    },
    {
     "name": "stdout",
     "output_type": "stream",
     "text": [
      "\n"
     ]
    },
    {
     "data": {
      "application/vnd.jupyter.widget-view+json": {
       "model_id": "66de0027e0084006b9e11df0bc3faf56",
       "version_major": 2,
       "version_minor": 0
      },
      "text/plain": [
       "HBox(children=(IntProgress(value=0, description='Loop 4', max=273957, style=ProgressStyle(description_width='i…"
      ]
     },
     "metadata": {},
     "output_type": "display_data"
    },
    {
     "name": "stdout",
     "output_type": "stream",
     "text": [
      "\n",
      "273957\n",
      "[14061, 14061, 20087, 20087, 20087, 20087, 20087, 20087, 28118, 28118, 28118, 28118, 28118, 28118, 28118, 28118, 137019, 137019, 195712, 195712, 195712, 195712, 195712, 195712, 273957, 273957, 273957, 273957, 273957, 273957, 273957, 273957]\n",
      "Time elapse: 184.293905\n"
     ]
    }
   ],
   "source": [
    "#%%time\n",
    "import itertools\n",
    "\n",
    "t_start = time()\n",
    "\n",
    "data_lengths = []\n",
    "user_tmp=[]\n",
    "\n",
    "for num_users in [10, 150]:\n",
    "    for window_size, session_length in itertools.product([10, 7, 5], [15, 10, 7, 5]):\n",
    "        if (window_size <= session_length) and ((window_size, session_length) != (10, 10)):\n",
    "            if num_users == 10:\n",
    "                path = os.path.join(PATH_TO_DATA, '10users/*.csv')\n",
    "                unpickled_df = pd.read_pickle(os.path.join(PATH_TO_DATA, 'site_freq_10users.pkl'))\n",
    "            else:\n",
    "                path = os.path.join(PATH_TO_DATA, '150users/*.csv')\n",
    "                unpickled_df = pd.read_pickle(os.path.join(PATH_TO_DATA, 'site_freq_150users.pkl'))    \n",
    "            print(\"NUM USER = \", num_users, \" Window Size = \", window_size, \" Session Length = \", session_length)\n",
    "            X_sparse, y = prepare_sparse_train_set_window(path, unpickled_df, session_length, window_size)\n",
    "            data_lengths.append(X_sparse.shape[0])\n",
    "            user_tmp.append(len(y))\n",
    "            print(len(y))\n",
    "            \n",
    "            \n",
    "            \n",
    "            file_name = 'capstone_websites_data_1/X_sparse_%dusers_s%d_w%d.pkl' % (num_users, session_length, window_size)\n",
    "            with open(file_name, 'wb') as fp:\n",
    "                pickle.dump(X_sparse, fp)\n",
    "            file_name = 'capstone_websites_data_1/y_%dusers_s%d_w%d.pkl' % (num_users, session_length, window_size)\n",
    "            with open(file_name,'wb') as fp:\n",
    "                pickle.dump(y, fp)\n",
    "                \n",
    "            data_lengths.append(X_sparse.shape[0])\n",
    "            \n",
    "            print(data_lengths)\n",
    "\n",
    "print(\"Time elapse: %lf\" % (time() - t_start))"
   ]
  },
  {
   "cell_type": "code",
   "execution_count": 17,
   "metadata": {},
   "outputs": [
    {
     "data": {
      "application/vnd.jupyter.widget-view+json": {
       "model_id": "9d8a18c4e39940d8bb0d01ccbd9c7467",
       "version_major": 2,
       "version_minor": 0
      },
      "text/plain": [
       "HBox(children=(IntProgress(value=0, description='Loop2', max=10, style=ProgressStyle(description_width='initia…"
      ]
     },
     "metadata": {},
     "output_type": "display_data"
    },
    {
     "name": "stdout",
     "output_type": "stream",
     "text": [
      "\n"
     ]
    },
    {
     "data": {
      "application/vnd.jupyter.widget-view+json": {
       "model_id": "ed13904d4ba04c6d91eb894eece70936",
       "version_major": 2,
       "version_minor": 0
      },
      "text/plain": [
       "HBox(children=(IntProgress(value=0, description='Loop 4', max=14061, style=ProgressStyle(description_width='in…"
      ]
     },
     "metadata": {},
     "output_type": "display_data"
    },
    {
     "name": "stdout",
     "output_type": "stream",
     "text": [
      "\n"
     ]
    }
   ],
   "source": [
    "X_sparse_10users, y_sparse_10users = prepare_sparse_train_set_window(path_10, unpickled_df_10, 10, 10)"
   ]
  },
  {
   "cell_type": "code",
   "execution_count": 7,
   "metadata": {},
   "outputs": [
    {
     "data": {
      "application/vnd.jupyter.widget-view+json": {
       "model_id": "95b0eb38baef49afa4eca3532b9af037",
       "version_major": 2,
       "version_minor": 0
      },
      "text/plain": [
       "HBox(children=(IntProgress(value=0, description='Loop2', max=10, style=ProgressStyle(description_width='initia…"
      ]
     },
     "metadata": {},
     "output_type": "display_data"
    },
    {
     "name": "stdout",
     "output_type": "stream",
     "text": [
      "\n"
     ]
    },
    {
     "data": {
      "application/vnd.jupyter.widget-view+json": {
       "model_id": "3c53b102f47b4cf2be35af269d574479",
       "version_major": 2,
       "version_minor": 0
      },
      "text/plain": [
       "HBox(children=(IntProgress(value=0, description='Loop 4', max=28118, style=ProgressStyle(description_width='in…"
      ]
     },
     "metadata": {},
     "output_type": "display_data"
    },
    {
     "name": "stdout",
     "output_type": "stream",
     "text": [
      "\n"
     ]
    }
   ],
   "source": [
    "X_sparse_10users_15_5, y_sparse_10users_15_5 = prepare_sparse_train_set_window(path_10, unpickled_df_10, 15, 5)"
   ]
  },
  {
   "cell_type": "code",
   "execution_count": 20,
   "metadata": {},
   "outputs": [],
   "source": [
    "#пришлось выполнить для четвертой недели\n",
    "with open(os.path.join(PATH_TO_DATA, 'X_sparse_10users.pkl'), 'wb') as X10_pkl:\n",
    "    pickle.dump(X_sparse_10users, X10_pkl, protocol=2)"
   ]
  },
  {
   "cell_type": "code",
   "execution_count": 21,
   "metadata": {},
   "outputs": [],
   "source": [
    "with open(os.path.join(PATH_TO_DATA, \n",
    "         'X_sparse_10users.pkl'), 'rb') as X_sparse_10users_pkl:\n",
    "    X_sparse_10users = pickle.load(X_sparse_10users_pkl)"
   ]
  },
  {
   "cell_type": "code",
   "execution_count": 8,
   "metadata": {},
   "outputs": [],
   "source": [
    "with open(os.path.join(PATH_TO_DATA, 'X_sparse_10users_15_5.pkl'), 'wb') as X10_pkl:\n",
    "    pickle.dump(X_sparse_10users_15_5, X10_pkl, protocol=2)"
   ]
  },
  {
   "cell_type": "code",
   "execution_count": 9,
   "metadata": {},
   "outputs": [],
   "source": [
    "with open(os.path.join(PATH_TO_DATA, \n",
    "         'X_sparse_10users_15_5.pkl'), 'rb') as X_sparse_10users_15_5_pkl:\n",
    "    X_sparse_10users_15_5 = pickle.load(X_sparse_10users_15_5_pkl)"
   ]
  },
  {
   "cell_type": "code",
   "execution_count": 10,
   "metadata": {},
   "outputs": [
    {
     "data": {
      "text/plain": [
       "(28118, 4913)"
      ]
     },
     "execution_count": 10,
     "metadata": {},
     "output_type": "execute_result"
    }
   ],
   "source": [
    "X_sparse_10users_15_5.shape"
   ]
  },
  {
   "cell_type": "code",
   "execution_count": 65,
   "metadata": {},
   "outputs": [
    {
     "name": "stdout",
     "output_type": "stream",
     "text": [
      "1406120087200872008728118281182811828118137019195712195712195712273957273957273957273957\n"
     ]
    }
   ],
   "source": [
    "result =\"\"\n",
    "for i in data_lengths:\n",
    "    result = result + str(i)\n",
    "print(result)"
   ]
  },
  {
   "cell_type": "markdown",
   "metadata": {},
   "source": [
    "### Часть 2. Распределено ли нормально число уникальных сайтов в сессии?"
   ]
  },
  {
   "cell_type": "code",
   "execution_count": 14,
   "metadata": {},
   "outputs": [],
   "source": [
    "PATH_TO_DATA_2 = 'capstone_websites_data'"
   ]
  },
  {
   "cell_type": "code",
   "execution_count": 15,
   "metadata": {},
   "outputs": [],
   "source": [
    "train_df = pd.read_csv(os.path.join(PATH_TO_DATA_2, 'train_data_10users.csv'), \n",
    "                       index_col='session_id')"
   ]
  },
  {
   "cell_type": "code",
   "execution_count": 16,
   "metadata": {},
   "outputs": [
    {
     "data": {
      "text/html": [
       "<div>\n",
       "<style scoped>\n",
       "    .dataframe tbody tr th:only-of-type {\n",
       "        vertical-align: middle;\n",
       "    }\n",
       "\n",
       "    .dataframe tbody tr th {\n",
       "        vertical-align: top;\n",
       "    }\n",
       "\n",
       "    .dataframe thead th {\n",
       "        text-align: right;\n",
       "    }\n",
       "</style>\n",
       "<table border=\"1\" class=\"dataframe\">\n",
       "  <thead>\n",
       "    <tr style=\"text-align: right;\">\n",
       "      <th></th>\n",
       "      <th>site1</th>\n",
       "      <th>site2</th>\n",
       "      <th>site3</th>\n",
       "      <th>site4</th>\n",
       "      <th>site5</th>\n",
       "      <th>site6</th>\n",
       "      <th>site7</th>\n",
       "      <th>site8</th>\n",
       "      <th>site9</th>\n",
       "      <th>site10</th>\n",
       "      <th>user_id</th>\n",
       "    </tr>\n",
       "    <tr>\n",
       "      <th>session_id</th>\n",
       "      <th></th>\n",
       "      <th></th>\n",
       "      <th></th>\n",
       "      <th></th>\n",
       "      <th></th>\n",
       "      <th></th>\n",
       "      <th></th>\n",
       "      <th></th>\n",
       "      <th></th>\n",
       "      <th></th>\n",
       "      <th></th>\n",
       "    </tr>\n",
       "  </thead>\n",
       "  <tbody>\n",
       "    <tr>\n",
       "      <th>0</th>\n",
       "      <td>192</td>\n",
       "      <td>574</td>\n",
       "      <td>133</td>\n",
       "      <td>3</td>\n",
       "      <td>133</td>\n",
       "      <td>133</td>\n",
       "      <td>3</td>\n",
       "      <td>133</td>\n",
       "      <td>203</td>\n",
       "      <td>133</td>\n",
       "      <td>1</td>\n",
       "    </tr>\n",
       "    <tr>\n",
       "      <th>1</th>\n",
       "      <td>415</td>\n",
       "      <td>193</td>\n",
       "      <td>674</td>\n",
       "      <td>254</td>\n",
       "      <td>133</td>\n",
       "      <td>31</td>\n",
       "      <td>393</td>\n",
       "      <td>3305</td>\n",
       "      <td>217</td>\n",
       "      <td>55</td>\n",
       "      <td>1</td>\n",
       "    </tr>\n",
       "    <tr>\n",
       "      <th>2</th>\n",
       "      <td>55</td>\n",
       "      <td>3</td>\n",
       "      <td>55</td>\n",
       "      <td>55</td>\n",
       "      <td>5</td>\n",
       "      <td>293</td>\n",
       "      <td>415</td>\n",
       "      <td>333</td>\n",
       "      <td>897</td>\n",
       "      <td>55</td>\n",
       "      <td>1</td>\n",
       "    </tr>\n",
       "    <tr>\n",
       "      <th>3</th>\n",
       "      <td>473</td>\n",
       "      <td>3306</td>\n",
       "      <td>473</td>\n",
       "      <td>55</td>\n",
       "      <td>55</td>\n",
       "      <td>55</td>\n",
       "      <td>55</td>\n",
       "      <td>937</td>\n",
       "      <td>199</td>\n",
       "      <td>123</td>\n",
       "      <td>1</td>\n",
       "    </tr>\n",
       "    <tr>\n",
       "      <th>4</th>\n",
       "      <td>342</td>\n",
       "      <td>55</td>\n",
       "      <td>5</td>\n",
       "      <td>3307</td>\n",
       "      <td>258</td>\n",
       "      <td>211</td>\n",
       "      <td>3308</td>\n",
       "      <td>2086</td>\n",
       "      <td>675</td>\n",
       "      <td>2086</td>\n",
       "      <td>1</td>\n",
       "    </tr>\n",
       "  </tbody>\n",
       "</table>\n",
       "</div>"
      ],
      "text/plain": [
       "            site1  site2  site3  site4  site5  site6  site7  site8  site9  \\\n",
       "session_id                                                                  \n",
       "0             192    574    133      3    133    133      3    133    203   \n",
       "1             415    193    674    254    133     31    393   3305    217   \n",
       "2              55      3     55     55      5    293    415    333    897   \n",
       "3             473   3306    473     55     55     55     55    937    199   \n",
       "4             342     55      5   3307    258    211   3308   2086    675   \n",
       "\n",
       "            site10  user_id  \n",
       "session_id                   \n",
       "0              133        1  \n",
       "1               55        1  \n",
       "2               55        1  \n",
       "3              123        1  \n",
       "4             2086        1  "
      ]
     },
     "execution_count": 16,
     "metadata": {},
     "output_type": "execute_result"
    }
   ],
   "source": [
    "train_df.head()"
   ]
  },
  {
   "cell_type": "code",
   "execution_count": 17,
   "metadata": {},
   "outputs": [
    {
     "name": "stdout",
     "output_type": "stream",
     "text": [
      "<class 'pandas.core.frame.DataFrame'>\n",
      "Int64Index: 14061 entries, 0 to 14060\n",
      "Data columns (total 11 columns):\n",
      "site1      14061 non-null int64\n",
      "site2      14061 non-null int64\n",
      "site3      14061 non-null int64\n",
      "site4      14061 non-null int64\n",
      "site5      14061 non-null int64\n",
      "site6      14061 non-null int64\n",
      "site7      14061 non-null int64\n",
      "site8      14061 non-null int64\n",
      "site9      14061 non-null int64\n",
      "site10     14061 non-null int64\n",
      "user_id    14061 non-null int64\n",
      "dtypes: int64(11)\n",
      "memory usage: 1.3 MB\n"
     ]
    }
   ],
   "source": [
    "train_df.info()"
   ]
  },
  {
   "cell_type": "code",
   "execution_count": 18,
   "metadata": {},
   "outputs": [
    {
     "data": {
      "text/plain": [
       "7     2796\n",
       "3     2204\n",
       "8     1868\n",
       "6     1712\n",
       "9     1643\n",
       "2     1022\n",
       "4      802\n",
       "1      760\n",
       "5      720\n",
       "10     534\n",
       "Name: user_id, dtype: int64"
      ]
     },
     "execution_count": 18,
     "metadata": {},
     "output_type": "execute_result"
    }
   ],
   "source": [
    "train_df['user_id'].value_counts()"
   ]
  },
  {
   "cell_type": "code",
   "execution_count": 19,
   "metadata": {},
   "outputs": [],
   "source": [
    "num_unique_sites = [np.unique(train_df.values[i, :-1]).shape[0] \n",
    "                    for i in range(train_df.shape[0])]"
   ]
  },
  {
   "cell_type": "code",
   "execution_count": 20,
   "metadata": {},
   "outputs": [
    {
     "data": {
      "text/plain": [
       "7     2308\n",
       "6     2197\n",
       "8     2046\n",
       "5     1735\n",
       "9     1394\n",
       "2     1246\n",
       "4     1163\n",
       "3      894\n",
       "10     651\n",
       "1      427\n",
       "dtype: int64"
      ]
     },
     "execution_count": 20,
     "metadata": {},
     "output_type": "execute_result"
    }
   ],
   "source": [
    "pd.Series(num_unique_sites).value_counts()"
   ]
  },
  {
   "cell_type": "code",
   "execution_count": 23,
   "metadata": {},
   "outputs": [
    {
     "data": {
      "text/plain": [
       "<matplotlib.axes._subplots.AxesSubplot at 0x13efff1e7b8>"
      ]
     },
     "execution_count": 23,
     "metadata": {},
     "output_type": "execute_result"
    },
    {
     "data": {
      "image/png": "[encoded data removed]",
      "text/plain": [
       "<Figure size 432x288 with 1 Axes>"
      ]
     },
     "metadata": {
      "needs_background": "light"
     },
     "output_type": "display_data"
    }
   ],
   "source": [
    "pd.Series(num_unique_sites).hist()"
   ]
  },
  {
   "cell_type": "code",
   "execution_count": 24,
   "metadata": {},
   "outputs": [],
   "source": [
    "import pylab \n",
    "import scipy.stats as stats"
   ]
  },
  {
   "cell_type": "code",
   "execution_count": 25,
   "metadata": {},
   "outputs": [
    {
     "data": {
      "image/png": "[encoded data removed]",
      "text/plain": [
       "<Figure size 432x288 with 1 Axes>"
      ]
     },
     "metadata": {
      "needs_background": "light"
     },
     "output_type": "display_data"
    }
   ],
   "source": [
    "stats.probplot(num_unique_sites, dist=\"norm\", plot=pylab)\n",
    "pylab.show()"
   ]
  },
  {
   "cell_type": "code",
   "execution_count": 26,
   "metadata": {},
   "outputs": [
    {
     "name": "stdout",
     "output_type": "stream",
     "text": [
      "Statistics=0.955, p=0.000\n",
      "Sample does not look Gaussian (reject H0)\n"
     ]
    }
   ],
   "source": [
    "stat, p = stats.shapiro(num_unique_sites)\n",
    "print('Statistics=%.3f, p=%.3f' % (stat, p))\n",
    "# interpret\n",
    "alpha = 0.05\n",
    "if p > alpha:\n",
    "    print('Sample looks Gaussian (fail to reject H0)')\n",
    "else:\n",
    "    print('Sample does not look Gaussian (reject H0)')"
   ]
  },
  {
   "cell_type": "markdown",
   "metadata": {},
   "source": [
    "Верно, распределение не нормально – хвосты тяжелые."
   ]
  },
  {
   "cell_type": "markdown",
   "metadata": {},
   "source": [
    "### Часть 3. Каково p-value при проверке гипотезы, что доля случаев, когда пользователь повторно посетил какой-то сайт больше 95%? Ответ 3 знака после запятой."
   ]
  },
  {
   "cell_type": "code",
   "execution_count": 27,
   "metadata": {},
   "outputs": [],
   "source": [
    "has_two_similar = (np.array(num_unique_sites) < 10).astype('int')"
   ]
  },
  {
   "cell_type": "code",
   "execution_count": 28,
   "metadata": {},
   "outputs": [
    {
     "data": {
      "text/plain": [
       "14061"
      ]
     },
     "execution_count": 28,
     "metadata": {},
     "output_type": "execute_result"
    }
   ],
   "source": [
    "len(num_unique_sites)"
   ]
  },
  {
   "cell_type": "code",
   "execution_count": 29,
   "metadata": {},
   "outputs": [
    {
     "data": {
      "text/plain": [
       "0.02207653769072678"
      ]
     },
     "execution_count": 29,
     "metadata": {},
     "output_type": "execute_result"
    }
   ],
   "source": [
    "stats.binom_test(has_two_similar.sum(), has_two_similar.shape[0], 0.95, alternative='greater')"
   ]
  },
  {
   "cell_type": "markdown",
   "metadata": {},
   "source": [
    "### Часть 4. Каков 95%-доверительный интервал Уилсона для величины из прошлого вопроса? (границы округляются до 3 знаков после запятой)."
   ]
  },
  {
   "cell_type": "code",
   "execution_count": 30,
   "metadata": {},
   "outputs": [],
   "source": [
    "from statsmodels.stats.proportion import proportion_confint"
   ]
  },
  {
   "cell_type": "code",
   "execution_count": 31,
   "metadata": {},
   "outputs": [
    {
     "data": {
      "text/plain": [
       "(0.9501028841411286, 0.9570527377232229)"
      ]
     },
     "execution_count": 31,
     "metadata": {},
     "output_type": "execute_result"
    }
   ],
   "source": [
    "wilson_interval = proportion_confint(has_two_similar.sum(), has_two_similar.shape[0], method='wilson')\n",
    "wilson_interval"
   ]
  },
  {
   "cell_type": "markdown",
   "metadata": {},
   "source": [
    "### Часть 5. Каков 95%-доверительный интервал для средней частоты появления сайта в выборке?"
   ]
  },
  {
   "cell_type": "code",
   "execution_count": 83,
   "metadata": {},
   "outputs": [],
   "source": [
    "def get_bootstrap_samples(data, n_samples, random_seed=17):\n",
    "    np.random.seed(random_seed)\n",
    "    indices = np.random.randint(0, len(data), (n_samples, len(data)))\n",
    "    samples = data[indices]\n",
    "    return samples"
   ]
  },
  {
   "cell_type": "code",
   "execution_count": 84,
   "metadata": {},
   "outputs": [],
   "source": [
    "def stat_intervals(stat, alpha):\n",
    "    boundaries = np.percentile(stat, \n",
    "                 [100 * alpha / 2., 100 * (1 - alpha / 2.)])\n",
    "    return boundaries"
   ]
  },
  {
   "cell_type": "code",
   "execution_count": 48,
   "metadata": {},
   "outputs": [],
   "source": [
    "stock_files = sorted(glob(path_10))\n",
    "df = pd.concat((pd.read_csv(file) for file in stock_files), ignore_index=True)"
   ]
  },
  {
   "cell_type": "code",
   "execution_count": 49,
   "metadata": {},
   "outputs": [
    {
     "data": {
      "text/html": [
       "<div>\n",
       "<style scoped>\n",
       "    .dataframe tbody tr th:only-of-type {\n",
       "        vertical-align: middle;\n",
       "    }\n",
       "\n",
       "    .dataframe tbody tr th {\n",
       "        vertical-align: top;\n",
       "    }\n",
       "\n",
       "    .dataframe thead th {\n",
       "        text-align: right;\n",
       "    }\n",
       "</style>\n",
       "<table border=\"1\" class=\"dataframe\">\n",
       "  <thead>\n",
       "    <tr style=\"text-align: right;\">\n",
       "      <th></th>\n",
       "      <th>timestamp</th>\n",
       "      <th>site</th>\n",
       "    </tr>\n",
       "  </thead>\n",
       "  <tbody>\n",
       "    <tr>\n",
       "      <th>0</th>\n",
       "      <td>2013-11-15 08:12:07</td>\n",
       "      <td>fpdownload2.macromedia.com</td>\n",
       "    </tr>\n",
       "    <tr>\n",
       "      <th>1</th>\n",
       "      <td>2013-11-15 08:12:17</td>\n",
       "      <td>laposte.net</td>\n",
       "    </tr>\n",
       "    <tr>\n",
       "      <th>2</th>\n",
       "      <td>2013-11-15 08:12:17</td>\n",
       "      <td>www.laposte.net</td>\n",
       "    </tr>\n",
       "    <tr>\n",
       "      <th>3</th>\n",
       "      <td>2013-11-15 08:12:17</td>\n",
       "      <td>www.google.com</td>\n",
       "    </tr>\n",
       "    <tr>\n",
       "      <th>4</th>\n",
       "      <td>2013-11-15 08:12:18</td>\n",
       "      <td>www.laposte.net</td>\n",
       "    </tr>\n",
       "  </tbody>\n",
       "</table>\n",
       "</div>"
      ],
      "text/plain": [
       "             timestamp                        site\n",
       "0  2013-11-15 08:12:07  fpdownload2.macromedia.com\n",
       "1  2013-11-15 08:12:17                 laposte.net\n",
       "2  2013-11-15 08:12:17             www.laposte.net\n",
       "3  2013-11-15 08:12:17              www.google.com\n",
       "4  2013-11-15 08:12:18             www.laposte.net"
      ]
     },
     "execution_count": 49,
     "metadata": {},
     "output_type": "execute_result"
    }
   ],
   "source": [
    "df.head()"
   ]
  },
  {
   "cell_type": "code",
   "execution_count": 50,
   "metadata": {},
   "outputs": [],
   "source": [
    "sorted_site = dict(collections.OrderedDict(sorted(Counter(df.site).items(), key=lambda kv: kv[1], reverse = True)))"
   ]
  },
  {
   "cell_type": "code",
   "execution_count": 71,
   "metadata": {},
   "outputs": [],
   "source": [
    "import matplotlib.pyplot as plt"
   ]
  },
  {
   "cell_type": "code",
   "execution_count": 79,
   "metadata": {},
   "outputs": [
    {
     "data": {
      "image/png": "[encoded data removed]",
      "text/plain": [
       "<Figure size 432x288 with 1 Axes>"
      ]
     },
     "metadata": {
      "needs_background": "light"
     },
     "output_type": "display_data"
    }
   ],
   "source": [
    "sorted_site_1000 = {}\n",
    "\n",
    "for key, value in sorted_site.items():\n",
    "    if value >= 1000:\n",
    "        sorted_site_1000[key] = value\n",
    "    \n",
    "plt.hist(list(sorted_site_1000.values()))\n",
    "plt.show()\n",
    "#sorted_site_1000_hist\n",
    "#sorted_site_1000_hist.hist()"
   ]
  },
  {
   "cell_type": "code",
   "execution_count": 85,
   "metadata": {},
   "outputs": [
    {
     "data": {
      "text/plain": [
       "4913"
      ]
     },
     "execution_count": 85,
     "metadata": {},
     "output_type": "execute_result"
    }
   ],
   "source": [
    "site_freq = list(sorted_site.values())\n",
    "len(site_freq)"
   ]
  },
  {
   "cell_type": "code",
   "execution_count": 100,
   "metadata": {},
   "outputs": [],
   "source": [
    "site_mean_scores = list(map(np.mean, get_bootstrap_samples(np.array(site_freq), len(site_freq))))"
   ]
  },
  {
   "cell_type": "code",
   "execution_count": 101,
   "metadata": {},
   "outputs": [
    {
     "data": {
      "text/plain": [
       "[27.891105231019743,\n",
       " 24.295135355180133,\n",
       " 27.0677793608793,\n",
       " 27.184001628332993,\n",
       " 32.174638713616936,\n",
       " 28.17993079584775,\n",
       " 29.914105434561368,\n",
       " 27.266028902910644,\n",
       " 30.302462853653573,\n",
       " 25.549358843883574,\n",
       " 27.137187054752697,\n",
       " 23.657846529615306,\n",
       " 28.639120700183188,\n",
       " 26.376144921636474,\n",
       " 25.916751475676776,\n",
       " 31.33034805617749,\n",
       " 25.378790962751882,\n",
       " 26.273559943008344,\n",
       " 30.746997761042135,\n",
       " 42.23020557704051,\n",
       " 24.951557093425606,\n",
       " 29.266028902910644,\n",
       " 33.738652554447384,\n",
       " 23.868919193975167,\n",
       " 27.538978221046204,\n",
       " 21.88133523305516,\n",
       " 32.11215143496845,\n",
       " 30.1145939344596,\n",
       " 32.19112558518217,\n",
       " 28.189497252188072,\n",
       " 28.607775290046813,\n",
       " 31.614288622023203,\n",
       " 32.64481986566253,\n",
       " 32.239364950132305,\n",
       " 31.928963973132504,\n",
       " 29.522898432729495,\n",
       " 34.0844697740688,\n",
       " 30.313861184612254,\n",
       " 27.044779157337675,\n",
       " 25.481783024628538,\n",
       " 25.231223285161814,\n",
       " 26.410136372888257,\n",
       " 28.978628129452474,\n",
       " 27.710360268674943,\n",
       " 25.704864644819867,\n",
       " 33.82149399552208,\n",
       " 26.63199674333401,\n",
       " 30.5104823936495,\n",
       " 30.948707510685935,\n",
       " 32.829228577244045,\n",
       " 26.17239975575005,\n",
       " 32.23264807653165,\n",
       " 28.51394260126196,\n",
       " 27.63443924282516,\n",
       " 27.200895583146753,\n",
       " 24.10624872786485,\n",
       " 25.09403623040912,\n",
       " 28.444127824140036,\n",
       " 29.976389171585588,\n",
       " 28.048442906574394,\n",
       " 28.344392428251577,\n",
       " 27.716466517402807,\n",
       " 22.891105231019743,\n",
       " 23.428862202320374,\n",
       " 26.75208630164869,\n",
       " 27.567066965194382,\n",
       " 23.784652961530632,\n",
       " 24.647058823529413,\n",
       " 34.99898229187869,\n",
       " 29.811520455933238,\n",
       " 26.06961123549766,\n",
       " 25.429065743944637,\n",
       " 25.56035009159373,\n",
       " 30.207001831874617,\n",
       " 31.476694484021984,\n",
       " 25.90596376959088,\n",
       " 32.83777732546306,\n",
       " 28.92570730714431,\n",
       " 21.60166904131895,\n",
       " 27.336861388153878,\n",
       " 28.52635864034195,\n",
       " 24.76938733971097,\n",
       " 36.377976796254835,\n",
       " 31.82414003663749,\n",
       " 29.937512721351517,\n",
       " 30.72806838998575,\n",
       " 30.895786688377772,\n",
       " 27.83228170160798,\n",
       " 25.29289639731325,\n",
       " 32.94341542845512,\n",
       " 32.49175656421738,\n",
       " 26.35416242621616,\n",
       " 27.316100142479137,\n",
       " 25.118054142072054,\n",
       " 31.144718094850397,\n",
       " 34.69957256258905,\n",
       " 34.27396702625687,\n",
       " 28.153063301445144,\n",
       " 34.962751882760024,\n",
       " 26.52350905760228,\n",
       " 30.987176877671484,\n",
       " 30.79096275188276,\n",
       " 31.32668430694077,\n",
       " 33.401791166293506,\n",
       " 23.170771422755955,\n",
       " 33.99226541827804,\n",
       " 25.560960716466518,\n",
       " 25.17626704661103,\n",
       " 30.969265214736414,\n",
       " 25.33421534703847,\n",
       " 25.301648687156522,\n",
       " 29.255851821697537,\n",
       " 30.996946875636066,\n",
       " 22.98412375330755,\n",
       " 34.328109098310605,\n",
       " 22.072460818237328,\n",
       " 23.780989212293914,\n",
       " 26.21656828821494,\n",
       " 27.56767759006717,\n",
       " 29.036026867494403,\n",
       " 26.355383675961733,\n",
       " 30.875432525951556,\n",
       " 26.742723386932628,\n",
       " 27.330958681050276,\n",
       " 28.96030938326888,\n",
       " 29.623244453490738,\n",
       " 29.662120903724812,\n",
       " 24.298188479544066,\n",
       " 33.20048849989823,\n",
       " 27.917769183798086,\n",
       " 31.951557093425606,\n",
       " 23.58660696112355,\n",
       " 29.91044168532465,\n",
       " 28.280887441481784,\n",
       " 31.404640749033177,\n",
       " 32.74882963566049,\n",
       " 28.81620191329127,\n",
       " 30.227355994300833,\n",
       " 29.232037451658865,\n",
       " 26.3313657642988,\n",
       " 24.553022593120293,\n",
       " 30.32505597394667,\n",
       " 30.770608589456543,\n",
       " 33.61632403826582,\n",
       " 33.87339710970893,\n",
       " 27.136983513128435,\n",
       " 33.86993690209648,\n",
       " 27.748219010787707,\n",
       " 32.446977406879704,\n",
       " 32.98799104416853,\n",
       " 26.978017504579686,\n",
       " 25.741298595562792,\n",
       " 27.765927132098515,\n",
       " 21.12314268267861,\n",
       " 27.041115408100957,\n",
       " 29.653979238754324,\n",
       " 29.70812131080806,\n",
       " 25.436596784042337,\n",
       " 25.603093832688785,\n",
       " 31.274374109505395,\n",
       " 27.40036637492367,\n",
       " 25.568084673315692,\n",
       " 25.599837166700592,\n",
       " 28.089354773051088,\n",
       " 29.807449623447994,\n",
       " 29.33258701404437,\n",
       " 24.65540403012416,\n",
       " 37.309179727254225,\n",
       " 32.714634642784446,\n",
       " 26.32179930795848,\n",
       " 25.18278037858742,\n",
       " 27.63179320170975,\n",
       " 30.604111540810095,\n",
       " 24.041115408100957,\n",
       " 25.76735192346835,\n",
       " 32.12538164054549,\n",
       " 31.123753307551393,\n",
       " 25.281090983106044,\n",
       " 33.83533482597191,\n",
       " 32.95745980052921,\n",
       " 28.696926521473642,\n",
       " 32.66313861184612,\n",
       " 30.46794219417871,\n",
       " 17.820476287400773,\n",
       " 29.109912477101567,\n",
       " 29.849786281294524,\n",
       " 29.938326887848564,\n",
       " 27.219824954203133,\n",
       " 28.35864034194993,\n",
       " 31.766741298595562,\n",
       " 29.65438632200285,\n",
       " 30.03297374313047,\n",
       " 24.43578261754529,\n",
       " 31.763077549358844,\n",
       " 25.84815794830043,\n",
       " 27.578872379401588,\n",
       " 26.353348259719112,\n",
       " 33.01221249745573,\n",
       " 28.34174638713617,\n",
       " 24.775086505190313,\n",
       " 24.67046611031956,\n",
       " 26.39934866680236,\n",
       " 30.866680236108284,\n",
       " 26.849989822918786,\n",
       " 27.01038062283737,\n",
       " 30.435375534296764,\n",
       " 26.694484021982497,\n",
       " 28.72033380826379,\n",
       " 29.337879096275188,\n",
       " 26.910645226948912,\n",
       " 26.26847140240179,\n",
       " 25.061673112151436,\n",
       " 29.467535110930186,\n",
       " 31.45288011398331,\n",
       " 25.049460614695704,\n",
       " 27.69020964787299,\n",
       " 24.813148788927336,\n",
       " 29.967229798493793,\n",
       " 30.31833910034602,\n",
       " 26.542031345410138,\n",
       " 27.643598615916954,\n",
       " 25.551394260126195,\n",
       " 35.406879706900064,\n",
       " 29.095664563403215,\n",
       " 24.228577244046406,\n",
       " 26.672908609810705,\n",
       " 26.07347852635864,\n",
       " 23.628332994097292,\n",
       " 23.667005902707103,\n",
       " 25.46895990230002,\n",
       " 32.20130266639528,\n",
       " 28.99796458375738,\n",
       " 28.802971707714228,\n",
       " 32.2652147364136,\n",
       " 31.43618970079381,\n",
       " 35.569305923061265,\n",
       " 27.29940972928964,\n",
       " 30.644819865662527,\n",
       " 24.371259922654183,\n",
       " 24.77325463057195,\n",
       " 31.9397516792184,\n",
       " 25.534500305312438,\n",
       " 34.023407286790146,\n",
       " 30.32953388968044,\n",
       " 27.74862609403623,\n",
       " 26.523916140850805,\n",
       " 29.190514960309383,\n",
       " 29.190922043557908,\n",
       " 23.291675147567677,\n",
       " 34.00284958273967,\n",
       " 30.536128638306533,\n",
       " 24.32607368206798,\n",
       " 30.749033177284755,\n",
       " 26.943211886830856,\n",
       " 27.554243842865866,\n",
       " 30.00183187461836,\n",
       " 25.077549358843882,\n",
       " 27.096682271524525,\n",
       " 26.81721962141258,\n",
       " 30.453287197231834,\n",
       " 25.378180337879098,\n",
       " 26.76246692448606,\n",
       " 29.950742926928555,\n",
       " 29.448809281498065,\n",
       " 30.02177895379605,\n",
       " 26.3749236718909,\n",
       " 22.024628536535722,\n",
       " 26.639934866680235,\n",
       " 36.18420516995726,\n",
       " 28.822715245267656,\n",
       " 29.31080806024832,\n",
       " 28.853857113779767,\n",
       " 33.6116425809078,\n",
       " 29.542845511907185,\n",
       " 28.80785670669652,\n",
       " 28.357419092204356,\n",
       " 30.02177895379605,\n",
       " 29.293099938937512,\n",
       " 30.511500101770814,\n",
       " 28.979849379198047,\n",
       " 35.564217382454714,\n",
       " 28.682067982902502,\n",
       " 28.689395481375943,\n",
       " 28.11561164258091,\n",
       " 22.887645023407288,\n",
       " 28.285568898839813,\n",
       " 31.131691430897618,\n",
       " 31.137187054752697,\n",
       " 24.431711785060045,\n",
       " 35.61978424587828,\n",
       " 27.803378790962753,\n",
       " 31.197231833910035,\n",
       " 35.22511703643395,\n",
       " 30.743741095053938,\n",
       " 30.987176877671484,\n",
       " 30.950742926928555,\n",
       " 28.555872175859964,\n",
       " 33.51231426826786,\n",
       " 29.889069814777123,\n",
       " 24.921025849786282,\n",
       " 27.169957256258904,\n",
       " 30.963362507632812,\n",
       " 26.119275391817627,\n",
       " 23.27193161001425,\n",
       " 35.18359454508447,\n",
       " 30.5857927946265,\n",
       " 27.209240789741504,\n",
       " 22.775290046814572,\n",
       " 30.091797272542234,\n",
       " 32.00875228984327,\n",
       " 27.21575412171789,\n",
       " 21.00936291471606,\n",
       " 25.336861388153878,\n",
       " 30.46895990230002,\n",
       " 32.26725015265622,\n",
       " 23.89537960512925,\n",
       " 32.03582332587014,\n",
       " 32.66598819458579,\n",
       " 25.719112558518216,\n",
       " 35.71198860166904,\n",
       " 29.569509464685527,\n",
       " 27.702829228577244,\n",
       " 26.1339303887645,\n",
       " 26.876450234072866,\n",
       " 24.66782006920415,\n",
       " 29.12517809892123,\n",
       " 27.68634235701201,\n",
       " 31.92082230816202,\n",
       " 27.26928556889884,\n",
       " 28.80622837370242,\n",
       " 31.451658864237736,\n",
       " 32.80378587421128,\n",
       " 30.719112558518216,\n",
       " 32.60044779157338,\n",
       " 25.61408508039894,\n",
       " 29.713413393038877,\n",
       " 31.705475269692652,\n",
       " 27.940565845715447,\n",
       " 27.66741298595563,\n",
       " 27.4443313657643,\n",
       " 25.653572155505802,\n",
       " 30.687970690006107,\n",
       " 28.381233462243028,\n",
       " 33.48972114797476,\n",
       " 30.32505597394667,\n",
       " 27.50254427030328,\n",
       " 35.1850193364543,\n",
       " 34.51882760024425,\n",
       " 30.5497659271321,\n",
       " 25.108691227355994,\n",
       " 28.910238143700386,\n",
       " 33.24669244860574,\n",
       " 37.602483207816,\n",
       " 33.34561367799715,\n",
       " 29.36617138204763,\n",
       " 26.48687156523509,\n",
       " 29.007123956849174,\n",
       " 29.91227355994301,\n",
       " 31.280276816608996,\n",
       " 29.453897822104622,\n",
       " 31.235904742519846,\n",
       " 32.61204966415632,\n",
       " 25.62405861998779,\n",
       " 34.828210869122735,\n",
       " 27.42479136983513,\n",
       " 30.507022186037045,\n",
       " 26.842255241196824,\n",
       " 33.15143496845105,\n",
       " 32.258497862812945,\n",
       " 22.583553836759616,\n",
       " 25.4351719926725,\n",
       " 25.11662935070222,\n",
       " 31.043557907592103,\n",
       " 25.016690413189497,\n",
       " 26.29086098107063,\n",
       " 24.134744555261552,\n",
       " 25.1882760024425,\n",
       " 24.85019336454305,\n",
       " 28.562996132709138,\n",
       " 32.08141664970486,\n",
       " 26.671687360065132,\n",
       " 29.61489924689599,\n",
       " 26.009973539588845,\n",
       " 29.16873600651333,\n",
       " 33.78444941990637,\n",
       " 30.343985345003052,\n",
       " 33.630979035212704,\n",
       " 29.53673926317932,\n",
       " 26.776104213311623,\n",
       " 28.42845511907185,\n",
       " 27.35701200895583,\n",
       " 25.613270913901893,\n",
       " 26.653979238754324,\n",
       " 32.65051903114187,\n",
       " 25.684917565642174,\n",
       " 26.55180134337472,\n",
       " 29.52350905760228,\n",
       " 31.61795237125992,\n",
       " 27.548544677386527,\n",
       " 28.224302869936903,\n",
       " 29.68919193975168,\n",
       " 30.745165886423774,\n",
       " 24.74944026053328,\n",
       " 26.619173621005494,\n",
       " 26.643802157541217,\n",
       " 31.01791166293507,\n",
       " 26.832688784856504,\n",
       " 22.601261958070424,\n",
       " 28.353348259719112,\n",
       " 26.546509261143903,\n",
       " 30.543659678404232,\n",
       " 26.56604925707307,\n",
       " 29.826989619377162,\n",
       " 26.18440871158152,\n",
       " 29.218400162833298,\n",
       " 31.147364135965805,\n",
       " 24.3824547119886,\n",
       " 30.175045796865458,\n",
       " 23.520252391614086,\n",
       " 35.9564420924079,\n",
       " 25.013433747201304,\n",
       " 28.112558518216975,\n",
       " 29.075106859352736,\n",
       " 30.802564624465703,\n",
       " 29.72013026663953,\n",
       " 27.516385100753105,\n",
       " 26.264197028292287,\n",
       " 26.19478933441889,\n",
       " 26.801750457968655,\n",
       " 28.899450437614494,\n",
       " 30.875025442703034,\n",
       " 27.579483004274373,\n",
       " 22.963362507632812,\n",
       " 30.225320578058213,\n",
       " 28.34764909423977,\n",
       " 25.49053531447181,\n",
       " 27.326480765316507,\n",
       " 27.878892733564015,\n",
       " 31.11785060044779,\n",
       " 32.23997557500509,\n",
       " 36.463464278444945,\n",
       " 22.58762466924486,\n",
       " 32.314064726236516,\n",
       " 34.380012212497455,\n",
       " 35.41054345613678,\n",
       " 27.739263179320172,\n",
       " 23.100346020761247,\n",
       " 22.359454508446976,\n",
       " 22.621209037248118,\n",
       " 32.931813555872175,\n",
       " 30.777121921432933,\n",
       " 28.38611846122532,\n",
       " 29.24750661510279,\n",
       " 27.71097089354773,\n",
       " 29.807042540199472,\n",
       " 25.63158966008549,\n",
       " 29.80887441481783,\n",
       " 27.22145328719723,\n",
       " 24.151231426826786,\n",
       " 30.677386525544474,\n",
       " 26.36413596580501,\n",
       " 30.762263382861796,\n",
       " 30.838387950335843,\n",
       " 24.895786688377772,\n",
       " 30.365764298799103,\n",
       " 27.680643191532667,\n",
       " 26.063301445145534,\n",
       " 31.534703846936697,\n",
       " 32.11439039283533,\n",
       " 31.742723386932628,\n",
       " 27.488499898229186,\n",
       " 28.89253002238958,\n",
       " 25.64685528190515,\n",
       " 26.025646244657032,\n",
       " 32.88418481579483,\n",
       " 28.6761652757989,\n",
       " 32.899857520863016,\n",
       " 28.184815794830044,\n",
       " 32.153063301445144,\n",
       " 27.697537146346427,\n",
       " 34.90148585385711,\n",
       " 33.63036841033991,\n",
       " 26.508243435782617,\n",
       " 25.777121921432933,\n",
       " 22.374109505393854,\n",
       " 30.144514553226134,\n",
       " 30.74862609403623,\n",
       " 28.539995929167514,\n",
       " 29.14532871972318,\n",
       " 30.628332994097292,\n",
       " 28.662120903724812,\n",
       " 26.212497455729697,\n",
       " 25.932424180744963,\n",
       " 34.61082841441075,\n",
       " 28.8870343985345,\n",
       " 26.828821493995523,\n",
       " 30.25788723794016,\n",
       " 25.092814980663547,\n",
       " 33.00936291471606,\n",
       " 23.746183594545084,\n",
       " 29.0527172806839,\n",
       " 36.762263382861796,\n",
       " 26.950742926928555,\n",
       " 26.35802971707714,\n",
       " 26.82576836963159,\n",
       " 26.46875636067576,\n",
       " 33.82027274577651,\n",
       " 28.61693466313861,\n",
       " 34.47730510889477,\n",
       " 23.665377569713005,\n",
       " 29.397923875432525,\n",
       " 27.83350295135355,\n",
       " 25.396092000814168,\n",
       " 29.146142886220233,\n",
       " 30.388560960716468,\n",
       " 26.52737634846326,\n",
       " 27.63545695094647,\n",
       " 20.784856503154895,\n",
       " 28.291675147567677,\n",
       " 21.669244860573986,\n",
       " 30.158558925300223,\n",
       " 31.7665377569713,\n",
       " 31.14105434561368,\n",
       " 27.128638306533688,\n",
       " 23.691023814370038,\n",
       " 35.96702625686953,\n",
       " 24.548748219010786,\n",
       " 32.51170364339507,\n",
       " 24.91695501730104,\n",
       " 29.58823529411765,\n",
       " 29.300020354162427,\n",
       " 29.8778750254427,\n",
       " 30.007123956849174,\n",
       " 29.009159373091798,\n",
       " 33.105841644616326,\n",
       " 32.01200895583147,\n",
       " 29.600447791573377,\n",
       " 25.285161815591287,\n",
       " 32.759617341746385,\n",
       " 25.1263993486668,\n",
       " 29.743741095053938,\n",
       " 24.78444941990637,\n",
       " 25.277630775493588,\n",
       " 30.17585996336251,\n",
       " 27.882963566049256,\n",
       " 25.0301241603908,\n",
       " 34.30205577040505,\n",
       " 26.9413800122125,\n",
       " 30.719723183391004,\n",
       " 28.749033177284755,\n",
       " 29.982495420313455,\n",
       " 30.405454915530225,\n",
       " 34.59515570934256,\n",
       " 27.376552004885,\n",
       " 29.79645837573784,\n",
       " 28.293303480561775,\n",
       " 27.40097699979646,\n",
       " 28.248931406472625,\n",
       " 35.288418481579484,\n",
       " 26.372481172399755,\n",
       " 29.580704254019945,\n",
       " 28.11011601872583,\n",
       " 23.293303480561775,\n",
       " 25.979035212700996,\n",
       " 27.817423163036842,\n",
       " 25.517199267250152,\n",
       " 33.66924486057399,\n",
       " 29.753918176267046,\n",
       " 25.278241400366376,\n",
       " 29.458782821086913,\n",
       " 28.196417667412987,\n",
       " 33.82861795237126,\n",
       " 26.81559128841848,\n",
       " 26.890291064522696,\n",
       " 28.12741705678811,\n",
       " 34.27172806838998,\n",
       " 25.65235090576023,\n",
       " 26.873397109708936,\n",
       " 26.26277223692245,\n",
       " 34.075310400977,\n",
       " 27.896804396499085,\n",
       " 35.030531243639324,\n",
       " 29.069000610624872,\n",
       " 33.61388153877468,\n",
       " 27.562589049460616,\n",
       " 28.244453490738856,\n",
       " 26.552411968247508,\n",
       " 24.78424587828211,\n",
       " 31.22206391207002,\n",
       " 31.975167921840015,\n",
       " 29.84571544880928,\n",
       " 30.805414207205374,\n",
       " 30.062487278648483,\n",
       " 28.41135762263383,\n",
       " 24.36454304905353,\n",
       " 29.54142072053735,\n",
       " 30.397516792184003,\n",
       " 29.945654386322,\n",
       " 31.964583757378385,\n",
       " 30.421127620598412,\n",
       " 22.234276409525748,\n",
       " 31.730917972725422,\n",
       " 25.676775900671686,\n",
       " 24.410136372888257,\n",
       " 23.32607368206798,\n",
       " 27.66578465296153,\n",
       " 23.48992468959902,\n",
       " 29.906167311215142,\n",
       " 28.327294931813555,\n",
       " 27.524119682475067,\n",
       " 27.89436189700794,\n",
       " 29.694484021982497,\n",
       " 28.227152452676574,\n",
       " 28.02157541217179,\n",
       " 27.23732953388968,\n",
       " 31.805617748829636,\n",
       " 28.600244249949114,\n",
       " 25.669244860573986,\n",
       " 28.54325259515571,\n",
       " 30.48219010787706,\n",
       " 33.74923671890902,\n",
       " 26.63179320170975,\n",
       " 31.35599430083452,\n",
       " 24.481783024628538,\n",
       " 29.859352737634847,\n",
       " 31.112558518216975,\n",
       " 29.239772033380827,\n",
       " 26.389171585589253,\n",
       " 28.493588438835744,\n",
       " 31.374109505393854,\n",
       " 21.292285772440465,\n",
       " 29.569305923061265,\n",
       " 24.178506004477917,\n",
       " 27.231426826786077,\n",
       " 27.12253205780582,\n",
       " 23.217993079584776,\n",
       " 25.92082230816202,\n",
       " 24.17219621412579,\n",
       " 30.617138204762874,\n",
       " 26.390392835334826,\n",
       " 32.04254019947079,\n",
       " 32.69733360472217,\n",
       " 26.68817423163037,\n",
       " 27.338489721147976,\n",
       " 23.815184205169956,\n",
       " 24.758192550376553,\n",
       " 38.676775900671686,\n",
       " 28.53938530429473,\n",
       " 23.185833502951354,\n",
       " 21.81233462243029,\n",
       " 24.46875636067576,\n",
       " 25.660696112354977,\n",
       " 28.9413800122125,\n",
       " 31.074699776104215,\n",
       " 26.1807449623448,\n",
       " 29.99633625076328,\n",
       " 26.059434154284553,\n",
       " 30.02055770405048,\n",
       " 26.836352534093223,\n",
       " 24.771626297577853,\n",
       " 33.042336657846526,\n",
       " 31.171585589253002,\n",
       " 29.134337472013026,\n",
       " 29.295949521677183,\n",
       " 28.035212700997352,\n",
       " 27.221656828821494,\n",
       " 29.970893547730512,\n",
       " 28.98575208630165,\n",
       " 27.483411357622632,\n",
       " 30.50356197842459,\n",
       " 25.40687970690006,\n",
       " 25.841848157948302,\n",
       " 35.2243028699369,\n",
       " 29.283940565845715,\n",
       " 26.599226541827804,\n",
       " 33.417870954610216,\n",
       " 25.058823529411764,\n",
       " 29.3824547119886,\n",
       " 25.485243232240993,\n",
       " 25.521066558111134,\n",
       " 26.495013230205576,\n",
       " 20.160594341542847,\n",
       " 28.44453490738856,\n",
       " 32.462650111947895,\n",
       " 38.552411968247505,\n",
       " 31.166089965397923,\n",
       " 29.0661510278852,\n",
       " 34.36881742316304,\n",
       " 26.15041726032974,\n",
       " 27.66639527783432,\n",
       " 23.9548137594138,\n",
       " 30.919601058416447,\n",
       " 28.82190107877061,\n",
       " 27.397516792184003,\n",
       " 30.683492774272338,\n",
       " 24.37553429676369,\n",
       " 24.703032770201506,\n",
       " 30.690413189497253,\n",
       " 22.17138204762874,\n",
       " 22.58762466924486,\n",
       " 21.403419499287605,\n",
       " 28.26745369428048,\n",
       " 35.27905556686343,\n",
       " 29.232037451658865,\n",
       " 26.29737431304702,\n",
       " 34.02401791166294,\n",
       " 31.71097089354773,\n",
       " 27.490738856096073,\n",
       " 30.811316914308975,\n",
       " 26.129452473030735,\n",
       " 21.028495827396704,\n",
       " 25.830856910238143,\n",
       " 26.899857520863016,\n",
       " 33.21351516385101,\n",
       " 29.844290657439448,\n",
       " 35.46244657032363,\n",
       " 31.850396906167312,\n",
       " 33.610014247913696,\n",
       " 32.69611235497659,\n",
       " 26.234276409525748,\n",
       " 26.151027885202524,\n",
       " 21.636881742316305,\n",
       " 27.348056177488296,\n",
       " 29.361897007938122,\n",
       " 25.657846529615306,\n",
       " 28.931610014247912,\n",
       " 22.882556482800734,\n",
       " 24.34276409525748,\n",
       " 29.83065336861388,\n",
       " 21.357419092204356,\n",
       " 30.747811927539182,\n",
       " 27.663342153470385,\n",
       " 28.783838795033585,\n",
       " 31.167107673519233,\n",
       " 22.12314268267861,\n",
       " 35.69204152249135,\n",
       " 25.134744555261552,\n",
       " 29.417463871361694,\n",
       " 30.24404640749033,\n",
       " 31.484836148992468,\n",
       " 23.907999185833503,\n",
       " 23.3899857520863,\n",
       " 31.19031141868512,\n",
       " 28.32770201506208,\n",
       " 34.55994300834521,\n",
       " 26.767962548341135,\n",
       " 30.20435579075921,\n",
       " 31.02279666191736,\n",
       " 26.270913901892936,\n",
       " 30.945450844697742,\n",
       " 25.973132505597395,\n",
       " 26.020150620801953,\n",
       " 25.15143496845105,\n",
       " 24.068186444127825,\n",
       " 23.814166497048646,\n",
       " 29.532464889069814,\n",
       " 26.195603500915936,\n",
       " 31.396906167311215,\n",
       " 22.706900061062488,\n",
       " 25.429065743944637,\n",
       " 21.00264604111541,\n",
       " 30.83350295135355,\n",
       " 27.31569305923061,\n",
       " 27.629554243842865,\n",
       " 27.933645430490536,\n",
       " 27.639934866680235,\n",
       " 29.231833910034602,\n",
       " 27.766944840219825,\n",
       " 28.527579890087523,\n",
       " 38.985345003053126,\n",
       " 29.368817423163037,\n",
       " 28.993893751272136,\n",
       " 29.749236718909017,\n",
       " 30.584978628129452,\n",
       " 27.191329126806433,\n",
       " 27.43578261754529,\n",
       " 28.796051292489313,\n",
       " 30.835945450844697,\n",
       " 31.188072460818237,\n",
       " 27.95196417667413,\n",
       " 40.46794219417871,\n",
       " 26.23997557500509,\n",
       " 29.341135762263384,\n",
       " 29.389375127213516,\n",
       " 31.899653979238753,\n",
       " 29.509871768776716,\n",
       " 27.47852635864034,\n",
       " 28.588031752493386,\n",
       " 31.575412171789132,\n",
       " 26.839202116832894,\n",
       " 27.39181762670466,\n",
       " 29.509668227152453,\n",
       " 24.027478119275393,\n",
       " 27.10095664563403,\n",
       " 22.809077956442092,\n",
       " 27.983309586810503,\n",
       " 26.848768573173214,\n",
       " 20.470588235294116,\n",
       " 25.250966822715245,\n",
       " 26.686138815387746,\n",
       " 30.08100956645634,\n",
       " 23.895786688377772,\n",
       " 24.53185426419703,\n",
       " 26.475880317524933,\n",
       " 28.0903724811724,\n",
       " 27.275391817626705,\n",
       " 31.061673112151436,\n",
       " 24.526155098717688,\n",
       " 35.034398534500305,\n",
       " 26.061469570527173,\n",
       " 28.730307347852637,\n",
       " 33.87014044372074,\n",
       " 28.948707510685935,\n",
       " 30.181966212090373,\n",
       " 24.043150824343577,\n",
       " 25.93710563810299,\n",
       " 33.08365560757175,\n",
       " 29.027478119275393,\n",
       " 28.700793812334624,\n",
       " 31.40850803989416,\n",
       " 31.56014654996947,\n",
       " 30.877060858945654,\n",
       " 32.62894361897008,\n",
       " 23.603704457561573,\n",
       " 30.78994504376145,\n",
       " 29.813962955424383,\n",
       " 26.060044779157337,\n",
       " 29.871565235090575,\n",
       " 23.630775493588438,\n",
       " 29.46875636067576,\n",
       " 28.696519438225117,\n",
       " 34.520455933238345,\n",
       " 25.17708121310808,\n",
       " 29.27193161001425,\n",
       " 24.740891512314267,\n",
       " 28.352330551597802,\n",
       " 27.343781803378793,\n",
       " 28.188072460818237,\n",
       " 26.69774068797069,\n",
       " 38.59943008345206,\n",
       " 24.003053124363934,\n",
       " 35.28170160797883,\n",
       " 36.276409525748015,\n",
       " 28.508854060655406,\n",
       " 30.6083859149196,\n",
       " 40.776511296560145,\n",
       " 32.329126806431915,\n",
       " 30.277427233869325,\n",
       " 26.06309790352127,\n",
       " 32.28882556482801,\n",
       " 27.863830653368613,\n",
       " 19.260126195807043,\n",
       " 25.84001628332994,\n",
       " 25.35965805007124,\n",
       " 28.78058212904539,\n",
       " 29.41033991451252,\n",
       " 29.972114797476085,\n",
       " 25.30429472827193,\n",
       " 34.66212090372481,\n",
       " 27.14431101160187,\n",
       " 25.523305515978016,\n",
       " 28.14878892733564,\n",
       " 28.567066965194382,\n",
       " 29.263179320170973,\n",
       " 28.858538571137796,\n",
       " 29.465499694687562,\n",
       " 22.999185833502953,\n",
       " 26.149399552208425,\n",
       " 25.971300630979034,\n",
       " 30.7062894361897,\n",
       " 37.19763891715856,\n",
       " 25.343374720130267,\n",
       " 29.036230409118666,\n",
       " 27.774679421941787,\n",
       " 30.273356401384085,\n",
       " 30.496845104823937,\n",
       " 32.879910441685325,\n",
       " 30.973743130470183,\n",
       " 31.313250559739465,\n",
       " 24.588845918990433,\n",
       " 36.73397109708935,\n",
       " 36.58029717077142,\n",
       " 27.999796458375737,\n",
       " 20.85670669651944,\n",
       " 28.628740077345817,\n",
       " 24.328923264807653,\n",
       " 27.285161815591287,\n",
       " 29.395684917565642,\n",
       " 28.898229187868917,\n",
       " 28.845104823936495,\n",
       " 24.013840830449826,\n",
       " 28.624872786484836,\n",
       " 25.22409932831264,\n",
       " 31.84469774068797,\n",
       " 22.743741095053938,\n",
       " 30.49806635456951,\n",
       " 24.57724404640749,\n",
       " 26.039079991858333,\n",
       " 26.12151434968451,\n",
       " 27.848361489924688,\n",
       " 35.91817626704661,\n",
       " 25.68552819051496,\n",
       " 30.086912273559943,\n",
       " 32.22409932831264,\n",
       " 24.766130673722778,\n",
       " 30.771422755953594,\n",
       " 28.10360268674944,\n",
       " 31.73254630571952,\n",
       " 26.872175859963363,\n",
       " 33.169957256258904,\n",
       " 26.863016486871565,\n",
       " 35.15367392631793,\n",
       " 26.483614899246895,\n",
       " 30.8041929574598,\n",
       " 31.904742519845307,\n",
       " 30.006106248727864,\n",
       " 30.345206594748625,\n",
       " 22.82027274577651,\n",
       " 32.13067372277631,\n",
       " 23.04131894972522,\n",
       " 21.948911052310198,\n",
       " 26.184001628332993,\n",
       " 30.974353755342968,\n",
       " 27.958070425401996,\n",
       " 28.28231223285162,\n",
       " 27.588031752493386,\n",
       " 27.85670669651944,\n",
       " 29.256665988194587,\n",
       " 23.76002442499491,\n",
       " 31.02279666191736,\n",
       " 20.594748626094038,\n",
       " 26.302666395277836,\n",
       " 29.010177081213108,\n",
       " 31.314878892733564,\n",
       " 28.686952981884794,\n",
       " 30.657846529615306,\n",
       " 28.110930185222877,\n",
       " 31.913087726440057,\n",
       " 29.082230816201914,\n",
       " 38.95949521677183,\n",
       " 33.926725015265625,\n",
       " 28.115204559332383,\n",
       " 26.38978221046204,\n",
       " 28.10808060248321,\n",
       " 23.90189293710564,\n",
       " 31.755750050885407,\n",
       " 30.48463260736821,\n",
       " 31.547730510889476,\n",
       " 24.24954203134541,\n",
       " 22.102992061876655,\n",
       " 27.70913901892937,\n",
       " 23.602076124567475,\n",
       " 33.957663342153474,\n",
       " 29.845308365560758,\n",
       " 23.231019743537555,\n",
       " 28.491756564217383,\n",
       " 26.019336454304906,\n",
       " 27.89171585589253,\n",
       " 32.61571341339304,\n",
       " 28.54630571951964,\n",
       " 32.31365764298799,\n",
       " 39.37105638102992,\n",
       " 31.086912273559943,\n",
       " 27.97923875432526,\n",
       " 29.277630775493588,\n",
       " 28.994707917769183,\n",
       " 32.608996539792386,\n",
       " 26.81070628943619,\n",
       " 29.22023203745166,\n",
       " 23.785874211276205,\n",
       " 24.172806838998575,\n",
       " 31.7288825564828,\n",
       " 25.785467128027683,\n",
       " 27.70323631182577,\n",
       " 29.583350295135354,\n",
       " 27.054549155302258,\n",
       " 35.184815794830044,\n",
       " 33.162833299409726,\n",
       " 32.4443313657643,\n",
       " 29.9472827193161,\n",
       " 26.404640749033177,\n",
       " 30.584164461632405,\n",
       " 22.327905556686343,\n",
       " 27.08670873193568,\n",
       " 25.30592306126603,\n",
       " 32.25157744758803,\n",
       " 27.05739873804193,\n",
       " 30.13942601261958,\n",
       " 31.55668634235701,\n",
       " 32.328109098310605,\n",
       " 21.20435579075921,\n",
       " 21.713820476287403,\n",
       " 26.882760024424996,\n",
       " 31.245267657235903,\n",
       " 24.464481986566252,\n",
       " 29.61489924689599,\n",
       " 24.922654182780377,\n",
       " 33.33584368003257,\n",
       " 31.305515978017503,\n",
       " 30.705475269692652,\n",
       " ...]"
      ]
     },
     "execution_count": 101,
     "metadata": {},
     "output_type": "execute_result"
    }
   ],
   "source": [
    "site_mean_scores"
   ]
  },
  {
   "cell_type": "code",
   "execution_count": 102,
   "metadata": {},
   "outputs": [
    {
     "name": "stdout",
     "output_type": "stream",
     "text": [
      "95% confidence interval for the ILEC median repair time: [22.51524527 35.76303684]\n"
     ]
    }
   ],
   "source": [
    "print (\"95% confidence interval for the ILEC median repair time:\",  stat_intervals(site_mean_scores, 0.05))"
   ]
  },
  {
   "cell_type": "code",
   "execution_count": 99,
   "metadata": {},
   "outputs": [
    {
     "data": {
      "text/plain": [
       "[88, 23, 119, 5441, 84]"
      ]
     },
     "execution_count": 99,
     "metadata": {},
     "output_type": "execute_result"
    }
   ],
   "source": [
    "not_sorted = Counter(df.site)\n",
    "not_sorted_freq = list(not_sorted.values())\n",
    "not_sorted_freq[:5]"
   ]
  },
  {
   "cell_type": "code",
   "execution_count": 103,
   "metadata": {},
   "outputs": [],
   "source": [
    "site_mean_scores_not_sort = list(map(np.mean, get_bootstrap_samples(np.array(not_sorted_freq), len(not_sorted_freq))))"
   ]
  },
  {
   "cell_type": "code",
   "execution_count": 104,
   "metadata": {},
   "outputs": [
    {
     "name": "stdout",
     "output_type": "stream",
     "text": [
      "95% confidence interval for the ILEC median repair time: [22.49440261 35.56588642]\n"
     ]
    }
   ],
   "source": [
    "print (\"95% confidence interval for the ILEC median repair time:\",  stat_intervals(site_mean_scores_not_sort, 0.05))"
   ]
  },
  {
   "cell_type": "code",
   "execution_count": null,
   "metadata": {},
   "outputs": [],
   "source": []
  }
 ],
 "metadata": {
  "kernelspec": {
   "display_name": "Python 3",
   "language": "python",
   "name": "python3"
  },
  "language_info": {
   "codemirror_mode": {
    "name": "ipython",
    "version": 3
   },
   "file_extension": ".py",
   "mimetype": "text/x-python",
   "name": "python",
   "nbconvert_exporter": "python",
   "pygments_lexer": "ipython3",
   "version": "3.7.3"
  }
 },
 "nbformat": 4,
 "nbformat_minor": 2
}
