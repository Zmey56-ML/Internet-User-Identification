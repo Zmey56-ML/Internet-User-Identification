{
 "cells": [
  {
   "cell_type": "markdown",
   "metadata": {},
   "source": [
    "# Неделя 4. Сравнение алгоритмов классификации\n",
    "\n",
    "Теперь мы наконец подойдем к обучению моделей классификации, сравним на кросс-валидации несколько алгоритмов, разберемся, какие параметры длины сессии (session_length и window_size) лучше использовать. Также для выбранного алгоритма построим кривые валидации (как качество классификации зависит от одного из гиперпараметров алгоритма) и кривые обучения (как качество классификации зависит от объема выборки).\n",
    "\n",
    "**План 4 недели:**\n",
    "\n",
    "* Часть 1. Сравнение нескольких алгоритмов на сессиях из 10 сайтов\n",
    "* Часть 2. Выбор параметров – длины сессии и ширины окна\n",
    "* Часть 3. Идентификация конкретного пользователя и кривые обучения"
   ]
  },
  {
   "cell_type": "code",
   "execution_count": 1,
   "metadata": {},
   "outputs": [],
   "source": [
    "# pip install watermark\n",
    "%load_ext watermark"
   ]
  },
  {
   "cell_type": "code",
   "execution_count": 2,
   "metadata": {},
   "outputs": [
    {
     "name": "stdout",
     "output_type": "stream",
     "text": [
      "CPython 3.7.3\n",
      "IPython 7.4.0\n",
      "\n",
      "numpy 1.16.2\n",
      "scipy 1.2.1\n",
      "pandas 0.24.2\n",
      "matplotlib 3.0.3\n",
      "statsmodels 0.9.0\n",
      "sklearn 0.20.3\n",
      "\n",
      "compiler   : MSC v.1915 64 bit (AMD64)\n",
      "system     : Windows\n",
      "release    : 10\n",
      "machine    : AMD64\n",
      "processor  : Intel64 Family 6 Model 142 Stepping 10, GenuineIntel\n",
      "CPU cores  : 8\n",
      "interpreter: 64bit\n",
      "Git hash   :\n"
     ]
    }
   ],
   "source": [
    "%watermark -v -m -p numpy,scipy,pandas,matplotlib,statsmodels,sklearn -g"
   ]
  },
  {
   "cell_type": "code",
   "execution_count": 3,
   "metadata": {},
   "outputs": [],
   "source": [
    "from __future__ import division, print_function\n",
    "# отключим всякие предупреждения Anaconda\n",
    "import warnings\n",
    "warnings.filterwarnings('ignore')\n",
    "from time import time\n",
    "import itertools\n",
    "import os\n",
    "import numpy as np\n",
    "import pandas as pd\n",
    "import seaborn as sns\n",
    "%matplotlib inline\n",
    "from matplotlib import pyplot as plt\n",
    "import pickle\n",
    "from scipy.sparse import csr_matrix\n",
    "from sklearn.model_selection import train_test_split, cross_val_score, StratifiedKFold, GridSearchCV\n",
    "from sklearn.metrics import accuracy_score, f1_score"
   ]
  },
  {
   "cell_type": "code",
   "execution_count": 19,
   "metadata": {},
   "outputs": [],
   "source": [
    "# Поменяйте на свой путь к данным\n",
    "PATH_TO_DATA = 'capstone_user_identification'"
   ]
  },
  {
   "cell_type": "markdown",
   "metadata": {},
   "source": [
    "## Часть 1. Сравнение нескольких алгоритмов на сессиях из 10 сайтов"
   ]
  },
  {
   "cell_type": "markdown",
   "metadata": {},
   "source": [
    "**Загрузим сериализованные ранее объекты X_sparse_10users и y_10users, соответствующие обучающей выборке для 10 пользователей.**"
   ]
  },
  {
   "cell_type": "code",
   "execution_count": 15,
   "metadata": {},
   "outputs": [],
   "source": [
    "# в связи с тем, что не сделал четыре файла (в зависимости от пользователей) на первой неделе, прийдеться делать их сейчас. \n",
    "# Два сделаю на второй, так как там функция для создания разряженной матрицы, а здесь \"y\"\n",
    "\n",
    "PATH_TO_DATA_2 = 'capstone_websites_data'\n",
    "\n",
    "train_data_10users = pd.read_csv(os.path.join(PATH_TO_DATA_2, 'train_data_10users.csv'), \n",
    "                       index_col='session_id')\n",
    "\n",
    "X_10users, y_10users = train_data_10users.iloc[:, :-1].values, \\\n",
    "                       train_data_10users.iloc[:, -1].values\n",
    "\n",
    "with open(os.path.join(PATH_TO_DATA, 'y_10users.pkl'), 'wb') as y10_pkl:\n",
    "    pickle.dump(y_10users, y10_pkl, protocol=2)\n",
    "    \n",
    "\n",
    "train_data_150users = pd.read_csv(os.path.join(PATH_TO_DATA_2, 'train_data_150users.csv'), \n",
    "                       index_col='session_id')\n",
    "\n",
    "X_150users, y_150users = train_data_150users.iloc[:, :-1].values, \\\n",
    "                       train_data_150users.iloc[:, -1].values\n",
    "\n",
    "with open(os.path.join(PATH_TO_DATA, 'y_150users.pkl'), 'wb') as y150_pkl:\n",
    "    pickle.dump(y_150users, y150_pkl, protocol=2)"
   ]
  },
  {
   "cell_type": "code",
   "execution_count": 20,
   "metadata": {},
   "outputs": [],
   "source": [
    "with open(os.path.join(PATH_TO_DATA, 'X_sparse_10users.pkl'), 'rb') as X_sparse_10users_pkl:\n",
    "    X_sparse_10users = pickle.load(X_sparse_10users_pkl)\n",
    "with open(os.path.join(PATH_TO_DATA, 'y_10users.pkl'), 'rb') as y_10users_pkl:\n",
    "    y_10users = pickle.load(y_10users_pkl)"
   ]
  },
  {
   "cell_type": "code",
   "execution_count": 21,
   "metadata": {},
   "outputs": [
    {
     "data": {
      "text/plain": [
       "(14061, 4913)"
      ]
     },
     "execution_count": 21,
     "metadata": {},
     "output_type": "execute_result"
    }
   ],
   "source": [
    "X_sparse_10users.shape"
   ]
  },
  {
   "cell_type": "markdown",
   "metadata": {},
   "source": [
    "**Разобьем выборку на 2 части. На одной будем проводить кросс-валидацию, на второй – оценивать модель, обученную после кросс-валидации.**"
   ]
  },
  {
   "cell_type": "code",
   "execution_count": 22,
   "metadata": {},
   "outputs": [],
   "source": [
    "X_train, X_valid, y_train, y_valid = train_test_split(X_sparse_10users, y_10users, \n",
    "                                                      test_size=0.3, \n",
    "                                                     random_state=17, stratify=y_10users)"
   ]
  },
  {
   "cell_type": "markdown",
   "metadata": {},
   "source": [
    "**Зададим заранее тип кросс-валидации: 3-кратная, с перемешиванием, параметр random_state=17 – для воспроизводимости.**"
   ]
  },
  {
   "cell_type": "code",
   "execution_count": 8,
   "metadata": {},
   "outputs": [],
   "source": [
    "skf = StratifiedKFold(n_splits=3, shuffle=True, random_state=17)"
   ]
  },
  {
   "cell_type": "markdown",
   "metadata": {},
   "source": [
    "**Вспомогательная функция для отрисовки кривых валидации после запуска GridSearchCV (или RandomizedCV).**"
   ]
  },
  {
   "cell_type": "code",
   "execution_count": 10,
   "metadata": {},
   "outputs": [],
   "source": [
    "def plot_validation_curves(param_values, grid_cv_results_):\n",
    "    train_mu, train_std = grid_cv_results_['mean_train_score'], grid_cv_results_['std_train_score']\n",
    "    valid_mu, valid_std = grid_cv_results_['mean_test_score'], grid_cv_results_['std_test_score']\n",
    "    train_line = plt.plot(param_values, train_mu, '-', label='train', color='green')\n",
    "    valid_line = plt.plot(param_values, valid_mu, '-', label='test', color='red')\n",
    "    plt.fill_between(param_values, train_mu - train_std, train_mu + train_std, edgecolor='none',\n",
    "                     facecolor=train_line[0].get_color(), alpha=0.2)\n",
    "    plt.fill_between(param_values, valid_mu - valid_std, valid_mu + valid_std, edgecolor='none',\n",
    "                     facecolor=valid_line[0].get_color(), alpha=0.2)\n",
    "    plt.legend()"
   ]
  },
  {
   "cell_type": "markdown",
   "metadata": {},
   "source": [
    "**1. Обучите KNeighborsClassifier со 100 ближайшими соседями (остальные параметры оставьте по умолчанию, только n_jobs=-1 для распараллеливания) и посмотрите на долю правильных ответов на 3-кратной кросс-валидации (ради воспроизводимости используйте для этого объект StratifiedKFold skf) по выборке (X_train, y_train) и отдельно на выборке (X_valid, y_valid).**"
   ]
  },
  {
   "cell_type": "code",
   "execution_count": 11,
   "metadata": {},
   "outputs": [],
   "source": [
    "from sklearn.neighbors import KNeighborsClassifier\n",
    "from sklearn.metrics import accuracy_score\n",
    "from time import time"
   ]
  },
  {
   "cell_type": "code",
   "execution_count": 12,
   "metadata": {},
   "outputs": [],
   "source": [
    "knn = KNeighborsClassifier(n_neighbors=100, n_jobs=-1)"
   ]
  },
  {
   "cell_type": "code",
   "execution_count": 13,
   "metadata": {},
   "outputs": [
    {
     "name": "stdout",
     "output_type": "stream",
     "text": [
      "CV scores: [0.56925419 0.56968588 0.5552166 ]\n",
      "mean: 0.5647188870063362\n",
      "std: 0.006721445681604895\n",
      "Time elapsed:  8.494625806808472\n"
     ]
    }
   ],
   "source": [
    "t_start = time()\n",
    "scores = cross_val_score(knn, X_train, y_train, cv=skf)\n",
    "print(\"CV scores:\", scores)\n",
    "print(\"mean:\", np.mean(scores))\n",
    "print(\"std:\", np.std(scores))\n",
    "print(\"Time elapsed: \", time()-t_start)"
   ]
  },
  {
   "cell_type": "code",
   "execution_count": 14,
   "metadata": {},
   "outputs": [
    {
     "name": "stdout",
     "output_type": "stream",
     "text": [
      "CV scores: [0.48688873 0.4975089  0.50819672]\n",
      "mean: 0.49753144983493386\n",
      "std: 0.008698965073972605\n",
      "Time elapsed:  1.3075299263000488\n"
     ]
    }
   ],
   "source": [
    "t_start = time()\n",
    "scores = cross_val_score(knn, X_valid, y_valid, cv=skf)\n",
    "print(\"CV scores:\", scores)\n",
    "print(\"mean:\", np.mean(scores))\n",
    "print(\"std:\", np.std(scores))\n",
    "print(\"Time elapsed: \", time()-t_start)"
   ]
  },
  {
   "cell_type": "code",
   "execution_count": 15,
   "metadata": {},
   "outputs": [
    {
     "data": {
      "text/plain": [
       "KNeighborsClassifier(algorithm='auto', leaf_size=30, metric='minkowski',\n",
       "           metric_params=None, n_jobs=-1, n_neighbors=100, p=2,\n",
       "           weights='uniform')"
      ]
     },
     "execution_count": 15,
     "metadata": {},
     "output_type": "execute_result"
    }
   ],
   "source": [
    "knn.fit(X_train, y_train)"
   ]
  },
  {
   "cell_type": "code",
   "execution_count": 16,
   "metadata": {},
   "outputs": [
    {
     "name": "stdout",
     "output_type": "stream",
     "text": [
      "0.584024650391088\n",
      "Time elapsed:  3.6717538833618164\n"
     ]
    }
   ],
   "source": [
    "t_start = time()\n",
    "knn_pred = knn.predict(X_valid)\n",
    "print(accuracy_score(y_valid, knn_pred))\n",
    "print(\"Time elapsed: \", time()-t_start)"
   ]
  },
  {
   "cell_type": "markdown",
   "metadata": {},
   "source": [
    "**2. Обучите случайный лес (RandomForestClassifier) из 100 деревьев (для воспроизводимости random_state=17). Посмотрите на OOB-оценку (для этого надо сразу установить oob_score=True) и на долю правильных ответов на выборке (X_valid, y_valid). Для распараллеливания задайте n_jobs=-1.**"
   ]
  },
  {
   "cell_type": "code",
   "execution_count": 17,
   "metadata": {},
   "outputs": [],
   "source": [
    "from sklearn.ensemble import RandomForestClassifier"
   ]
  },
  {
   "cell_type": "code",
   "execution_count": 18,
   "metadata": {},
   "outputs": [],
   "source": [
    "clf = RandomForestClassifier(n_estimators=100, random_state=17, oob_score=True, n_jobs=-1)"
   ]
  },
  {
   "cell_type": "code",
   "execution_count": 19,
   "metadata": {},
   "outputs": [
    {
     "name": "stdout",
     "output_type": "stream",
     "text": [
      "Score:  0.9759195285511075\n",
      "Time elapsed:  6.017571687698364\n"
     ]
    }
   ],
   "source": [
    "t_start = time()\n",
    "clf.fit(X_train, y_train)\n",
    "print('Score: ', clf.score(X_train, y_train))\n",
    "print(\"Time elapsed: \", time()-t_start)"
   ]
  },
  {
   "cell_type": "code",
   "execution_count": 20,
   "metadata": {},
   "outputs": [
    {
     "name": "stdout",
     "output_type": "stream",
     "text": [
      "0.7172322698638488\n"
     ]
    }
   ],
   "source": [
    "print(clf.oob_score_)"
   ]
  },
  {
   "cell_type": "code",
   "execution_count": 21,
   "metadata": {},
   "outputs": [
    {
     "name": "stdout",
     "output_type": "stream",
     "text": [
      "0.7312159279450107\n",
      "Time elapsed:  0.10735368728637695\n"
     ]
    }
   ],
   "source": [
    "t_start = time()\n",
    "clf_pred = clf.predict(X_valid)\n",
    "print(accuracy_score(y_valid, clf_pred))\n",
    "print(\"Time elapsed: \", time()-t_start)"
   ]
  },
  {
   "cell_type": "markdown",
   "metadata": {},
   "source": [
    "**3. Обучите логистическую регрессию (LogisticRegression) с параметром C по умолчанию и random_state=17 (для воспроизводимости). Посмотрите на долю правильных ответов на кросс-валидации (используйте объект skf, созданный ранее) и на выборке (X_valid, y_valid). Для распараллеливания задайте n_jobs=-1.**"
   ]
  },
  {
   "cell_type": "code",
   "execution_count": 12,
   "metadata": {},
   "outputs": [],
   "source": [
    "from sklearn.linear_model import LogisticRegression\n",
    "from sklearn.linear_model import LogisticRegressionCV"
   ]
  },
  {
   "cell_type": "code",
   "execution_count": 23,
   "metadata": {},
   "outputs": [],
   "source": [
    "clf = LogisticRegression(random_state=17, n_jobs=-1)"
   ]
  },
  {
   "cell_type": "code",
   "execution_count": 24,
   "metadata": {},
   "outputs": [
    {
     "name": "stdout",
     "output_type": "stream",
     "text": [
      "CV scores: [0.75616438 0.76974687 0.75716901]\n",
      "mean: 0.7610267543665875\n",
      "std: 0.006179680775757465\n",
      "Time elapsed:  2.1499271392822266\n"
     ]
    }
   ],
   "source": [
    "t_start = time()\n",
    "scores = cross_val_score(clf, X_train, y_train, cv=skf)\n",
    "print(\"CV scores:\", scores)\n",
    "print(\"mean:\", np.mean(scores))\n",
    "print(\"std:\", np.std(scores))\n",
    "print(\"Time elapsed: \", time()-t_start)"
   ]
  },
  {
   "cell_type": "code",
   "execution_count": 25,
   "metadata": {},
   "outputs": [
    {
     "name": "stdout",
     "output_type": "stream",
     "text": [
      "CV scores: [0.48688873 0.4975089  0.50819672]\n",
      "mean: 0.49753144983493386\n",
      "std: 0.008698965073972605\n",
      "Time elapsed:  1.2372586727142334\n"
     ]
    }
   ],
   "source": [
    "t_start = time()\n",
    "scores = cross_val_score(knn, X_valid, y_valid, cv=skf)\n",
    "print(\"CV scores:\", scores)\n",
    "print(\"mean:\", np.mean(scores))\n",
    "print(\"std:\", np.std(scores))\n",
    "print(\"Time elapsed: \", time()-t_start)"
   ]
  },
  {
   "cell_type": "code",
   "execution_count": 26,
   "metadata": {},
   "outputs": [
    {
     "data": {
      "text/plain": [
       "LogisticRegression(C=1.0, class_weight=None, dual=False, fit_intercept=True,\n",
       "          intercept_scaling=1, max_iter=100, multi_class='warn', n_jobs=-1,\n",
       "          penalty='l2', random_state=17, solver='warn', tol=0.0001,\n",
       "          verbose=0, warm_start=False)"
      ]
     },
     "execution_count": 26,
     "metadata": {},
     "output_type": "execute_result"
    }
   ],
   "source": [
    "clf.fit(X_train, y_train)"
   ]
  },
  {
   "cell_type": "code",
   "execution_count": 27,
   "metadata": {},
   "outputs": [
    {
     "name": "stdout",
     "output_type": "stream",
     "text": [
      "0.7817018250770325\n",
      "Time elapsed:  0.004979133605957031\n"
     ]
    }
   ],
   "source": [
    "t_start = time()\n",
    "clf_pred = clf.predict(X_valid)\n",
    "print(accuracy_score(y_valid, clf_pred))\n",
    "print(\"Time elapsed: \", time()-t_start)"
   ]
  },
  {
   "cell_type": "markdown",
   "metadata": {},
   "source": [
    "Почитайте документацию к LogisticRegressionCV. Логистическая регрессия хорошо изучена, и для нее существуют алгоритмы быстрого подбора параметра регуляризации C (быстрее, чем с GridSearchCV).\n",
    "\n",
    "С помощью LogisticRegressionCV подберите параметр C для LogisticRegression сначала в широком диапазоне: 10 значений от 1e-4 до 1e2, используйте logspace из NumPy. Укажите у LogisticRegressionCV параметры multi_class='multinomial' и random_state=17. Для кросс-валидации используйте объект skf, созданный ранее. Для распараллеливания задайте n_jobs=-1.\n",
    "\n",
    "Нарисуйте кривые валидации по параметру C."
   ]
  },
  {
   "cell_type": "code",
   "execution_count": 28,
   "metadata": {},
   "outputs": [
    {
     "name": "stdout",
     "output_type": "stream",
     "text": [
      "Time elapsed:  14.351906061172485\n"
     ]
    }
   ],
   "source": [
    "t_start = time()\n",
    "logit_c_values1 = np.logspace(-4,2,10)\n",
    "logit_grid_searcher1 = LogisticRegressionCV(logit_c_values1, cv=skf, multi_class='multinomial', random_state=17, n_jobs=-1)\n",
    "logit_grid_searcher1.fit(X_train, y_train)\n",
    "print(\"Time elapsed: \", time()-t_start)"
   ]
  },
  {
   "cell_type": "markdown",
   "metadata": {},
   "source": [
    "Средние значения доли правильных ответов на кросс-валидации по каждому из 10 параметров C."
   ]
  },
  {
   "cell_type": "code",
   "execution_count": 29,
   "metadata": {},
   "outputs": [],
   "source": [
    "logit_mean_cv_scores1 = np.mean(logit_grid_searcher1.scores_[1], axis=0)"
   ]
  },
  {
   "cell_type": "markdown",
   "metadata": {},
   "source": [
    "Выведите лучшее значение доли правильных ответов на кросс-валидации и соответствующее значение C."
   ]
  },
  {
   "cell_type": "code",
   "execution_count": 30,
   "metadata": {},
   "outputs": [
    {
     "name": "stdout",
     "output_type": "stream",
     "text": [
      "0.7590972822063531  -  1.0\n"
     ]
    }
   ],
   "source": [
    "print(logit_mean_cv_scores1.max(), \" - \", logit_c_values1[np.argmax(logit_mean_cv_scores1)])"
   ]
  },
  {
   "cell_type": "markdown",
   "metadata": {},
   "source": [
    "Нарисуйте график зависимости доли правильных ответов на кросс-валидации от C."
   ]
  },
  {
   "cell_type": "code",
   "execution_count": 31,
   "metadata": {},
   "outputs": [
    {
     "data": {
      "image/png": "[encoded data removed]",
      "text/plain": [
       "<Figure size 432x288 with 1 Axes>"
      ]
     },
     "metadata": {
      "needs_background": "light"
     },
     "output_type": "display_data"
    }
   ],
   "source": [
    "plt.plot(logit_c_values1, logit_mean_cv_scores1);"
   ]
  },
  {
   "cell_type": "markdown",
   "metadata": {},
   "source": [
    "**Теперь то же самое, только значения параметра C перебирайте в диапазоне np.linspace(0.1, 7, 20). Опять нарисуйте кривые валидации, определите максимальное значение доли правильных ответов на кросс-валидации.**"
   ]
  },
  {
   "cell_type": "code",
   "execution_count": 74,
   "metadata": {},
   "outputs": [
    {
     "name": "stdout",
     "output_type": "stream",
     "text": [
      "Time elapsed:  24.426214456558228\n"
     ]
    }
   ],
   "source": [
    "t_start = time()\n",
    "logit_c_values2 = np.linspace(0.1, 7, 20)\n",
    "logit_grid_searcher2 = LogisticRegressionCV(Cs=logit_c_values2, cv=skf, multi_class='multinomial', random_state=17, n_jobs=-1)\n",
    "logit_grid_searcher2.fit(X_train, y_train)\n",
    "print(\"Time elapsed: \", time()-t_start)"
   ]
  },
  {
   "cell_type": "markdown",
   "metadata": {},
   "source": [
    "Средние значения доли правильных ответов на кросс-валидации по каждому из 10 параметров C."
   ]
  },
  {
   "cell_type": "code",
   "execution_count": 76,
   "metadata": {},
   "outputs": [],
   "source": [
    "logit_mean_cv_scores2 = np.mean(logit_grid_searcher2.scores_[1], axis=0)"
   ]
  },
  {
   "cell_type": "code",
   "execution_count": 34,
   "metadata": {},
   "outputs": [
    {
     "data": {
      "text/plain": [
       "array([0.7354267 , 0.75879138, 0.75838615, 0.75767442, 0.75808192,\n",
       "       0.75777741, 0.75808257, 0.75757484, 0.75716896, 0.75676347,\n",
       "       0.75727132, 0.7565601 , 0.75605243, 0.7555448 , 0.75524069,\n",
       "       0.75473315, 0.75432726, 0.75473383, 0.75432754, 0.75381935])"
      ]
     },
     "execution_count": 34,
     "metadata": {},
     "output_type": "execute_result"
    }
   ],
   "source": [
    "logit_mean_cv_scores2"
   ]
  },
  {
   "cell_type": "code",
   "execution_count": 35,
   "metadata": {},
   "outputs": [
    {
     "data": {
      "text/plain": [
       "array([0.1       , 0.46315789, 0.82631579, 1.18947368, 1.55263158,\n",
       "       1.91578947, 2.27894737, 2.64210526, 3.00526316, 3.36842105,\n",
       "       3.73157895, 4.09473684, 4.45789474, 4.82105263, 5.18421053,\n",
       "       5.54736842, 5.91052632, 6.27368421, 6.63684211, 7.        ])"
      ]
     },
     "execution_count": 35,
     "metadata": {},
     "output_type": "execute_result"
    }
   ],
   "source": [
    "logit_c_values2"
   ]
  },
  {
   "cell_type": "markdown",
   "metadata": {},
   "source": [
    "Выведите лучшее значение доли правильных ответов на кросс-валидации и соответствующее значение C."
   ]
  },
  {
   "cell_type": "code",
   "execution_count": 36,
   "metadata": {},
   "outputs": [
    {
     "name": "stdout",
     "output_type": "stream",
     "text": [
      "0.7587913824075879  -  0.4631578947368421\n"
     ]
    }
   ],
   "source": [
    "print(logit_mean_cv_scores2.max(), \" - \", logit_c_values2[np.argmax(logit_mean_cv_scores2)])"
   ]
  },
  {
   "cell_type": "markdown",
   "metadata": {},
   "source": [
    "Нарисуйте график зависимости доли правильных ответов на кросс-валидации от C."
   ]
  },
  {
   "cell_type": "code",
   "execution_count": 37,
   "metadata": {},
   "outputs": [
    {
     "data": {
      "image/png": "[encoded data removed]",
      "text/plain": [
       "<Figure size 432x288 with 1 Axes>"
      ]
     },
     "metadata": {
      "needs_background": "light"
     },
     "output_type": "display_data"
    }
   ],
   "source": [
    "plt.plot(logit_c_values2, logit_mean_cv_scores2);"
   ]
  },
  {
   "cell_type": "markdown",
   "metadata": {},
   "source": [
    "Выведите долю правильных ответов на выборке (X_valid, y_valid) для логистической регрессии с лучшим найденным значением C."
   ]
  },
  {
   "cell_type": "code",
   "execution_count": 38,
   "metadata": {},
   "outputs": [
    {
     "name": "stdout",
     "output_type": "stream",
     "text": [
      "0.7748281583313581\n",
      "Time elapsed:  0.002197265625\n"
     ]
    }
   ],
   "source": [
    "t_start = time()\n",
    "logit2_pred = logit_grid_searcher2.predict(X_valid)\n",
    "print(accuracy_score(y_valid, logit2_pred))\n",
    "print(\"Time elapsed: \", time()-t_start)"
   ]
  },
  {
   "cell_type": "markdown",
   "metadata": {},
   "source": [
    "**4. Обучите линейный SVM (LinearSVC) с параметром C=1 и random_state=17 (для воспроизводимости). Посмотрите на долю правильных ответов на кросс-валидации (используйте объект skf, созданный ранее) и на выборке (X_valid, y_valid).**"
   ]
  },
  {
   "cell_type": "code",
   "execution_count": 39,
   "metadata": {},
   "outputs": [],
   "source": [
    "from sklearn.svm import LinearSVC"
   ]
  },
  {
   "cell_type": "code",
   "execution_count": 40,
   "metadata": {},
   "outputs": [
    {
     "name": "stdout",
     "output_type": "stream",
     "text": [
      "CV scores: [0.74672755 0.76059774 0.75106772]\n",
      "mean: 0.7527976723012523\n",
      "std: 0.005793105610011066\n",
      "Time elapsed:  3.1112382411956787\n"
     ]
    }
   ],
   "source": [
    "t_start = time()\n",
    "svm = LinearSVC(C=1, random_state=17)\n",
    "scores_svm = cross_val_score(svm, X_train, y_train, cv=skf, n_jobs=-1)\n",
    "print(\"CV scores:\", scores_svm)\n",
    "print(\"mean:\", np.mean(scores_svm))\n",
    "print(\"std:\", np.std(scores_svm))\n",
    "print(\"Time elapsed: \", time()-t_start)"
   ]
  },
  {
   "cell_type": "code",
   "execution_count": 41,
   "metadata": {},
   "outputs": [
    {
     "name": "stdout",
     "output_type": "stream",
     "text": [
      "0.7769613652524295\n",
      "Time elapsed:  4.54899525642395\n"
     ]
    }
   ],
   "source": [
    "t_start = time()\n",
    "svm.fit(X_train, y_train)\n",
    "svm_pred = svm.predict(X_valid)\n",
    "print(accuracy_score(y_valid, svm_pred))\n",
    "print(\"Time elapsed: \", time()-t_start)"
   ]
  },
  {
   "cell_type": "markdown",
   "metadata": {},
   "source": [
    "С помощью GridSearchCV подберите параметр C для SVM сначала в широком диапазоне: 10 значений от 1e-4 до 1e4, используйте linspace из NumPy. Нарисуйте кривые валидации."
   ]
  },
  {
   "cell_type": "code",
   "execution_count": 42,
   "metadata": {},
   "outputs": [
    {
     "name": "stdout",
     "output_type": "stream",
     "text": [
      "Time elapsed:  30.767382621765137\n"
     ]
    }
   ],
   "source": [
    "t_start = time()\n",
    "\n",
    "svm_params1 = {'C': np.linspace(1e-4, 1e4, 10)}\n",
    "\n",
    "svm_grid_searcher1 = GridSearchCV(svm, param_grid=svm_params1, cv=skf, n_jobs=-1)\n",
    "svm_grid_searcher1.fit(X_train, y_train)\n",
    "\n",
    "print(\"Time elapsed: \", time()-t_start)"
   ]
  },
  {
   "cell_type": "markdown",
   "metadata": {},
   "source": [
    "Выведите лучшее значение доли правильных ответов на кросс-валидации и соответствующее значение C."
   ]
  },
  {
   "cell_type": "code",
   "execution_count": 43,
   "metadata": {},
   "outputs": [
    {
     "data": {
      "text/plain": [
       "{'C': 3333.3334000000004}"
      ]
     },
     "execution_count": 43,
     "metadata": {},
     "output_type": "execute_result"
    }
   ],
   "source": [
    "svm_grid_searcher1.best_params_"
   ]
  },
  {
   "cell_type": "code",
   "execution_count": 44,
   "metadata": {},
   "outputs": [
    {
     "data": {
      "text/plain": [
       "0.6845153424100793"
      ]
     },
     "execution_count": 44,
     "metadata": {},
     "output_type": "execute_result"
    }
   ],
   "source": [
    "svm_grid_searcher1.best_score_"
   ]
  },
  {
   "cell_type": "markdown",
   "metadata": {},
   "source": [
    "Нарисуйте график зависимости доли правильных ответов на кросс-валидации от C"
   ]
  },
  {
   "cell_type": "code",
   "execution_count": 45,
   "metadata": {},
   "outputs": [
    {
     "data": {
      "image/png": "[encoded data removed]",
      "text/plain": [
       "<Figure size 432x288 with 1 Axes>"
      ]
     },
     "metadata": {
      "needs_background": "light"
     },
     "output_type": "display_data"
    }
   ],
   "source": [
    "plot_validation_curves(svm_params1['C'], svm_grid_searcher1.cv_results_)"
   ]
  },
  {
   "cell_type": "markdown",
   "metadata": {},
   "source": [
    "**Но мы помним, что с параметром регуляризации по умолчанию (С=1) на кросс-валидации доля правильных ответов выше. Это тот случай (не редкий), когда можно ошибиться и перебирать параметры не в том диапазоне (причина в том, что мы взяли равномерную сетку на большом интервале и упустили действительно хороший интервал значений C). Здесь намного осмысленней подбирать C в районе 1, к тому же, так модель быстрее обучается, чем при больших C.**\n",
    "\n",
    "**С помощью GridSearchCV подберите параметр C для SVM в диапазоне (1e-3, 1), 30 значений, используйте linspace из NumPy. Нарисуйте кривые валидации.**"
   ]
  },
  {
   "cell_type": "code",
   "execution_count": 7,
   "metadata": {},
   "outputs": [
    {
     "ename": "NameError",
     "evalue": "name 'svm' is not defined",
     "output_type": "error",
     "traceback": [
      "\u001b[1;31m---------------------------------------------------------------------------\u001b[0m",
      "\u001b[1;31mNameError\u001b[0m                                 Traceback (most recent call last)",
      "\u001b[1;32m<ipython-input-7-81565f2d073e>\u001b[0m in \u001b[0;36m<module>\u001b[1;34m\u001b[0m\n\u001b[0;32m      3\u001b[0m \u001b[0msvm_params2\u001b[0m \u001b[1;33m=\u001b[0m \u001b[1;33m{\u001b[0m\u001b[1;34m'C'\u001b[0m\u001b[1;33m:\u001b[0m \u001b[0mnp\u001b[0m\u001b[1;33m.\u001b[0m\u001b[0mlinspace\u001b[0m\u001b[1;33m(\u001b[0m\u001b[1;36m1e-3\u001b[0m\u001b[1;33m,\u001b[0m \u001b[1;36m1\u001b[0m\u001b[1;33m,\u001b[0m \u001b[1;36m30\u001b[0m\u001b[1;33m)\u001b[0m\u001b[1;33m}\u001b[0m\u001b[1;33m\u001b[0m\u001b[1;33m\u001b[0m\u001b[0m\n\u001b[0;32m      4\u001b[0m \u001b[1;33m\u001b[0m\u001b[0m\n\u001b[1;32m----> 5\u001b[1;33m \u001b[0msvm_grid_searcher2\u001b[0m \u001b[1;33m=\u001b[0m \u001b[0mGridSearchCV\u001b[0m\u001b[1;33m(\u001b[0m\u001b[0msvm\u001b[0m\u001b[1;33m,\u001b[0m \u001b[0mparam_grid\u001b[0m\u001b[1;33m=\u001b[0m\u001b[0msvm_params2\u001b[0m\u001b[1;33m,\u001b[0m \u001b[0mcv\u001b[0m\u001b[1;33m=\u001b[0m\u001b[0mskf\u001b[0m\u001b[1;33m,\u001b[0m \u001b[0mn_jobs\u001b[0m\u001b[1;33m=\u001b[0m\u001b[1;33m-\u001b[0m\u001b[1;36m1\u001b[0m\u001b[1;33m)\u001b[0m\u001b[1;33m\u001b[0m\u001b[1;33m\u001b[0m\u001b[0m\n\u001b[0m\u001b[0;32m      6\u001b[0m \u001b[0msvm_grid_searcher2\u001b[0m\u001b[1;33m.\u001b[0m\u001b[0mfit\u001b[0m\u001b[1;33m(\u001b[0m\u001b[0mX_train\u001b[0m\u001b[1;33m,\u001b[0m \u001b[0my_train\u001b[0m\u001b[1;33m)\u001b[0m\u001b[1;33m\u001b[0m\u001b[1;33m\u001b[0m\u001b[0m\n\u001b[0;32m      7\u001b[0m \u001b[1;33m\u001b[0m\u001b[0m\n",
      "\u001b[1;31mNameError\u001b[0m: name 'svm' is not defined"
     ]
    }
   ],
   "source": [
    "t_start = time()\n",
    "\n",
    "svm_params2 = {'C': np.linspace(1e-3, 1, 30)}\n",
    "\n",
    "svm_grid_searcher2 = GridSearchCV(svm, param_grid=svm_params2, cv=skf, n_jobs=-1)\n",
    "svm_grid_searcher2.fit(X_train, y_train)\n",
    "\n",
    "print(\"Time elapsed: \", time()-t_start)"
   ]
  },
  {
   "cell_type": "code",
   "execution_count": 47,
   "metadata": {},
   "outputs": [
    {
     "data": {
      "text/plain": [
       "{'C': 0.10434482758620689}"
      ]
     },
     "execution_count": 47,
     "metadata": {},
     "output_type": "execute_result"
    }
   ],
   "source": [
    "svm_grid_searcher2.best_params_"
   ]
  },
  {
   "cell_type": "code",
   "execution_count": 48,
   "metadata": {},
   "outputs": [
    {
     "data": {
      "text/plain": [
       "0.764681975208291"
      ]
     },
     "execution_count": 48,
     "metadata": {},
     "output_type": "execute_result"
    }
   ],
   "source": [
    "svm_grid_searcher2.best_score_"
   ]
  },
  {
   "cell_type": "code",
   "execution_count": 49,
   "metadata": {},
   "outputs": [
    {
     "data": {
      "image/png": "[encoded data removed]",
      "text/plain": [
       "<Figure size 432x288 with 1 Axes>"
      ]
     },
     "metadata": {
      "needs_background": "light"
     },
     "output_type": "display_data"
    }
   ],
   "source": [
    "plot_validation_curves(svm_params2['C'], svm_grid_searcher2.cv_results_)"
   ]
  },
  {
   "cell_type": "code",
   "execution_count": 50,
   "metadata": {},
   "outputs": [
    {
     "name": "stdout",
     "output_type": "stream",
     "text": [
      "0.7807537331121118\n",
      "Time elapsed:  0.0029938220977783203\n"
     ]
    }
   ],
   "source": [
    "t_start = time()\n",
    "\n",
    "svm2_pred = svm_grid_searcher2.predict(X_valid)\n",
    "print(accuracy_score(y_valid, svm2_pred))\n",
    "\n",
    "print(\"Time elapsed: \", time()-t_start)"
   ]
  },
  {
   "cell_type": "code",
   "execution_count": 51,
   "metadata": {},
   "outputs": [],
   "source": [
    "#перетаскиваем нашу функцию\n",
    "def prepare_sparse_train_set_window(path_to_csv_files, path_to_pkl_files, session_length=10, window_size=10):\n",
    "    \n",
    "    stock_files = sorted(glob(path_to_csv_files))\n",
    "    \n",
    "    #create dataframe from file\n",
    "    df = pd.concat((pd.read_csv(file) for file in stock_files), ignore_index=True)\n",
    "    \n",
    "    #sorted site\n",
    "    df_site_dict = path_to_pkl_files\n",
    "    \n",
    "    #create number list site\n",
    "    list_all_site = []\n",
    "    user_list = []\n",
    "    user = 1\n",
    "    for filename in stock_files:\n",
    "        tmp_df = pd.read_csv(filename)\n",
    "        list_site = []\n",
    "        for site in tmp_df.site:\n",
    "            list_site.append(df_site_dict.get(site))\n",
    "        count = 0\n",
    "        for start in range(0, (len(list_site) + window_size), window_size):\n",
    "            ind_1 = start\n",
    "            ind_2 = start + session_length\n",
    "            #print(start)\n",
    "            if ind_2 <= (len(list_site)-1):\n",
    "                sess = list_site[ind_1 : ind_2]\n",
    "                list_all_site.append(sess)\n",
    "                user_list.append(user)\n",
    "            else:\n",
    "                if(len(list_site[ind_1:])==0):\n",
    "                    break\n",
    "                sess = list_site[ind_1:] + [0 for _ in range(session_length - len(list_site[ind_1:]))]\n",
    "                list_all_site.append(sess)\n",
    "                user_list.append(user)\n",
    "        user = user + 1\n",
    "        \n",
    "    tmp_arr = np.array(list_all_site)\n",
    "    row = 0\n",
    "    width = 0\n",
    "    rows = []\n",
    "    cols = []\n",
    "    data = []\n",
    "\n",
    "    for arr in tmp_arr:\n",
    "        unique, counts = np.unique(arr, return_counts=True)\n",
    "        for key, value in dict(zip(unique, counts)).items():\n",
    "            width = width + 1\n",
    "            if key != 0:\n",
    "                rows.append(row)\n",
    "                cols.append(key-1)\n",
    "                data.append(value)\n",
    "        row = row + 1\n",
    "        \n",
    "    B = sps.coo_matrix((data, (rows, cols))).tocsr()\n",
    "    return(B, user_list)"
   ]
  },
  {
   "cell_type": "code",
   "execution_count": 52,
   "metadata": {},
   "outputs": [],
   "source": [
    "path_3 = os.path.join(PATH_TO_DATA, '3users/*.csv')\n",
    "path_10 = os.path.join(PATH_TO_DATA, '10users/*.csv')\n",
    "path_150 = os.path.join(PATH_TO_DATA, '150users/*.csv')\n",
    "\n",
    "# change data path\n",
    "\n",
    "path_pkl = os.path.join(PATH_TO_DATA, 'site_freq_3users.pkl')\n",
    "unpickled_df_3 = pd.read_pickle(path_pkl)\n",
    "#print(unpickled_df_3)\n",
    "path_pkl_10 = os.path.join(PATH_TO_DATA, 'site_freq_10users.pkl')\n",
    "unpickled_df_10 = pd.read_pickle(path_pkl_10)\n",
    "#print(unpickled_df_10)\n",
    "path_pkl_150 = os.path.join(PATH_TO_DATA, 'site_freq_150users.pkl')\n",
    "unpickled_df_150 = pd.read_pickle(path_pkl_150)\n",
    "#print(unpickled_df_150)"
   ]
  },
  {
   "cell_type": "code",
   "execution_count": 53,
   "metadata": {},
   "outputs": [],
   "source": [
    "from glob import glob\n",
    "import scipy.sparse as sps"
   ]
  },
  {
   "cell_type": "code",
   "execution_count": 155,
   "metadata": {},
   "outputs": [],
   "source": [
    "X_sparse_10users_15_5, y_sparse_10users_15_5 = prepare_sparse_train_set_window(path_10, unpickled_df_10, 15, 5)"
   ]
  },
  {
   "cell_type": "markdown",
   "metadata": {},
   "source": [
    "## Часть 2. Выбор параметров – длины сессии и ширины окна"
   ]
  },
  {
   "cell_type": "markdown",
   "metadata": {},
   "source": [
    "**Возьмем LinearSVC, показавший лучшее качество на кросс-валидации в 1 части, и проверим его работу еще на 8 выборках для 10 пользователей (с разными сочетаниями параметров session_length и window_size). Поскольку тут уже вычислений побольше, мы не будем каждый раз заново подбирать параметр регуляризации C.**\n",
    "\n",
    "**Определите функцию model_assessment, ее документация описана ниже. Обратите внимание на все детали. Например, на то, что разбиение выборки с train_test_split должно быть стратифицированным. Не теряйте нигде random_state.**"
   ]
  },
  {
   "cell_type": "code",
   "execution_count": 4,
   "metadata": {},
   "outputs": [],
   "source": [
    "def model_assessment(estimator, path_to_X_pickle, path_to_y_pickle, cv, random_state=17, test_size=0.3):\n",
    "    '''\n",
    "    Estimates CV-accuracy for (1 - test_size) share of (X_sparse, y) \n",
    "    loaded from path_to_X_pickle and path_to_y_pickle and holdout accuracy for (test_size) share of (X_sparse, y).\n",
    "    The split is made with stratified train_test_split with params random_state and test_size.\n",
    "    \n",
    "    :param estimator – Scikit-learn estimator (classifier or regressor)\n",
    "    :param path_to_X_pickle – path to pickled sparse X (instances and their features)\n",
    "    :param path_to_y_pickle – path to pickled y (responses)\n",
    "    :param cv – cross-validation as in cross_val_score (use StratifiedKFold here)\n",
    "    :param random_state –  for train_test_split\n",
    "    :param test_size –  for train_test_split\n",
    "    \n",
    "    :returns mean CV-accuracy for (X_train, y_train) and accuracy for (X_valid, y_valid) where (X_train, y_train)\n",
    "    and (X_valid, y_valid) are (1 - test_size) and (testsize) shares of (X_sparse, y).\n",
    "    '''\n",
    "    \n",
    "    ''' ВАШ КОД ЗДЕСЬ '''\n",
    "    \n",
    "    with open(path_to_X_pickle, 'rb') as X_sparse_10users_pkl:\n",
    "        X_sparse_10users = pickle.load(X_sparse_10users_pkl)\n",
    "    with open(path_to_y_pickle, 'rb') as y_10users_pkl:\n",
    "        y_10users = pickle.load(y_10users_pkl)\n",
    "        \n",
    "    X_train, X_valid, y_train, y_valid = train_test_split(X_sparse_10users, y_10users, \n",
    "                                                      test_size=0.3, \n",
    "                                                     random_state=17, stratify=y_10users)\n",
    "    \n",
    "    t_start = time()\n",
    "    scores_svm = cross_val_score(estimator, X_train, y_train, cv=skf, n_jobs=-1)\n",
    "    #print(\"CV scores:\", scores_svm)\n",
    "    #print(\"mean:\", np.mean(scores_svm))\n",
    "    #print(\"std:\", np.std(scores_svm))\n",
    "    #print(\"Time elapsed: \", time()-t_start)\n",
    "    \n",
    "    t_start = time()\n",
    "    estimator.fit(X_train, y_train)\n",
    "    svm_pred = estimator.predict(X_valid)\n",
    "    #print(accuracy_score(y_valid, svm_pred))\n",
    "    #print(\"Time elapsed: \", time()-t_start)\n",
    "    \n",
    "    return(np.mean(scores_svm), accuracy_score(y_valid, svm_pred), \" Time elapsed: \", time()-t_start)"
   ]
  },
  {
   "cell_type": "code",
   "execution_count": 5,
   "metadata": {},
   "outputs": [],
   "source": [
    "PATH_TO_DATA = 'capstone_user_identification'"
   ]
  },
  {
   "cell_type": "code",
   "execution_count": 6,
   "metadata": {},
   "outputs": [
    {
     "ename": "NameError",
     "evalue": "name 'svm_grid_searcher2' is not defined",
     "output_type": "error",
     "traceback": [
      "\u001b[1;31m---------------------------------------------------------------------------\u001b[0m",
      "\u001b[1;31mNameError\u001b[0m                                 Traceback (most recent call last)",
      "\u001b[1;32m<ipython-input-6-2e6dc8e88ecd>\u001b[0m in \u001b[0;36m<module>\u001b[1;34m\u001b[0m\n\u001b[1;32m----> 1\u001b[1;33m model_assessment(svm_grid_searcher2.best_estimator_, \n\u001b[0m\u001b[0;32m      2\u001b[0m                  \u001b[0mos\u001b[0m\u001b[1;33m.\u001b[0m\u001b[0mpath\u001b[0m\u001b[1;33m.\u001b[0m\u001b[0mjoin\u001b[0m\u001b[1;33m(\u001b[0m\u001b[0mPATH_TO_DATA\u001b[0m\u001b[1;33m,\u001b[0m \u001b[1;34m'X_sparse_10users.pkl'\u001b[0m\u001b[1;33m)\u001b[0m\u001b[1;33m,\u001b[0m\u001b[1;33m\u001b[0m\u001b[1;33m\u001b[0m\u001b[0m\n\u001b[0;32m      3\u001b[0m         os.path.join(PATH_TO_DATA, 'y_10users.pkl'), skf, random_state=17, test_size=0.3)\n",
      "\u001b[1;31mNameError\u001b[0m: name 'svm_grid_searcher2' is not defined"
     ]
    }
   ],
   "source": [
    "model_assessment(svm_grid_searcher2.best_estimator_, \n",
    "                 os.path.join(PATH_TO_DATA, 'X_sparse_10users.pkl'),\n",
    "        os.path.join(PATH_TO_DATA, 'y_10users.pkl'), skf, random_state=17, test_size=0.3)"
   ]
  },
  {
   "cell_type": "markdown",
   "metadata": {},
   "source": [
    "**Примените функцию model_assessment для лучшего алгоритма из предыдущей части (а именно, svm_grid_searcher2.best_estimator_) и 9 выборок вида с разными сочетаниями параметров session_length и window_size для 10 пользователей. Выведите в цикле параметры session_length и window_size, а также результат вывода функции model_assessment. Удобно сделать так, чтоб model_assessment возвращала 3-им элементом время, за которое она выполнилась. На моем ноуте этот участок кода выполнился за 20 секунд. Но со 150 пользователями каждая итерация занимает уже несколько минут.**\n",
    "\n",
    "Здесь для удобства стоит создать копии ранее созданных pickle-файлов X_sparse_10users.pkl, X_sparse_150users.pkl, y_10users.pkl и y_150users.pkl, добавив к их названиям s10_w10, что означает длину сессии 10 и ширину окна 10."
   ]
  },
  {
   "cell_type": "code",
   "execution_count": 73,
   "metadata": {},
   "outputs": [
    {
     "name": "stdout",
     "output_type": "stream",
     "text": [
      "Session length: 15, Window size: 10\n",
      "(0.8238214955278105, 0.8404835269021095, ' Time elapsed: ', 2.4413769245147705)\n",
      "Session length: 10, Window size: 10\n",
      "(0.7646853244550981, 0.7807537331121118, ' Time elapsed: ', 1.3739533424377441)\n",
      "Session length: 15, Window size: 7\n",
      "(0.8479403769844098, 0.8543222166915547, ' Time elapsed: ', 3.2437942028045654)\n",
      "Session length: 10, Window size: 7\n",
      "(0.7970161463734652, 0.8073668491786958, ' Time elapsed: ', 1.7622921466827393)\n",
      "Session length: 7, Window size: 7\n",
      "(0.7529891114830342, 0.7617388418782147, ' Time elapsed: ', 1.1328918933868408)\n",
      "Session length: 15, Window size: 5\n",
      "(0.868001372554347, 0.8752963489805595, ' Time elapsed: ', 4.2376203536987305)\n",
      "Session length: 10, Window size: 5\n",
      "(0.8159247205318039, 0.8245614035087719, ' Time elapsed: ', 2.568331003189087)\n",
      "Session length: 7, Window size: 5\n",
      "(0.774058674563226, 0.7853247984826932, ' Time elapsed: ', 1.5714776515960693)\n",
      "Session length: 5, Window size: 5\n",
      "(0.7252830650398828, 0.7362494073020389, ' Time elapsed: ', 1.074265718460083)\n"
     ]
    }
   ],
   "source": [
    "#для 10 пользователей\n",
    "estimator = svm_grid_searcher2.best_estimator_\n",
    "\n",
    "for window_size, session_length in itertools.product([10, 7, 5], [15, 10, 7, 5]):\n",
    "    if window_size <= session_length and (window_size, session_length):\n",
    "        path_to_X_pkl = 'capstone_websites_data_1/X_sparse_10users_s' + \\\n",
    "                        str(session_length) + '_w' + str(window_size) + '.pkl'\n",
    "        path_to_y_pkl = 'capstone_websites_data_1/y_10users_s' + \\\n",
    "                        str(session_length) + '_w' + str(window_size) + '.pkl'\n",
    "        print(\"Session length: {}, Window size: {}\".format(session_length, window_size))\n",
    "        print(model_assessment(estimator, path_to_X_pkl, path_to_y_pkl, skf, random_state=17, test_size=0.3))"
   ]
  },
  {
   "cell_type": "code",
   "execution_count": 74,
   "metadata": {},
   "outputs": [
    {
     "name": "stdout",
     "output_type": "stream",
     "text": [
      "Session length: 15, Window size: 10\n",
      "(0.5491186386819248, 0.5751471804602735, ' Time elapsed: ', 124.27188539505005)\n",
      "Session length: 10, Window size: 10\n",
      "(0.4612588999427913, 0.4836276942538802, ' Time elapsed: ', 87.6054573059082)\n",
      "Session length: 15, Window size: 7\n",
      "(0.5840534183025796, 0.6086282658309773, ' Time elapsed: ', 218.67858839035034)\n",
      "Session length: 10, Window size: 7\n",
      "(0.502227519482276, 0.5239295568348264, ' Time elapsed: ', 160.65876722335815)\n",
      "Session length: 7, Window size: 7\n",
      "(0.43638649409423974, 0.45295840855673264, ' Time elapsed: ', 117.05255031585693)\n",
      "Session length: 15, Window size: 5\n",
      "(0.6137972358901919, 0.635980921789069, ' Time elapsed: ', 390.999564409256)\n",
      "Session length: 10, Window size: 5\n",
      "(0.5249611576924046, 0.5459069450528058, ' Time elapsed: ', 245.98754835128784)\n",
      "Session length: 7, Window size: 5\n",
      "(0.46492516791374255, 0.48184649827225384, ' Time elapsed: ', 173.62700843811035)\n",
      "Session length: 5, Window size: 5\n",
      "(0.40858659509908596, 0.42171606560568453, ' Time elapsed: ', 134.3147008419037)\n"
     ]
    }
   ],
   "source": [
    "#для 150 пользователей\n",
    "estimator = svm_grid_searcher2.best_estimator_\n",
    "\n",
    "for window_size, session_length in itertools.product([10, 7, 5], [15, 10, 7, 5]):\n",
    "    if window_size <= session_length and (window_size, session_length):\n",
    "        path_to_X_pkl = 'capstone_websites_data_1/X_sparse_150users_s' + \\\n",
    "                        str(session_length) + '_w' + str(window_size) + '.pkl'\n",
    "        path_to_y_pkl = 'capstone_websites_data_1/y_150users_s' + \\\n",
    "                        str(session_length) + '_w' + str(window_size) + '.pkl'\n",
    "        print(\"Session length: {}, Window size: {}\".format(session_length, window_size))\n",
    "        print(model_assessment(estimator, path_to_X_pkl, path_to_y_pkl, skf, random_state=17, test_size=0.3))"
   ]
  },
  {
   "cell_type": "markdown",
   "metadata": {},
   "source": [
    "## Часть 3. Идентификация конкретного пользователя и кривые обучения¶\n",
    "\n",
    "**Поскольку может разочаровать, что многоклассовая доля правильных ответов на выборке из 150 пользовалей невелика, порадуемся тому, что конкретного пользователя можно идентифицировать достаточно хорошо.**\n",
    "\n",
    "**Загрузим сериализованные ранее объекты X_sparse_150users и y_150users, соответствующие обучающей выборке для 150 пользователей с параметрами (session_length, window_size) = (10,10). Так же точно разобьем их на 70% и 30%.**"
   ]
  },
  {
   "cell_type": "code",
   "execution_count": 9,
   "metadata": {},
   "outputs": [],
   "source": [
    "PATH_TO_DATA = 'capstone_websites_data_1'\n",
    "\n",
    "with open(os.path.join(PATH_TO_DATA, 'X_sparse_150users_s10_w10.pkl'), 'rb') as X_sparse_150users_pkl:\n",
    "     X_sparse_150users = pickle.load(X_sparse_150users_pkl)\n",
    "with open(os.path.join(PATH_TO_DATA, 'y_150users_s10_w10.pkl'), 'rb') as y_150users_pkl:\n",
    "    y_150users = pickle.load(y_150users_pkl)"
   ]
  },
  {
   "cell_type": "code",
   "execution_count": 10,
   "metadata": {},
   "outputs": [],
   "source": [
    "X_train_150, X_valid_150, y_train_150, y_valid_150 = train_test_split(X_sparse_150users, \n",
    "                                                                      y_150users, test_size=0.3, \n",
    "                                                     random_state=17, stratify=y_150users)"
   ]
  },
  {
   "cell_type": "markdown",
   "metadata": {},
   "source": [
    "**Обучите LogisticRegressionCV для одного значения параметра C (лучшего на кросс-валидации в 1 части, используйте точное значение, не на глаз). Теперь будем решать 150 задач \"Один-против-Всех\", поэтому укажите аргумент multi_class='ovr'. Как всегда, где возможно, указывайте n_jobs=-1 и random_state=17.**"
   ]
  },
  {
   "cell_type": "code",
   "execution_count": 77,
   "metadata": {},
   "outputs": [
    {
     "name": "stdout",
     "output_type": "stream",
     "text": [
      "Time elapsed  298.90029883384705\n"
     ]
    }
   ],
   "source": [
    "t_start = time()\n",
    "logit_cv_150users = LogisticRegressionCV(Cs = [logit_grid_searcher2.Cs_[logit_mean_cv_scores2.argmax()]], cv=skf, multi_class='ovr', random_state=17, n_jobs=-1)\n",
    "logit_cv_150users.fit(X_train_150, y_train_150)\n",
    "print(\"Time elapsed \", time()-t_start)"
   ]
  },
  {
   "cell_type": "code",
   "execution_count": 95,
   "metadata": {},
   "outputs": [
    {
     "name": "stdout",
     "output_type": "stream",
     "text": [
      "Time elapsed  380.39993691444397\n"
     ]
    }
   ],
   "source": [
    "t_start = time()\n",
    "logit_cv_150users = LogisticRegressionCV(Cs = [logit_grid_searcher2.Cs_[2]], cv=skf, multi_class='ovr', random_state=17, n_jobs=-1)\n",
    "logit_cv_150users.fit(X_train_150, y_train_150)\n",
    "print(\"Time elapsed \", time()-t_start)"
   ]
  },
  {
   "cell_type": "code",
   "execution_count": 101,
   "metadata": {},
   "outputs": [
    {
     "name": "stdout",
     "output_type": "stream",
     "text": [
      "Time elapsed  434.44434881210327\n"
     ]
    }
   ],
   "source": [
    "t_start = time()\n",
    "logit_cv_150users = LogisticRegressionCV(Cs = [logit_grid_searcher2.Cs_[3]], cv=skf, multi_class='ovr', random_state=17, n_jobs=-1)\n",
    "logit_cv_150users.fit(X_train_150, y_train_150)\n",
    "print(\"Time elapsed \", time()-t_start)"
   ]
  },
  {
   "cell_type": "code",
   "execution_count": 24,
   "metadata": {},
   "outputs": [
    {
     "name": "stdout",
     "output_type": "stream",
     "text": [
      "Time elapsed  331.97297859191895\n"
     ]
    }
   ],
   "source": [
    "t_start = time()\n",
    "logit_cv_150users = LogisticRegressionCV(Cs = [logit_grid_searcher2.Cs_[4]], cv=skf, multi_class='ovr', random_state=17, n_jobs=-1)\n",
    "logit_cv_150users.fit(X_train_150, y_train_150)\n",
    "print(\"Time elapsed \", time()-t_start)"
   ]
  },
  {
   "cell_type": "code",
   "execution_count": 30,
   "metadata": {},
   "outputs": [
    {
     "name": "stdout",
     "output_type": "stream",
     "text": [
      "Time elapsed  407.19827604293823\n"
     ]
    }
   ],
   "source": [
    "t_start = time()\n",
    "logit_cv_150users = LogisticRegressionCV(Cs = [logit_grid_searcher2.Cs_[5]], cv=skf, multi_class='ovr', random_state=17, n_jobs=-1)\n",
    "logit_cv_150users.fit(X_train_150, y_train_150)\n",
    "print(\"Time elapsed \", time()-t_start)"
   ]
  },
  {
   "cell_type": "code",
   "execution_count": 37,
   "metadata": {},
   "outputs": [
    {
     "name": "stdout",
     "output_type": "stream",
     "text": [
      "Time elapsed  395.187148809433\n"
     ]
    }
   ],
   "source": [
    "t_start = time()\n",
    "logit_cv_150users = LogisticRegressionCV(Cs = [logit_grid_searcher2.Cs_[6]], cv=skf, multi_class='ovr', random_state=17, n_jobs=-1)\n",
    "logit_cv_150users.fit(X_train_150, y_train_150)\n",
    "print(\"Time elapsed \", time()-t_start)"
   ]
  },
  {
   "cell_type": "code",
   "execution_count": 44,
   "metadata": {},
   "outputs": [
    {
     "name": "stdout",
     "output_type": "stream",
     "text": [
      "Time elapsed  392.49987268447876\n"
     ]
    }
   ],
   "source": [
    "t_start = time()\n",
    "logit_cv_150users = LogisticRegressionCV(Cs = [logit_grid_searcher2.Cs_[7]], cv=skf, multi_class='ovr', random_state=17, n_jobs=-1)\n",
    "logit_cv_150users.fit(X_train_150, y_train_150)\n",
    "print(\"Time elapsed \", time()-t_start)"
   ]
  },
  {
   "cell_type": "code",
   "execution_count": 52,
   "metadata": {},
   "outputs": [
    {
     "name": "stdout",
     "output_type": "stream",
     "text": [
      "Time elapsed  398.14973974227905\n"
     ]
    }
   ],
   "source": [
    "t_start = time()\n",
    "logit_cv_150users = LogisticRegressionCV(Cs = [logit_grid_searcher2.Cs_[8]], cv=skf, multi_class='ovr', random_state=17, n_jobs=-1)\n",
    "logit_cv_150users.fit(X_train_150, y_train_150)\n",
    "print(\"Time elapsed \", time()-t_start)"
   ]
  },
  {
   "cell_type": "code",
   "execution_count": 59,
   "metadata": {},
   "outputs": [
    {
     "name": "stdout",
     "output_type": "stream",
     "text": [
      "Time elapsed  408.53145813941956\n"
     ]
    }
   ],
   "source": [
    "t_start = time()\n",
    "logit_cv_150users = LogisticRegressionCV(Cs = [logit_grid_searcher2.Cs_[9]], cv=skf, multi_class='ovr', random_state=17, n_jobs=-1)\n",
    "logit_cv_150users.fit(X_train_150, y_train_150)\n",
    "print(\"Time elapsed \", time()-t_start)"
   ]
  },
  {
   "cell_type": "code",
   "execution_count": 66,
   "metadata": {},
   "outputs": [
    {
     "name": "stdout",
     "output_type": "stream",
     "text": [
      "Time elapsed  360.2887694835663\n"
     ]
    }
   ],
   "source": [
    "t_start = time()\n",
    "logit_cv_150users = LogisticRegressionCV(Cs = [logit_grid_searcher2.Cs_[10]], cv=skf, multi_class='ovr', random_state=17, n_jobs=-1)\n",
    "logit_cv_150users.fit(X_train_150, y_train_150)\n",
    "print(\"Time elapsed \", time()-t_start)"
   ]
  },
  {
   "cell_type": "code",
   "execution_count": 78,
   "metadata": {},
   "outputs": [
    {
     "data": {
      "text/plain": [
       "0.4631578947368421"
      ]
     },
     "execution_count": 78,
     "metadata": {},
     "output_type": "execute_result"
    }
   ],
   "source": [
    "Cs = logit_grid_searcher2.Cs_[1]\n",
    "Cs"
   ]
  },
  {
   "cell_type": "markdown",
   "metadata": {},
   "source": [
    "**Посмотрите на средние доли правильных ответов на кросс-валидации в задаче идентификации каждого пользователя по отдельности.**"
   ]
  },
  {
   "cell_type": "code",
   "execution_count": 79,
   "metadata": {},
   "outputs": [
    {
     "name": "stdout",
     "output_type": "stream",
     "text": [
      "User 1, CV score: [0.99583965]\n",
      "User 2, CV score: [0.99623616]\n",
      "User 3, CV score: [0.99514142]\n",
      "User 4, CV score: [0.99176296]\n",
      "User 5, CV score: [0.99003265]\n",
      "User 6, CV score: [0.99459929]\n",
      "User 7, CV score: [0.99362959]\n",
      "User 8, CV score: [0.98574744]\n",
      "User 9, CV score: [0.99797737]\n",
      "User 10, CV score: [0.99493288]\n",
      "User 11, CV score: [0.99448474]\n",
      "User 12, CV score: [0.99360872]\n",
      "User 13, CV score: [0.99699733]\n",
      "User 14, CV score: [0.99496407]\n",
      "User 15, CV score: [0.99636126]\n",
      "User 16, CV score: [0.9963197]\n",
      "User 17, CV score: [0.99051226]\n",
      "User 18, CV score: [0.99435963]\n",
      "User 19, CV score: [0.99471389]\n",
      "User 20, CV score: [0.99119015]\n",
      "User 21, CV score: [0.97982591]\n",
      "User 22, CV score: [0.99682011]\n",
      "User 23, CV score: [0.99450519]\n",
      "User 24, CV score: [0.99065811]\n",
      "User 25, CV score: [0.99660116]\n",
      "User 26, CV score: [0.99420289]\n",
      "User 27, CV score: [0.99499537]\n",
      "User 28, CV score: [0.99107504]\n",
      "User 29, CV score: [0.98456961]\n",
      "User 30, CV score: [0.99719534]\n",
      "User 31, CV score: [0.99704948]\n",
      "User 32, CV score: [0.99686166]\n",
      "User 33, CV score: [0.99729964]\n",
      "User 34, CV score: [0.99653855]\n",
      "User 35, CV score: [0.99684096]\n",
      "User 36, CV score: [0.99731017]\n",
      "User 37, CV score: [0.98741613]\n",
      "User 38, CV score: [0.99648636]\n",
      "User 39, CV score: [0.99631949]\n",
      "User 40, CV score: [0.99670535]\n",
      "User 41, CV score: [0.99008513]\n",
      "User 42, CV score: [0.98918793]\n",
      "User 43, CV score: [0.99629866]\n",
      "User 44, CV score: [0.99580862]\n",
      "User 45, CV score: [0.99602764]\n",
      "User 46, CV score: [0.99499528]\n",
      "User 47, CV score: [0.99601721]\n",
      "User 48, CV score: [0.99703903]\n",
      "User 49, CV score: [0.99514151]\n",
      "User 50, CV score: [0.99643427]\n",
      "User 51, CV score: [0.99163821]\n",
      "User 52, CV score: [0.99611098]\n",
      "User 53, CV score: [0.99578766]\n",
      "User 54, CV score: [0.99508941]\n",
      "User 55, CV score: [0.99727879]\n",
      "User 56, CV score: [0.98965777]\n",
      "User 57, CV score: [0.99263918]\n",
      "User 58, CV score: [0.99667392]\n",
      "User 59, CV score: [0.98704031]\n",
      "User 60, CV score: [0.98896863]\n",
      "User 61, CV score: [0.99442205]\n",
      "User 62, CV score: [0.99035586]\n",
      "User 63, CV score: [0.99594432]\n",
      "User 64, CV score: [0.99103329]\n",
      "User 65, CV score: [0.99707029]\n",
      "User 66, CV score: [0.99568362]\n",
      "User 67, CV score: [0.99741417]\n",
      "User 68, CV score: [0.99573564]\n",
      "User 69, CV score: [0.99667411]\n",
      "User 70, CV score: [0.99679926]\n",
      "User 71, CV score: [0.99609036]\n",
      "User 72, CV score: [0.99699709]\n",
      "User 73, CV score: [0.99672619]\n",
      "User 74, CV score: [0.99224311]\n",
      "User 75, CV score: [0.99673652]\n",
      "User 76, CV score: [0.99237841]\n",
      "User 77, CV score: [0.99753947]\n",
      "User 78, CV score: [0.99658015]\n",
      "User 79, CV score: [0.99641353]\n",
      "User 80, CV score: [0.99080428]\n",
      "User 81, CV score: [0.99685143]\n",
      "User 82, CV score: [0.9942969]\n",
      "User 83, CV score: [0.99618385]\n",
      "User 84, CV score: [0.99712247]\n",
      "User 85, CV score: [0.99514137]\n",
      "User 86, CV score: [0.99713269]\n",
      "User 87, CV score: [0.99746652]\n",
      "User 88, CV score: [0.98929249]\n",
      "User 89, CV score: [0.99683047]\n",
      "User 90, CV score: [0.99539153]\n",
      "User 91, CV score: [0.99419273]\n",
      "User 92, CV score: [0.99366103]\n",
      "User 93, CV score: [0.98449614]\n",
      "User 94, CV score: [0.99688253]\n",
      "User 95, CV score: [0.99551671]\n",
      "User 96, CV score: [0.99190925]\n",
      "User 97, CV score: [0.98929263]\n",
      "User 98, CV score: [0.99825898]\n",
      "User 99, CV score: [0.99101247]\n",
      "User 100, CV score: [0.99005366]\n",
      "User 101, CV score: [0.99435947]\n",
      "User 102, CV score: [0.98650841]\n",
      "User 103, CV score: [0.98037767]\n",
      "User 104, CV score: [0.98134729]\n",
      "User 105, CV score: [0.9915026]\n",
      "User 106, CV score: [0.99560018]\n",
      "User 107, CV score: [0.99729961]\n",
      "User 108, CV score: [0.99715376]\n",
      "User 109, CV score: [0.99736201]\n",
      "User 110, CV score: [0.99739343]\n",
      "User 111, CV score: [0.99529795]\n",
      "User 112, CV score: [0.99699727]\n",
      "User 113, CV score: [0.99663227]\n",
      "User 114, CV score: [0.99694511]\n",
      "User 115, CV score: [0.99574605]\n",
      "User 116, CV score: [0.99646551]\n",
      "User 117, CV score: [0.99450534]\n",
      "User 118, CV score: [0.99674721]\n",
      "User 119, CV score: [0.99704935]\n",
      "User 120, CV score: [0.99545416]\n",
      "User 121, CV score: [0.99641362]\n",
      "User 122, CV score: [0.99642394]\n",
      "User 123, CV score: [0.99723698]\n",
      "User 124, CV score: [0.99573577]\n",
      "User 125, CV score: [0.994568]\n",
      "User 126, CV score: [0.99698678]\n",
      "User 127, CV score: [0.99807123]\n",
      "User 128, CV score: [0.9967471]\n",
      "User 129, CV score: [0.99542325]\n",
      "User 130, CV score: [0.99022032]\n",
      "User 131, CV score: [0.9925973]\n",
      "User 132, CV score: [0.9969762]\n",
      "User 133, CV score: [0.99690326]\n",
      "User 134, CV score: [0.99647602]\n",
      "User 135, CV score: [0.99770634]\n",
      "User 136, CV score: [0.9973829]\n",
      "User 137, CV score: [0.99689315]\n",
      "User 138, CV score: [0.99331662]\n",
      "User 139, CV score: [0.99440109]\n",
      "User 140, CV score: [0.99626776]\n",
      "User 141, CV score: [0.99671592]\n",
      "User 142, CV score: [0.99760206]\n",
      "User 143, CV score: [0.99557932]\n",
      "User 144, CV score: [0.99519347]\n",
      "User 145, CV score: [0.99741433]\n",
      "User 146, CV score: [0.99549578]\n",
      "User 147, CV score: [0.99343194]\n",
      "User 148, CV score: [0.99653846]\n",
      "User 149, CV score: [0.99586095]\n",
      "User 150, CV score: [0.99705971]\n"
     ]
    }
   ],
   "source": [
    "cv_scores_by_user = {}\n",
    "for user_id in logit_cv_150users.scores_:\n",
    "    print('User {}, CV score: {}'.format(user_id, (np.mean(logit_cv_150users.scores_[user_id], axis=0))))"
   ]
  },
  {
   "cell_type": "markdown",
   "metadata": {},
   "source": [
    "**Результаты кажутся впечатляющими, но возможно, мы забываем про дисбаланс классов, и высокую долю правильных ответов можно получить константным прогнозом. Посчитайте для каждого пользователя разницу между долей правильных ответов на кросс-валидации (только что посчитанную с помощью LogisticRegressionCV) и долей меток в y_train_150, отличных от ID этого пользователя (именно такую долю правильных ответов можно получить, если классификатор всегда \"говорит\", что это не пользователь с номером i в задаче классификации i-vs-All).**"
   ]
  },
  {
   "cell_type": "code",
   "execution_count": 80,
   "metadata": {},
   "outputs": [],
   "source": [
    "y_train_150 = np.array(y_train_150, dtype=np.int)"
   ]
  },
  {
   "cell_type": "code",
   "execution_count": 81,
   "metadata": {},
   "outputs": [],
   "source": [
    "class_distr = np.bincount(y_train_150.astype('int'))\n",
    "acc_diff_vs_constant=[]\n",
    "for user_id in np.unique(y_train_150):\n",
    "    acc_diff_vs_constant.append(np.mean(logit_cv_150users.scores_[user_id], axis=0)-((class_distr.sum() - \\\n",
    "                                                                                      class_distr[user_id])/class_distr.sum()))\n",
    "    #print(user_id)"
   ]
  },
  {
   "cell_type": "code",
   "execution_count": 82,
   "metadata": {},
   "outputs": [],
   "source": [
    "num_better_than_default = (np.array(acc_diff_vs_constant) > 0).sum()"
   ]
  },
  {
   "cell_type": "code",
   "execution_count": 83,
   "metadata": {},
   "outputs": [
    {
     "data": {
      "text/plain": [
       "0.9133333333333333"
      ]
     },
     "execution_count": 83,
     "metadata": {},
     "output_type": "execute_result"
    }
   ],
   "source": [
    "num_better_than_default/150"
   ]
  },
  {
   "cell_type": "code",
   "execution_count": 51,
   "metadata": {},
   "outputs": [
    {
     "ename": "NameError",
     "evalue": "name 'cla' is not defined",
     "output_type": "error",
     "traceback": [
      "\u001b[1;31m---------------------------------------------------------------------------\u001b[0m",
      "\u001b[1;31mNameError\u001b[0m                                 Traceback (most recent call last)",
      "\u001b[1;32m<ipython-input-51-546a1b39aa86>\u001b[0m in \u001b[0;36m<module>\u001b[1;34m\u001b[0m\n\u001b[1;32m----> 1\u001b[1;33m \u001b[0mcla\u001b[0m\u001b[1;33m.\u001b[0m\u001b[0mpredict\u001b[0m\u001b[1;33m\u001b[0m\u001b[1;33m\u001b[0m\u001b[0m\n\u001b[0m",
      "\u001b[1;31mNameError\u001b[0m: name 'cla' is not defined"
     ]
    }
   ],
   "source": [
    "cla.predict"
   ]
  },
  {
   "cell_type": "code",
   "execution_count": null,
   "metadata": {},
   "outputs": [],
   "source": []
  }
 ],
 "metadata": {
  "kernelspec": {
   "display_name": "Python 3",
   "language": "python",
   "name": "python3"
  },
  "language_info": {
   "codemirror_mode": {
    "name": "ipython",
    "version": 3
   },
   "file_extension": ".py",
   "mimetype": "text/x-python",
   "name": "python",
   "nbconvert_exporter": "python",
   "pygments_lexer": "ipython3",
   "version": "3.7.3"
  }
 },
 "nbformat": 4,
 "nbformat_minor": 2
}
