








<!DOCTYPE html>
<html lang="en">

<head>
  <meta charset="utf-8">
  <title>Jupyter Notebook Viewer</title>
  <meta name="viewport" content="width=device-width, initial-scale=1.0">
  <meta name="description" content="">
  <meta name="author" content="">
  
  <meta name="robots" content="noindex,nofollow">
  

  <!--NEW RELIC Start Perf Measurement-->
  
  <!--NREND-->

  <!-- Le styles -->
  <link href="/static/build/styles.css?v=55ba354138253381d2c0ada9821cd4da" rel="stylesheet">

  <!-- Le HTML5 shim, for IE6-8 support of HTML5 elements -->
  <!--[if lt IE 9]>
    <script src="http://html5shim.googlecode.com/svn/trunk/html5.js"></script>
  <![endif]-->

  <!-- Le fav and touch icons -->
  <link rel="shortcut icon" href="/static/ico/ipynb_icon_16x16.png">
  <link rel="apple-touch-icon-precomposed" sizes="144x144"
        href="/static/ico/apple-touch-icon-144-precomposed.png?v=5a3c9ede93e2a8b8ea9e3f8f3da1a905">
  <link rel="apple-touch-icon-precomposed" sizes="114x114"
        href="/static/ico/apple-touch-icon-114-precomposed.png?v=45d86fc8f24dc00638035e1dd7a6d898">
  <link rel="apple-touch-icon-precomposed" sizes="72x72"
        href="/static/ico/apple-touch-icon-72-precomposed.png?v=540b5eb0f3cfd25f1439d1c9bd30e15f">
  <link rel="apple-touch-icon-precomposed"
        href="/static/ico/apple-touch-icon-57-precomposed.png?v=225f0590e187e1458625654f10a28f56">
  
  

  

  
  <meta name="twitter:card" content="summary">
  <meta name="twitter:title" content="Notebook on nbviewer">
  <meta name="twitter:description" content="Check out this Jupyter notebook!">

  
  <meta name="twitter:domain" content="nbviewer.jupyter.org">
  <meta name="twitter:image:src" content="http://ipython.org/ipython-doc/dev/_images/ipynb_icon_128x128.png">

  
    <link href="/static/build/notebook.css?v=aae8f92f7e80fc468ae446b9d852fe90" rel="stylesheet">
  

  

  
    <script src="https://cdnjs.cloudflare.com/ajax/libs/mathjax/2.7.1/MathJax.js?config=TeX-AMS_HTML" type="text/javascript">
    </script>
    <script type="text/javascript">
      init_mathjax = function() {
        if (window.MathJax) {
          // MathJax loaded
          MathJax.Hub.Config({
            TeX: {
              equationNumbers: {
                autoNumber: "AMS",
                useLabelIds: true
              }
            },
            tex2jax: {
              inlineMath: [ ['$','$'], ["\\(","\\)"] ],
              displayMath: [ ['$$','$$'], ["\\[","\\]"] ],
              processEscapes: true,
              processEnvironments: true
            },
            displayAlign: 'center',
            "HTML-CSS": {
              styles: {'.MathJax_Display': {"margin": 0}},
              linebreaks: { automatic: true }
            }
          });
          MathJax.Hub.Queue(["Typeset", MathJax.Hub]);
        }
      }
      init_mathjax();
    </script>
  

  
    <script>
      (function() {
        function addWidgetsRenderer() {
          var mimeElement = document.querySelector('script[type="application/vnd.jupyter.widget-view+json"]');
          var scriptElement = document.createElement('script');
          var widgetRendererSrc = 'https://unpkg.com/@jupyter-widgets/html-manager@0.15/dist/embed-amd.js';
          var widgetState;

          try {
            widgetState = mimeElement && JSON.parse(mimeElement.innerHTML);

            if (widgetState && (widgetState.version_major < 2 || !widgetState.version_major)) {
              widgetRendererSrc = 'https://unpkg.com/jupyter-js-widgets@2.1/dist/embed.js';
            }
          } catch(e) {}

          scriptElement.src = widgetRendererSrc;
          document.body.appendChild(scriptElement);
        }

        document.addEventListener('DOMContentLoaded', addWidgetsRenderer);
      }());
    </script>
  

</head>

<body class="nbviewer">

  <!-- These are loaded at the top of the body so they are available to
       notebook cells when they are loaded below. -->
  <script src="/static/components/jquery/dist/jquery.min.js?v=220afd743d9e9643852e31a135a9f3ae"></script>
  <script src="/static/components/requirejs/require.js?v=6da8be361b9ee26c5e721e76c6d4afce"></script>
  <script src="/static/components/moment/min/moment.min.js?v=89f87298ad94aa1e6b92f42eb66da043"></script>
<!-- Navbar
================================================== -->
  <nav id="menubar" class="navbar navbar-default navbar-fixed-top" data-spy="affix">
    <div class="container">
      <div class="navbar-header">
        <button type="button" class="navbar-toggle collapsed" data-toggle="collapse" data-target=".navbar-collapse">
          <span class="sr-only">Toggle navigation</span>
          <i class="fa fa-bars"></i>
        </button>
        <a class="navbar-brand" href="/">
          <img src="/static/img/nav_logo.svg?v=479cefe8d932fb14a67b93911b97d70f" width="159"/>
        </a>
      </div>

      <div class="collapse navbar-collapse">
        <ul class="nav navbar-nav navbar-right">
          <li>
            <a class="active" href="https://jupyter.org">JUPYTER</a>
          </li>
          <li>
    <a href="/faq" title="FAQ" >
      
        <span>FAQ</span>
      
    </a>
  </li>

          
  
    
  
    
      
        <li>
    <a href="/format/script/github/Yorko/mlcourse_open/blob/master/jupyter_russian/project_alice/week6_vowpal_wabbit.ipynb?flush_cache=true" title="View as Code" >
      <span class="fa fa-code fa-2x menu-icon"></span>
      <span class="menu-text">View as Code</span>
    </a>
  </li>
      
    
  

  
    <li>
    <a href="#" title="Python 3 Kernel" >
      <span class="fa fa-server fa-2x menu-icon"></span>
      <span class="menu-text">Python 3 Kernel</span>
    </a>
  </li>
  

  
    <li>
    <a href="https://github.com/Yorko/mlcourse_open/blob/master/jupyter_russian/project_alice/week6_vowpal_wabbit.ipynb" title="View on GitHub" >
      <span class="fa fa-github fa-2x menu-icon"></span>
      <span class="menu-text">View on GitHub</span>
    </a>
  </li>
  

  
    <li>
    <a href="https://mybinder.org/v2/gh/Yorko/mlcourse_open/master?filepath=jupyter_russian/project_alice/week6_vowpal_wabbit.ipynb" title="Execute on Binder" >
      <span class="fa fa-icon-binder fa-2x menu-icon"></span>
      <span class="menu-text">Execute on Binder</span>
    </a>
  </li>
  

  <li>
    <a href="https://raw.githubusercontent.com/Yorko/mlcourse_open/master/jupyter_russian/project_alice/week6_vowpal_wabbit.ipynb" title="Download Notebook" download>
      <span class="fa fa-download fa-2x menu-icon"></span>
      <span class="menu-text">Download Notebook</span>
    </a>
  </li>

        </ul>
      </div><!-- /.navbar-collapse -->
      
      
    </div>
  </nav>

  <div class="container container-main">
    
  
  <ol class="breadcrumb">
    
      <li>
        <a href="/github/Yorko/mlcourse_open/tree/master">mlcourse_open</a>
      </li>
    
      <li>
        <a href="/github/Yorko/mlcourse_open/tree/master/jupyter_russian">jupyter_russian</a>
      </li>
    
      <li>
        <a href="/github/Yorko/mlcourse_open/tree/master/jupyter_russian/project_alice">project_alice</a>
      </li>
    
  </ol>
  
  <div id="notebook">
    <div id="notebook-container">
      <div class="cell border-box-sizing text_cell rendered"><div class="prompt input_prompt">
</div><div class="inner_cell">
<div class="text_cell_render border-box-sizing rendered_html">
<p><center>
<img src="https://habrastorage.org/web/677/8e1/337/6778e1337c3d4b159d7e99df94227cb2.jpg"/></p>
<h2 id="&#1057;&#1087;&#1077;&#1094;&#1080;&#1072;&#1083;&#1080;&#1079;&#1072;&#1094;&#1080;&#1103;-&quot;&#1052;&#1072;&#1096;&#1080;&#1085;&#1085;&#1086;&#1077;-&#1086;&#1073;&#1091;&#1095;&#1077;&#1085;&#1080;&#1077;-&#1080;-&#1072;&#1085;&#1072;&#1083;&#1080;&#1079;-&#1076;&#1072;&#1085;&#1085;&#1099;&#1093;&quot;">&#1057;&#1087;&#1077;&#1094;&#1080;&#1072;&#1083;&#1080;&#1079;&#1072;&#1094;&#1080;&#1103; "&#1052;&#1072;&#1096;&#1080;&#1085;&#1085;&#1086;&#1077; &#1086;&#1073;&#1091;&#1095;&#1077;&#1085;&#1080;&#1077; &#1080; &#1072;&#1085;&#1072;&#1083;&#1080;&#1079; &#1076;&#1072;&#1085;&#1085;&#1099;&#1093;"<a class="anchor-link" href="#&#1057;&#1087;&#1077;&#1094;&#1080;&#1072;&#1083;&#1080;&#1079;&#1072;&#1094;&#1080;&#1103;-&quot;&#1052;&#1072;&#1096;&#1080;&#1085;&#1085;&#1086;&#1077;-&#1086;&#1073;&#1091;&#1095;&#1077;&#1085;&#1080;&#1077;-&#1080;-&#1072;&#1085;&#1072;&#1083;&#1080;&#1079;-&#1076;&#1072;&#1085;&#1085;&#1099;&#1093;&quot;">&#182;</a></h2><p><center>Автор материала: программист-исследователь Mail.Ru Group, старший преподаватель Факультета Компьютерных Наук ВШЭ <a href="https://yorko.github.io/">Юрий Кашницкий</a></p>

</div>
</div>
</div>
<div class="cell border-box-sizing text_cell rendered"><div class="prompt input_prompt">
</div><div class="inner_cell">
<div class="text_cell_render border-box-sizing rendered_html">
<h1><center> Capstone проект №1 <br> Идентификация пользователей по посещенным веб-страницам</h1>
<p><img src="https://i.istockimg.com/file_thumbview_approve/21546327/5/stock-illustration-21546327-identification-de-l-utilisateur.jpg"></p>
<h1><center>Неделя 6.  Vowpal Wabbit</h1>
<p>На этой неделе мы познакомимся с популярной библиотекой Vowpal Wabbit и попробуем ее на данных по посещению сайтов.</p>
<p><strong>План 6 недели:</strong></p>
<ul>
<li>Часть 1. Статья по Vowpal Wabbit</li>
<li>Часть 2. Применение Vowpal Wabbit к данным по посещению сайтов<ul>
<li>2.1. Подготовка данных</li>
<li>2.2. Валидация по отложенной выборке</li>
<li>2.3. Валидация по тестовой выборке (Public Leaderboard)</li>
</ul>
</li>
</ul>
<p><strong>В этой части проекта Вам могут быть полезны видеозаписи следующих лекций курса "Обучение на размеченных данных":</strong></p>
<ul>
<li><a href="https://www.coursera.org/learn/supervised-learning/lecture/xRY50/stokhastichieskii-ghradiientnyi-spusk">Стохатический градиентный спуск</a></li>
<li><a href="https://www.coursera.org/learn/supervised-learning/lecture/EBg9t/linieinyie-modieli-sklearn-linear-model-klassifikatsiia">Линейные модели. <code>sklearn.linear_model</code>. Классификация</a></li>
</ul>
<p>Также будет полезна <a href="https://github.com/esokolov/ml-course-msu/blob/master/ML15/lecture-notes/Sem08_vw.pdf">презентация</a> лектора специализации Евгения Соколова. И, конечно же, <a href="https://github.com/JohnLangford/vowpal_wabbit/wiki">документация</a> Vowpal Wabbit.</p>

</div>
</div>
</div>
<div class="cell border-box-sizing text_cell rendered"><div class="prompt input_prompt">
</div><div class="inner_cell">
<div class="text_cell_render border-box-sizing rendered_html">
<h3 id="&#1047;&#1072;&#1076;&#1072;&#1085;&#1080;&#1077;">&#1047;&#1072;&#1076;&#1072;&#1085;&#1080;&#1077;<a class="anchor-link" href="#&#1047;&#1072;&#1076;&#1072;&#1085;&#1080;&#1077;">&#182;</a></h3><ol>
<li>Заполните код в этой тетрадке </li>
<li>Если вы проходите специализацию Яндеса и МФТИ, пошлите файл с ответами в соответствующем Programming Assignment. <br> Если вы проходите курс ODS, выберите ответы в <a href="https://docs.google.com/forms/d/1wteunpEhAt_9s-WBwxYphB6XpniXsAZiFSNuFNmvOdk">веб-форме</a>.</li>
</ol>

</div>
</div>
</div>
<div class="cell border-box-sizing text_cell rendered"><div class="prompt input_prompt">
</div><div class="inner_cell">
<div class="text_cell_render border-box-sizing rendered_html">
<h2 id="&#1063;&#1072;&#1089;&#1090;&#1100;-1.-&#1057;&#1090;&#1072;&#1090;&#1100;&#1103;-&#1087;&#1088;&#1086;-Vowpal-Wabbit">&#1063;&#1072;&#1089;&#1090;&#1100; 1. &#1057;&#1090;&#1072;&#1090;&#1100;&#1103; &#1087;&#1088;&#1086; Vowpal Wabbit<a class="anchor-link" href="#&#1063;&#1072;&#1089;&#1090;&#1100;-1.-&#1057;&#1090;&#1072;&#1090;&#1100;&#1103;-&#1087;&#1088;&#1086;-Vowpal-Wabbit">&#182;</a></h2><p>Прочитайте <a href="https://habrahabr.ru/company/ods/blog/326418/">статью</a> про Vowpal Wabbit на Хабре из серии открытого курса OpenDataScience по машинному обучению. Материал для этой статьи зародился из нашей специализации. Скачайте <a href="https://github.com/Yorko/mlcourse_open/blob/master/jupyter_russian/topic08_sgd_hashing_vowpal_wabbit/topic8_sgd_hashing_vowpal_wabbit.ipynb">тетрадку</a>, прилагаемую к статье, посмотрите код, изучите его, поменяйте, только так можно разобраться с Vowpal Wabbit.</p>

</div>
</div>
</div>
<div class="cell border-box-sizing text_cell rendered"><div class="prompt input_prompt">
</div><div class="inner_cell">
<div class="text_cell_render border-box-sizing rendered_html">
<h2 id="&#1063;&#1072;&#1089;&#1090;&#1100;-2.-&#1055;&#1088;&#1080;&#1084;&#1077;&#1085;&#1077;&#1085;&#1080;&#1077;-Vowpal-Wabbit-&#1082;-&#1076;&#1072;&#1085;&#1085;&#1099;&#1084;-&#1087;&#1086;-&#1087;&#1086;&#1089;&#1077;&#1097;&#1077;&#1085;&#1080;&#1102;-&#1089;&#1072;&#1081;&#1090;&#1086;&#1074;">&#1063;&#1072;&#1089;&#1090;&#1100; 2. &#1055;&#1088;&#1080;&#1084;&#1077;&#1085;&#1077;&#1085;&#1080;&#1077; Vowpal Wabbit &#1082; &#1076;&#1072;&#1085;&#1085;&#1099;&#1084; &#1087;&#1086; &#1087;&#1086;&#1089;&#1077;&#1097;&#1077;&#1085;&#1080;&#1102; &#1089;&#1072;&#1081;&#1090;&#1086;&#1074;<a class="anchor-link" href="#&#1063;&#1072;&#1089;&#1090;&#1100;-2.-&#1055;&#1088;&#1080;&#1084;&#1077;&#1085;&#1077;&#1085;&#1080;&#1077;-Vowpal-Wabbit-&#1082;-&#1076;&#1072;&#1085;&#1085;&#1099;&#1084;-&#1087;&#1086;-&#1087;&#1086;&#1089;&#1077;&#1097;&#1077;&#1085;&#1080;&#1102;-&#1089;&#1072;&#1081;&#1090;&#1086;&#1074;">&#182;</a></h2>
</div>
</div>
</div>
<div class="cell border-box-sizing text_cell rendered"><div class="prompt input_prompt">
</div><div class="inner_cell">
<div class="text_cell_render border-box-sizing rendered_html">
<h3 id="2.1.-&#1055;&#1086;&#1076;&#1075;&#1086;&#1090;&#1086;&#1074;&#1082;&#1072;-&#1076;&#1072;&#1085;&#1085;&#1099;&#1093;">2.1. &#1055;&#1086;&#1076;&#1075;&#1086;&#1090;&#1086;&#1074;&#1082;&#1072; &#1076;&#1072;&#1085;&#1085;&#1099;&#1093;<a class="anchor-link" href="#2.1.-&#1055;&#1086;&#1076;&#1075;&#1086;&#1090;&#1086;&#1074;&#1082;&#1072;-&#1076;&#1072;&#1085;&#1085;&#1099;&#1093;">&#182;</a></h3>
</div>
</div>
</div>
<div class="cell border-box-sizing text_cell rendered"><div class="prompt input_prompt">
</div><div class="inner_cell">
<div class="text_cell_render border-box-sizing rendered_html">
<p><strong>Далее посмотрим на Vowpal Wabbit в деле. Правда, в задаче нашего соревнования при бинарной классификации веб-сессий мы разницы не заметим – как по качеству, так и по скорости работы (хотя можете проверить), продемонстрируем всю резвость VW в задаче классификации на 400 классов. Исходные данные все те же самые, но выделено 400 пользователей, и решается задача их идентификации. Скачайте данные <a href="https://inclass.kaggle.com/c/identify-me-if-you-can4/data">отсюда</a> – файлы <code>train_sessions_400users.csv</code> и <code>test_sessions_400users.csv</code>.</strong></p>

</div>
</div>
</div>
<div class="cell border-box-sizing code_cell rendered">
<div class="input">
<div class="prompt input_prompt">In&nbsp;[1]:</div>
<div class="inner_cell">
    <div class="input_area">
<div class=" highlight hl-ipython3"><pre><span></span><span class="kn">import</span> <span class="nn">os</span>
<span class="kn">import</span> <span class="nn">pandas</span> <span class="k">as</span> <span class="nn">pd</span>
<span class="kn">from</span> <span class="nn">scipy.sparse</span> <span class="k">import</span> <span class="n">csr_matrix</span>
<span class="kn">from</span> <span class="nn">sklearn.linear_model</span> <span class="k">import</span> <span class="n">LogisticRegression</span><span class="p">,</span> <span class="n">SGDClassifier</span>
</pre></div>

    </div>
</div>
</div>

</div>
<div class="cell border-box-sizing code_cell rendered">
<div class="input">
<div class="prompt input_prompt">In&nbsp;[2]:</div>
<div class="inner_cell">
    <div class="input_area">
<div class=" highlight hl-ipython3"><pre><span></span><span class="c1"># Поменяйте на свой путь к данным</span>
<span class="n">PATH_TO_DATA</span> <span class="o">=</span> <span class="s1">&#39;capstone_user_identification&#39;</span>
</pre></div>

    </div>
</div>
</div>

</div>
<div class="cell border-box-sizing text_cell rendered"><div class="prompt input_prompt">
</div><div class="inner_cell">
<div class="text_cell_render border-box-sizing rendered_html">
<p><strong>Загрузим обучающую и тестовую выборки. Можете заметить, что тестовые сессии здесь по времени четко отделены от сессий в обучающей выборке. </strong></p>

</div>
</div>
</div>
<div class="cell border-box-sizing code_cell rendered">
<div class="input">
<div class="prompt input_prompt">In&nbsp;[3]:</div>
<div class="inner_cell">
    <div class="input_area">
<div class=" highlight hl-ipython3"><pre><span></span><span class="n">train_df_400</span> <span class="o">=</span> <span class="n">pd</span><span class="o">.</span><span class="n">read_csv</span><span class="p">(</span><span class="n">os</span><span class="o">.</span><span class="n">path</span><span class="o">.</span><span class="n">join</span><span class="p">(</span><span class="n">PATH_TO_DATA</span><span class="p">,</span><span class="s1">&#39;train_sessions_400users.csv&#39;</span><span class="p">),</span> 
                           <span class="n">index_col</span><span class="o">=</span><span class="s1">&#39;session_id&#39;</span><span class="p">)</span>
</pre></div>

    </div>
</div>
</div>

</div>
<div class="cell border-box-sizing code_cell rendered">
<div class="input">
<div class="prompt input_prompt">In&nbsp;[4]:</div>
<div class="inner_cell">
    <div class="input_area">
<div class=" highlight hl-ipython3"><pre><span></span><span class="n">test_df_400</span> <span class="o">=</span> <span class="n">pd</span><span class="o">.</span><span class="n">read_csv</span><span class="p">(</span><span class="n">os</span><span class="o">.</span><span class="n">path</span><span class="o">.</span><span class="n">join</span><span class="p">(</span><span class="n">PATH_TO_DATA</span><span class="p">,</span><span class="s1">&#39;test_sessions_400users.csv&#39;</span><span class="p">),</span> 
                           <span class="n">index_col</span><span class="o">=</span><span class="s1">&#39;session_id&#39;</span><span class="p">)</span>
</pre></div>

    </div>
</div>
</div>

</div>
<div class="cell border-box-sizing code_cell rendered">
<div class="input">
<div class="prompt input_prompt">In&nbsp;[5]:</div>
<div class="inner_cell">
    <div class="input_area">
<div class=" highlight hl-ipython3"><pre><span></span><span class="n">train_df_400</span><span class="o">.</span><span class="n">head</span><span class="p">()</span>
</pre></div>

    </div>
</div>
</div>

<div class="output_wrapper">
<div class="output">


<div class="output_area">

    <div class="prompt output_prompt">Out[5]:</div>



<div class="output_html rendered_html output_subarea output_execute_result">
<div>
<style>
    .dataframe thead tr:only-child th {
        text-align: right;
    }

    .dataframe thead th {
        text-align: left;
    }

    .dataframe tbody tr th {
        vertical-align: top;
    }
</style>
<table border="1" class="dataframe">
  <thead>
    <tr style="text-align: right;">
      <th></th>
      <th>site1</th>
      <th>time1</th>
      <th>site2</th>
      <th>time2</th>
      <th>site3</th>
      <th>time3</th>
      <th>site4</th>
      <th>time4</th>
      <th>site5</th>
      <th>time5</th>
      <th>...</th>
      <th>time6</th>
      <th>site7</th>
      <th>time7</th>
      <th>site8</th>
      <th>time8</th>
      <th>site9</th>
      <th>time9</th>
      <th>site10</th>
      <th>time10</th>
      <th>user_id</th>
    </tr>
    <tr>
      <th>session_id</th>
      <th></th>
      <th></th>
      <th></th>
      <th></th>
      <th></th>
      <th></th>
      <th></th>
      <th></th>
      <th></th>
      <th></th>
      <th></th>
      <th></th>
      <th></th>
      <th></th>
      <th></th>
      <th></th>
      <th></th>
      <th></th>
      <th></th>
      <th></th>
      <th></th>
    </tr>
  </thead>
  <tbody>
    <tr>
      <th>1</th>
      <td>23713</td>
      <td>2014-03-24 15:22:40</td>
      <td>23720.0</td>
      <td>2014-03-24 15:22:48</td>
      <td>23713.0</td>
      <td>2014-03-24 15:22:48</td>
      <td>23713.0</td>
      <td>2014-03-24 15:22:54</td>
      <td>23720.0</td>
      <td>2014-03-24 15:22:54</td>
      <td>...</td>
      <td>2014-03-24 15:22:55</td>
      <td>23713.0</td>
      <td>2014-03-24 15:23:01</td>
      <td>23713.0</td>
      <td>2014-03-24 15:23:03</td>
      <td>23713.0</td>
      <td>2014-03-24 15:23:04</td>
      <td>23713.0</td>
      <td>2014-03-24 15:23:05</td>
      <td>653</td>
    </tr>
    <tr>
      <th>2</th>
      <td>8726</td>
      <td>2014-04-17 14:25:58</td>
      <td>8725.0</td>
      <td>2014-04-17 14:25:59</td>
      <td>665.0</td>
      <td>2014-04-17 14:25:59</td>
      <td>8727.0</td>
      <td>2014-04-17 14:25:59</td>
      <td>45.0</td>
      <td>2014-04-17 14:25:59</td>
      <td>...</td>
      <td>2014-04-17 14:26:01</td>
      <td>45.0</td>
      <td>2014-04-17 14:26:01</td>
      <td>5320.0</td>
      <td>2014-04-17 14:26:18</td>
      <td>5320.0</td>
      <td>2014-04-17 14:26:47</td>
      <td>5320.0</td>
      <td>2014-04-17 14:26:48</td>
      <td>198</td>
    </tr>
    <tr>
      <th>3</th>
      <td>303</td>
      <td>2014-03-21 10:12:24</td>
      <td>19.0</td>
      <td>2014-03-21 10:12:36</td>
      <td>303.0</td>
      <td>2014-03-21 10:12:54</td>
      <td>303.0</td>
      <td>2014-03-21 10:13:01</td>
      <td>303.0</td>
      <td>2014-03-21 10:13:24</td>
      <td>...</td>
      <td>2014-03-21 10:13:36</td>
      <td>303.0</td>
      <td>2014-03-21 10:13:54</td>
      <td>309.0</td>
      <td>2014-03-21 10:14:01</td>
      <td>303.0</td>
      <td>2014-03-21 10:14:06</td>
      <td>303.0</td>
      <td>2014-03-21 10:14:24</td>
      <td>34</td>
    </tr>
    <tr>
      <th>4</th>
      <td>1359</td>
      <td>2013-12-13 09:52:28</td>
      <td>925.0</td>
      <td>2013-12-13 09:54:34</td>
      <td>1240.0</td>
      <td>2013-12-13 09:54:34</td>
      <td>1360.0</td>
      <td>2013-12-13 09:54:34</td>
      <td>1344.0</td>
      <td>2013-12-13 09:54:34</td>
      <td>...</td>
      <td>2013-12-13 09:54:34</td>
      <td>1346.0</td>
      <td>2013-12-13 09:54:34</td>
      <td>1345.0</td>
      <td>2013-12-13 09:54:34</td>
      <td>1344.0</td>
      <td>2013-12-13 09:58:19</td>
      <td>1345.0</td>
      <td>2013-12-13 09:58:19</td>
      <td>601</td>
    </tr>
    <tr>
      <th>5</th>
      <td>11</td>
      <td>2013-11-26 12:35:29</td>
      <td>85.0</td>
      <td>2013-11-26 12:35:31</td>
      <td>52.0</td>
      <td>2013-11-26 12:35:31</td>
      <td>85.0</td>
      <td>2013-11-26 12:35:32</td>
      <td>11.0</td>
      <td>2013-11-26 12:35:32</td>
      <td>...</td>
      <td>2013-11-26 12:35:32</td>
      <td>11.0</td>
      <td>2013-11-26 12:37:03</td>
      <td>85.0</td>
      <td>2013-11-26 12:37:03</td>
      <td>10.0</td>
      <td>2013-11-26 12:37:03</td>
      <td>85.0</td>
      <td>2013-11-26 12:37:04</td>
      <td>273</td>
    </tr>
  </tbody>
</table>
<p>5 rows × 21 columns</p>
</div>
</div>

</div>

</div>
</div>

</div>
<div class="cell border-box-sizing text_cell rendered"><div class="prompt input_prompt">
</div><div class="inner_cell">
<div class="text_cell_render border-box-sizing rendered_html">
<p><strong>Видим, что в обучающей выборке 182793 сессий, в тестовой – 46473, и сессии действительно принадлежат 400 различным пользователям.</strong></p>

</div>
</div>
</div>
<div class="cell border-box-sizing code_cell rendered">
<div class="input">
<div class="prompt input_prompt">In&nbsp;[6]:</div>
<div class="inner_cell">
    <div class="input_area">
<div class=" highlight hl-ipython3"><pre><span></span><span class="n">train_df_400</span><span class="o">.</span><span class="n">shape</span><span class="p">,</span> <span class="n">test_df_400</span><span class="o">.</span><span class="n">shape</span><span class="p">,</span> <span class="n">train_df_400</span><span class="p">[</span><span class="s1">&#39;user_id&#39;</span><span class="p">]</span><span class="o">.</span><span class="n">nunique</span><span class="p">()</span>
</pre></div>

    </div>
</div>
</div>

<div class="output_wrapper">
<div class="output">


<div class="output_area">

    <div class="prompt output_prompt">Out[6]:</div>




<div class="output_text output_subarea output_execute_result">
<pre>((182793, 21), (46473, 20), 400)</pre>
</div>

</div>

</div>
</div>

</div>
<div class="cell border-box-sizing text_cell rendered"><div class="prompt input_prompt">
</div><div class="inner_cell">
<div class="text_cell_render border-box-sizing rendered_html">
<p><strong>Vowpal Wabbit любит, чтоб метки классов были распределены от 1 до K, где K – число классов в задаче классификации (в нашем случае – 400). Поэтому придется применить <code>LabelEncoder</code>, да еще и +1 потом добавить (<code>LabelEncoder</code> переводит метки в диапозон от 0 до K-1). Потом надо будет применить обратное преобразование.</strong></p>

</div>
</div>
</div>
<div class="cell border-box-sizing code_cell rendered">
<div class="input">
<div class="prompt input_prompt">In&nbsp;[&nbsp;]:</div>
<div class="inner_cell">
    <div class="input_area">
<div class=" highlight hl-ipython3"><pre><span></span><span class="n">y</span> <span class="o">=</span> <span class="s1">&#39;&#39;&#39; ВАШ КОД ЗДЕСЬ &#39;&#39;&#39;</span>
<span class="n">class_encoder</span> <span class="o">=</span> <span class="s1">&#39;&#39;&#39; ВАШ КОД ЗДЕСЬ &#39;&#39;&#39;</span>
<span class="n">y_for_vw</span> <span class="o">=</span> <span class="s1">&#39;&#39;&#39; ВАШ КОД ЗДЕСЬ &#39;&#39;&#39;</span>
</pre></div>

    </div>
</div>
</div>

</div>
<div class="cell border-box-sizing text_cell rendered"><div class="prompt input_prompt">
</div><div class="inner_cell">
<div class="text_cell_render border-box-sizing rendered_html">
<p><strong>Далее будем сравнивать VW с SGDClassifier и с логистической регрессией. Всем моделям этим нужна предобработка входных данных. Подготовьте для sklearn-моделей разреженные матрицы, как мы это делали в 5 части:</strong></p>
<ul>
<li>объедините обучающиую и тестовую выборки</li>
<li>выберите только сайты (признаки от 'site1' до 'site10')</li>
<li>замените пропуски на нули (сайты у нас нумеровались с 0)</li>
<li>переведите в разреженный формат <code>csr_matrix</code></li>
<li>разбейте обратно на обучающую и тестовую части</li>
</ul>

</div>
</div>
</div>
<div class="cell border-box-sizing code_cell rendered">
<div class="input">
<div class="prompt input_prompt">In&nbsp;[&nbsp;]:</div>
<div class="inner_cell">
    <div class="input_area">
<div class=" highlight hl-ipython3"><pre><span></span><span class="n">sites</span> <span class="o">=</span> <span class="p">[</span><span class="s1">&#39;site&#39;</span> <span class="o">+</span> <span class="nb">str</span><span class="p">(</span><span class="n">i</span><span class="p">)</span> <span class="k">for</span> <span class="n">i</span> <span class="ow">in</span> <span class="nb">range</span><span class="p">(</span><span class="mi">1</span><span class="p">,</span> <span class="mi">11</span><span class="p">)]</span>
</pre></div>

    </div>
</div>
</div>

</div>
<div class="cell border-box-sizing code_cell rendered">
<div class="input">
<div class="prompt input_prompt">In&nbsp;[&nbsp;]:</div>
<div class="inner_cell">
    <div class="input_area">
<div class=" highlight hl-ipython3"><pre><span></span><span class="sd">&#39;&#39;&#39; ВАШ КОД ЗДЕСЬ &#39;&#39;&#39;</span>
<span class="n">X_train_sparse</span> <span class="o">=</span> <span class="s1">&#39;&#39;&#39; ВАШ КОД ЗДЕСЬ &#39;&#39;&#39;</span>
<span class="n">X_test_sparse</span> <span class="o">=</span> <span class="s1">&#39;&#39;&#39; ВАШ КОД ЗДЕСЬ &#39;&#39;&#39;</span>
<span class="n">y</span> <span class="o">=</span> <span class="s1">&#39;&#39;&#39; ВАШ КОД ЗДЕСЬ &#39;&#39;&#39;</span>
</pre></div>

    </div>
</div>
</div>

</div>
<div class="cell border-box-sizing text_cell rendered"><div class="prompt input_prompt">
</div><div class="inner_cell">
<div class="text_cell_render border-box-sizing rendered_html">
<h3 id="2.2.-&#1042;&#1072;&#1083;&#1080;&#1076;&#1072;&#1094;&#1080;&#1103;-&#1087;&#1086;-&#1086;&#1090;&#1083;&#1086;&#1078;&#1077;&#1085;&#1085;&#1086;&#1081;-&#1074;&#1099;&#1073;&#1086;&#1088;&#1082;&#1077;">2.2. &#1042;&#1072;&#1083;&#1080;&#1076;&#1072;&#1094;&#1080;&#1103; &#1087;&#1086; &#1086;&#1090;&#1083;&#1086;&#1078;&#1077;&#1085;&#1085;&#1086;&#1081; &#1074;&#1099;&#1073;&#1086;&#1088;&#1082;&#1077;<a class="anchor-link" href="#2.2.-&#1042;&#1072;&#1083;&#1080;&#1076;&#1072;&#1094;&#1080;&#1103;-&#1087;&#1086;-&#1086;&#1090;&#1083;&#1086;&#1078;&#1077;&#1085;&#1085;&#1086;&#1081;-&#1074;&#1099;&#1073;&#1086;&#1088;&#1082;&#1077;">&#182;</a></h3>
</div>
</div>
</div>
<div class="cell border-box-sizing text_cell rendered"><div class="prompt input_prompt">
</div><div class="inner_cell">
<div class="text_cell_render border-box-sizing rendered_html">
<p><strong>Выделим обучающую (70%) и отложенную (30%) части исходной обучающей выборки. Данные не перемешиваем, учитываем, что сессии отсортированы по времени.</strong></p>

</div>
</div>
</div>
<div class="cell border-box-sizing code_cell rendered">
<div class="input">
<div class="prompt input_prompt">In&nbsp;[&nbsp;]:</div>
<div class="inner_cell">
    <div class="input_area">
<div class=" highlight hl-ipython3"><pre><span></span><span class="n">train_share</span> <span class="o">=</span> <span class="nb">int</span><span class="p">(</span><span class="o">.</span><span class="mi">7</span> <span class="o">*</span> <span class="n">train_df_400</span><span class="o">.</span><span class="n">shape</span><span class="p">[</span><span class="mi">0</span><span class="p">])</span>
<span class="n">train_df_part</span> <span class="o">=</span> <span class="n">train_df_400</span><span class="p">[</span><span class="n">sites</span><span class="p">]</span><span class="o">.</span><span class="n">iloc</span><span class="p">[:</span><span class="n">train_share</span><span class="p">,</span> <span class="p">:]</span>
<span class="n">valid_df</span> <span class="o">=</span> <span class="n">train_df_400</span><span class="p">[</span><span class="n">sites</span><span class="p">]</span><span class="o">.</span><span class="n">iloc</span><span class="p">[</span><span class="n">train_share</span><span class="p">:,</span> <span class="p">:]</span>
<span class="n">X_train_part_sparse</span> <span class="o">=</span> <span class="n">X_train_sparse</span><span class="p">[:</span><span class="n">train_share</span><span class="p">,</span> <span class="p">:]</span>
<span class="n">X_valid_sparse</span> <span class="o">=</span> <span class="n">X_train_sparse</span><span class="p">[</span><span class="n">train_share</span><span class="p">:,</span> <span class="p">:]</span>
</pre></div>

    </div>
</div>
</div>

</div>
<div class="cell border-box-sizing code_cell rendered">
<div class="input">
<div class="prompt input_prompt">In&nbsp;[&nbsp;]:</div>
<div class="inner_cell">
    <div class="input_area">
<div class=" highlight hl-ipython3"><pre><span></span><span class="n">y_train_part</span> <span class="o">=</span> <span class="n">y</span><span class="p">[:</span><span class="n">train_share</span><span class="p">]</span>
<span class="n">y_valid</span> <span class="o">=</span> <span class="n">y</span><span class="p">[</span><span class="n">train_share</span><span class="p">:]</span>
<span class="n">y_train_part_for_vw</span> <span class="o">=</span> <span class="n">y_for_vw</span><span class="p">[:</span><span class="n">train_share</span><span class="p">]</span>
<span class="n">y_valid_for_vw</span> <span class="o">=</span> <span class="n">y_for_vw</span><span class="p">[</span><span class="n">train_share</span><span class="p">:]</span>
</pre></div>

    </div>
</div>
</div>

</div>
<div class="cell border-box-sizing text_cell rendered"><div class="prompt input_prompt">
</div><div class="inner_cell">
<div class="text_cell_render border-box-sizing rendered_html">
<p><strong>Реализуйте функцию, <code>arrays_to_vw</code>, переводящую обучающую выборку в формат Vowpal Wabbit.</strong></p>
<p>Вход:</p>
<ul>
<li>X – матрица <code>NumPy</code> (обучающая выборка)</li>
<li>y (необяз.) - вектор ответов (<code>NumPy</code>). Необязателен, поскольку тестовую матрицу будем обрабатывать этой же функцией</li>
<li>train – флаг, True в случае обучающей выборки, False – в случае тестовой выборки</li>
<li>out_file – путь к файлу .vw, в который будет произведена запись</li>
</ul>
<p>Детали:</p>
<ul>
<li>надо пройтись по всем строкам матрицы <code>X</code> и записать через пробел все значения, предварительно добавив вперед нужную метку класса из вектора <code>y</code> и знак-разделитель <code>|</code></li>
<li>в тестовой выборке на месте меток целевого класса можно писать произвольные, допустим, 1</li>
</ul>

</div>
</div>
</div>
<div class="cell border-box-sizing code_cell rendered">
<div class="input">
<div class="prompt input_prompt">In&nbsp;[&nbsp;]:</div>
<div class="inner_cell">
    <div class="input_area">
<div class=" highlight hl-ipython3"><pre><span></span><span class="k">def</span> <span class="nf">arrays_to_vw</span><span class="p">(</span><span class="n">X</span><span class="p">,</span> <span class="n">y</span><span class="o">=</span><span class="kc">None</span><span class="p">,</span> <span class="n">train</span><span class="o">=</span><span class="kc">True</span><span class="p">,</span> <span class="n">out_file</span><span class="o">=</span><span class="s1">&#39;tmp.vw&#39;</span><span class="p">):</span>
    <span class="sd">&#39;&#39;&#39; ВАШ КОД ЗДЕСЬ &#39;&#39;&#39;</span>
    <span class="k">pass</span>
</pre></div>

    </div>
</div>
</div>

</div>
<div class="cell border-box-sizing text_cell rendered"><div class="prompt input_prompt">
</div><div class="inner_cell">
<div class="text_cell_render border-box-sizing rendered_html">
<p><strong>Примените написанную функцию к части обучащей выборки <code>(train_df_part, y_train_part_for_vw)</code>, к отложенной выборке <code>(valid_df, y_valid_for_vw)</code>, ко всей обучающей выборке и ко всей тестовой выборке. Обратите внимание, что на вход наш метод принимает именно матрицы и вектора <code>NumPy</code>.</strong></p>

</div>
</div>
</div>
<div class="cell border-box-sizing code_cell rendered">
<div class="input">
<div class="prompt input_prompt">In&nbsp;[&nbsp;]:</div>
<div class="inner_cell">
    <div class="input_area">
<div class=" highlight hl-ipython3"><pre><span></span><span class="o">%%time</span>
<span class="c1"># будет 4 вызова</span>
<span class="n">arrays_to_vw</span> <span class="s1">&#39;&#39;&#39; ВАШ КОД ЗДЕСЬ &#39;&#39;&#39;</span>
</pre></div>

    </div>
</div>
</div>

</div>
<div class="cell border-box-sizing text_cell rendered"><div class="prompt input_prompt">
</div><div class="inner_cell">
<div class="text_cell_render border-box-sizing rendered_html">
<p><strong>Результат должен получиться таким.</strong></p>

</div>
</div>
</div>
<div class="cell border-box-sizing code_cell rendered">
<div class="input">
<div class="prompt input_prompt">In&nbsp;[7]:</div>
<div class="inner_cell">
    <div class="input_area">
<div class=" highlight hl-ipython3"><pre><span></span><span class="o">!</span>head -3 <span class="nv">$PATH_TO_DATA</span>/train_part.vw
</pre></div>

    </div>
</div>
</div>

<div class="output_wrapper">
<div class="output">


<div class="output_area">

    <div class="prompt"></div>


<div class="output_subarea output_stream output_stdout output_text">
<pre>262 | 23713 23720 23713 23713 23720 23713 23713 23713 23713 23713
82 | 8726 8725 665 8727 45 8725 45 5320 5320 5320
16 | 303 19 303 303 303 303 303 309 303 303
</pre>
</div>
</div>

</div>
</div>

</div>
<div class="cell border-box-sizing code_cell rendered">
<div class="input">
<div class="prompt input_prompt">In&nbsp;[8]:</div>
<div class="inner_cell">
    <div class="input_area">
<div class=" highlight hl-ipython3"><pre><span></span><span class="o">!</span>head -3  <span class="nv">$PATH_TO_DATA</span>/valid.vw
</pre></div>

    </div>
</div>
</div>

<div class="output_wrapper">
<div class="output">


<div class="output_area">

    <div class="prompt"></div>


<div class="output_subarea output_stream output_stdout output_text">
<pre>4 | 7 923 923 923 11 924 7 924 838 7
160 | 91 198 11 11 302 91 668 311 310 91
312 | 27085 848 118 118 118 118 11 118 118 118
</pre>
</div>
</div>

</div>
</div>

</div>
<div class="cell border-box-sizing code_cell rendered">
<div class="input">
<div class="prompt input_prompt">In&nbsp;[9]:</div>
<div class="inner_cell">
    <div class="input_area">
<div class=" highlight hl-ipython3"><pre><span></span><span class="o">!</span>head -3 <span class="nv">$PATH_TO_DATA</span>/test.vw
</pre></div>

    </div>
</div>
</div>

<div class="output_wrapper">
<div class="output">


<div class="output_area">

    <div class="prompt"></div>


<div class="output_subarea output_stream output_stdout output_text">
<pre>1 | 9 304 308 307 91 308 312 300 305 309
1 | 838 504 68 11 838 11 838 886 27 305
1 | 190 192 8 189 191 189 190 2375 192 8
</pre>
</div>
</div>

</div>
</div>

</div>
<div class="cell border-box-sizing text_cell rendered"><div class="prompt input_prompt">
</div><div class="inner_cell">
<div class="text_cell_render border-box-sizing rendered_html">
<p><strong>Обучите модель Vowpal Wabbitна выборке <code>train_part.vw</code>. Укажите, что решается задача классификации с 400 классами (<code>--oaa</code>), сделайте 3 прохода по выборке (<code>--passes</code>). Задайте некоторый кэш-файл (<code>--cache_file</code>, можно просто указать флаг <code>-c</code>), так VW будет быстрее делать все следующие после первого проходы по выборке (прошлый кэш-файл удаляется с помощью аргумента <code>-k</code>). Также укажите значение параметра <code>b</code>=26. Это число бит, используемых для хэширования, в данном случае нужно больше, чем 18 по умолчанию. Наконец, укажите <code>random_seed</code>=17. Остальные параметры пока не меняйте, далее уже в свободном режиме соревнования можете попробовать другие функции потерь.</strong></p>

</div>
</div>
</div>
<div class="cell border-box-sizing code_cell rendered">
<div class="input">
<div class="prompt input_prompt">In&nbsp;[&nbsp;]:</div>
<div class="inner_cell">
    <div class="input_area">
<div class=" highlight hl-ipython3"><pre><span></span><span class="n">train_part_vw</span> <span class="o">=</span> <span class="n">os</span><span class="o">.</span><span class="n">path</span><span class="o">.</span><span class="n">join</span><span class="p">(</span><span class="n">PATH_TO_DATA</span><span class="p">,</span> <span class="s1">&#39;train_part.vw&#39;</span><span class="p">)</span>
<span class="n">valid_vw</span> <span class="o">=</span> <span class="n">os</span><span class="o">.</span><span class="n">path</span><span class="o">.</span><span class="n">join</span><span class="p">(</span><span class="n">PATH_TO_DATA</span><span class="p">,</span> <span class="s1">&#39;valid.vw&#39;</span><span class="p">)</span>
<span class="n">train_vw</span> <span class="o">=</span> <span class="n">os</span><span class="o">.</span><span class="n">path</span><span class="o">.</span><span class="n">join</span><span class="p">(</span><span class="n">PATH_TO_DATA</span><span class="p">,</span> <span class="s1">&#39;train.vw&#39;</span><span class="p">)</span>
<span class="n">test_vw</span> <span class="o">=</span> <span class="n">os</span><span class="o">.</span><span class="n">path</span><span class="o">.</span><span class="n">join</span><span class="p">(</span><span class="n">PATH_TO_DATA</span><span class="p">,</span> <span class="s1">&#39;test.vw&#39;</span><span class="p">)</span>
<span class="n">model</span> <span class="o">=</span> <span class="n">os</span><span class="o">.</span><span class="n">path</span><span class="o">.</span><span class="n">join</span><span class="p">(</span><span class="n">PATH_TO_DATA</span><span class="p">,</span> <span class="s1">&#39;vw_model.vw&#39;</span><span class="p">)</span>
<span class="n">pred</span> <span class="o">=</span> <span class="n">os</span><span class="o">.</span><span class="n">path</span><span class="o">.</span><span class="n">join</span><span class="p">(</span><span class="n">PATH_TO_DATA</span><span class="p">,</span> <span class="s1">&#39;vw_pred.csv&#39;</span><span class="p">)</span>
</pre></div>

    </div>
</div>
</div>

</div>
<div class="cell border-box-sizing code_cell rendered">
<div class="input">
<div class="prompt input_prompt">In&nbsp;[&nbsp;]:</div>
<div class="inner_cell">
    <div class="input_area">
<div class=" highlight hl-ipython3"><pre><span></span><span class="o">%%time</span>
<span class="err">!</span><span class="n">vw</span> <span class="s1">&#39;&#39;&#39; ВАШ КОД ЗДЕСЬ &#39;&#39;&#39;</span>
</pre></div>

    </div>
</div>
</div>

</div>
<div class="cell border-box-sizing text_cell rendered"><div class="prompt input_prompt">
</div><div class="inner_cell">
<div class="text_cell_render border-box-sizing rendered_html">
<p><strong>Запишите прогнозы на выборке <em>valid.vw</em> в <em>vw_valid_pred.csv</em>.</strong></p>

</div>
</div>
</div>
<div class="cell border-box-sizing code_cell rendered">
<div class="input">
<div class="prompt input_prompt">In&nbsp;[&nbsp;]:</div>
<div class="inner_cell">
    <div class="input_area">
<div class=" highlight hl-ipython3"><pre><span></span><span class="o">%%time</span>
<span class="err">!</span><span class="n">vw</span> <span class="s1">&#39;&#39;&#39; ВАШ КОД ЗДЕСЬ &#39;&#39;&#39;</span>
</pre></div>

    </div>
</div>
</div>

</div>
<div class="cell border-box-sizing text_cell rendered"><div class="prompt input_prompt">
</div><div class="inner_cell">
<div class="text_cell_render border-box-sizing rendered_html">
<p><strong>Считайте прогнозы <em>kaggle_data/vw_valid_pred.csv</em>  из файла и посмотрите на долю правильных ответов на отложенной части.</strong></p>

</div>
</div>
</div>
<div class="cell border-box-sizing code_cell rendered">
<div class="input">
<div class="prompt input_prompt">In&nbsp;[&nbsp;]:</div>
<div class="inner_cell">
    <div class="input_area">
<div class=" highlight hl-ipython3"><pre><span></span><span class="sd">&#39;&#39;&#39; ВАШ КОД ЗДЕСЬ &#39;&#39;&#39;</span>
</pre></div>

    </div>
</div>
</div>

</div>
<div class="cell border-box-sizing text_cell rendered"><div class="prompt input_prompt">
</div><div class="inner_cell">
<div class="text_cell_render border-box-sizing rendered_html">
<p><strong>Теперь обучите <code>SGDClassifier</code> (3 прохода по выборке, логистическая функция потерь) и <code>LogisticRegression</code> на 70% разреженной обучающей выборки – <code>(X_train_part_sparse, y_train_part)</code>, сделайте прогноз для отложенной выборки <code>(X_valid_sparse, y_valid)</code> и посчитайте доли верных ответов. Логистическая регрессия будет обучаться не быстро (у меня – 4 минуты) – это нормально. Укажите везде <code>random_state</code>=17, <code>n_jobs</code>=-1. Для <code>SGDClassifier</code> также укажите <code>max_iter=3</code>.</strong></p>

</div>
</div>
</div>
<div class="cell border-box-sizing code_cell rendered">
<div class="input">
<div class="prompt input_prompt">In&nbsp;[&nbsp;]:</div>
<div class="inner_cell">
    <div class="input_area">
<div class=" highlight hl-ipython3"><pre><span></span><span class="n">logit</span> <span class="o">=</span> <span class="s1">&#39;&#39;&#39; ВАШ КОД ЗДЕСЬ &#39;&#39;&#39;</span>
<span class="n">sgd_logit</span> <span class="o">=</span> <span class="s1">&#39;&#39;&#39; ВАШ КОД ЗДЕСЬ &#39;&#39;&#39;</span>
</pre></div>

    </div>
</div>
</div>

</div>
<div class="cell border-box-sizing code_cell rendered">
<div class="input">
<div class="prompt input_prompt">In&nbsp;[&nbsp;]:</div>
<div class="inner_cell">
    <div class="input_area">
<div class=" highlight hl-ipython3"><pre><span></span><span class="o">%%time</span>
<span class="n">logit</span><span class="o">.</span><span class="n">fit</span> <span class="s1">&#39;&#39;&#39; ВАШ КОД ЗДЕСЬ &#39;&#39;&#39;</span>
</pre></div>

    </div>
</div>
</div>

</div>
<div class="cell border-box-sizing code_cell rendered">
<div class="input">
<div class="prompt input_prompt">In&nbsp;[&nbsp;]:</div>
<div class="inner_cell">
    <div class="input_area">
<div class=" highlight hl-ipython3"><pre><span></span><span class="o">%%time</span>
<span class="n">sgd_logit</span><span class="o">.</span><span class="n">fit</span> <span class="s1">&#39;&#39;&#39; ВАШ КОД ЗДЕСЬ &#39;&#39;&#39;</span>
</pre></div>

    </div>
</div>
</div>

</div>
<div class="cell border-box-sizing text_cell rendered"><div class="prompt input_prompt">
</div><div class="inner_cell">
<div class="text_cell_render border-box-sizing rendered_html">
<p><strong><font color='red'>Вопрос 1. </font> Посчитайте долю правильных ответов на отложенной выборке для Vowpal Wabbit, округлите до 3 знаков после запятой.</strong></p>
<p><strong><font color='red'>Вопрос 2. </font> Посчитайте долю правильных ответов на отложенной выборке для SGD, округлите до 3 знаков после запятой.</strong></p>
<p><strong><font color='red'>Вопрос 3. </font> Посчитайте долю правильных ответов на отложенной выборке для логистической регрессии, округлите до 3 знаков после запятой.</strong></p>

</div>
</div>
</div>
<div class="cell border-box-sizing code_cell rendered">
<div class="input">
<div class="prompt input_prompt">In&nbsp;[&nbsp;]:</div>
<div class="inner_cell">
    <div class="input_area">
<div class=" highlight hl-ipython3"><pre><span></span><span class="n">vw_valid_acc</span> <span class="o">=</span> <span class="s1">&#39;&#39;&#39; ВАШ КОД ЗДЕСЬ &#39;&#39;&#39;</span>
<span class="n">sgd_valid_acc</span> <span class="o">=</span> <span class="s1">&#39;&#39;&#39; ВАШ КОД ЗДЕСЬ &#39;&#39;&#39;</span>
<span class="n">logit_valid_acc</span> <span class="o">=</span> <span class="s1">&#39;&#39;&#39; ВАШ КОД ЗДЕСЬ &#39;&#39;&#39;</span>
</pre></div>

    </div>
</div>
</div>

</div>
<div class="cell border-box-sizing code_cell rendered">
<div class="input">
<div class="prompt input_prompt">In&nbsp;[&nbsp;]:</div>
<div class="inner_cell">
    <div class="input_area">
<div class=" highlight hl-ipython3"><pre><span></span><span class="k">def</span> <span class="nf">write_answer_to_file</span><span class="p">(</span><span class="n">answer</span><span class="p">,</span> <span class="n">file_address</span><span class="p">):</span>
    <span class="k">with</span> <span class="nb">open</span><span class="p">(</span><span class="n">file_address</span><span class="p">,</span> <span class="s1">&#39;w&#39;</span><span class="p">)</span> <span class="k">as</span> <span class="n">out_f</span><span class="p">:</span>
        <span class="n">out_f</span><span class="o">.</span><span class="n">write</span><span class="p">(</span><span class="nb">str</span><span class="p">(</span><span class="n">answer</span><span class="p">))</span>
</pre></div>

    </div>
</div>
</div>

</div>
<div class="cell border-box-sizing code_cell rendered">
<div class="input">
<div class="prompt input_prompt">In&nbsp;[&nbsp;]:</div>
<div class="inner_cell">
    <div class="input_area">
<div class=" highlight hl-ipython3"><pre><span></span><span class="n">write_answer_to_file</span><span class="p">(</span><span class="nb">round</span><span class="p">(</span><span class="n">vw_valid_acc</span><span class="p">,</span> <span class="mi">3</span><span class="p">),</span> <span class="s1">&#39;answer6_1.txt&#39;</span><span class="p">)</span>
<span class="n">write_answer_to_file</span><span class="p">(</span><span class="nb">round</span><span class="p">(</span><span class="n">sgd_valid_acc</span><span class="p">,</span> <span class="mi">3</span><span class="p">),</span> <span class="s1">&#39;answer6_2.txt&#39;</span><span class="p">)</span>
<span class="n">write_answer_to_file</span><span class="p">(</span><span class="nb">round</span><span class="p">(</span><span class="n">logit_valid_acc</span><span class="p">,</span> <span class="mi">3</span><span class="p">),</span> <span class="s1">&#39;answer6_3.txt&#39;</span><span class="p">)</span>
</pre></div>

    </div>
</div>
</div>

</div>
<div class="cell border-box-sizing text_cell rendered"><div class="prompt input_prompt">
</div><div class="inner_cell">
<div class="text_cell_render border-box-sizing rendered_html">
<h3 id="2.3.-&#1042;&#1072;&#1083;&#1080;&#1076;&#1072;&#1094;&#1080;&#1103;-&#1087;&#1086;-&#1090;&#1077;&#1089;&#1090;&#1086;&#1074;&#1086;&#1081;-&#1074;&#1099;&#1073;&#1086;&#1088;&#1082;&#1077;-(Public-Leaderboard)">2.3. &#1042;&#1072;&#1083;&#1080;&#1076;&#1072;&#1094;&#1080;&#1103; &#1087;&#1086; &#1090;&#1077;&#1089;&#1090;&#1086;&#1074;&#1086;&#1081; &#1074;&#1099;&#1073;&#1086;&#1088;&#1082;&#1077; (Public Leaderboard)<a class="anchor-link" href="#2.3.-&#1042;&#1072;&#1083;&#1080;&#1076;&#1072;&#1094;&#1080;&#1103;-&#1087;&#1086;-&#1090;&#1077;&#1089;&#1090;&#1086;&#1074;&#1086;&#1081;-&#1074;&#1099;&#1073;&#1086;&#1088;&#1082;&#1077;-(Public-Leaderboard)">&#182;</a></h3>
</div>
</div>
</div>
<div class="cell border-box-sizing text_cell rendered"><div class="prompt input_prompt">
</div><div class="inner_cell">
<div class="text_cell_render border-box-sizing rendered_html">
<p><strong>Обучите модель VW с теми же параметрами на всей обучающей выборке – <em>train.vw</em>.</strong></p>

</div>
</div>
</div>
<div class="cell border-box-sizing code_cell rendered">
<div class="input">
<div class="prompt input_prompt">In&nbsp;[&nbsp;]:</div>
<div class="inner_cell">
    <div class="input_area">
<div class=" highlight hl-ipython3"><pre><span></span><span class="o">%%time</span>
<span class="err">!</span><span class="n">vw</span> <span class="s1">&#39;&#39;&#39; ВАШ КОД ЗДЕСЬ &#39;&#39;&#39;</span>
</pre></div>

    </div>
</div>
</div>

</div>
<div class="cell border-box-sizing text_cell rendered"><div class="prompt input_prompt">
</div><div class="inner_cell">
<div class="text_cell_render border-box-sizing rendered_html">
<p><strong>Сделайте прогноз для тестовой выборки.</strong></p>

</div>
</div>
</div>
<div class="cell border-box-sizing code_cell rendered">
<div class="input">
<div class="prompt input_prompt">In&nbsp;[&nbsp;]:</div>
<div class="inner_cell">
    <div class="input_area">
<div class=" highlight hl-ipython3"><pre><span></span><span class="o">%%time</span>
<span class="err">!</span><span class="n">vw</span> <span class="s1">&#39;&#39;&#39; ВАШ КОД ЗДЕСЬ &#39;&#39;&#39;</span>
</pre></div>

    </div>
</div>
</div>

</div>
<div class="cell border-box-sizing text_cell rendered"><div class="prompt input_prompt">
</div><div class="inner_cell">
<div class="text_cell_render border-box-sizing rendered_html">
<p><strong>Запишите прогноз в файл, примените обратное преобразование меток (был LabelEncoder и потом +1 в меткам) и отправьте решение на Kaggle.</strong></p>

</div>
</div>
</div>
<div class="cell border-box-sizing code_cell rendered">
<div class="input">
<div class="prompt input_prompt">In&nbsp;[&nbsp;]:</div>
<div class="inner_cell">
    <div class="input_area">
<div class=" highlight hl-ipython3"><pre><span></span><span class="k">def</span> <span class="nf">write_to_submission_file</span><span class="p">(</span><span class="n">predicted_labels</span><span class="p">,</span> <span class="n">out_file</span><span class="p">,</span>
                             <span class="n">target</span><span class="o">=</span><span class="s1">&#39;user_id&#39;</span><span class="p">,</span> <span class="n">index_label</span><span class="o">=</span><span class="s2">&quot;session_id&quot;</span><span class="p">):</span>
    <span class="c1"># turn predictions into data frame and save as csv file</span>
    <span class="n">predicted_df</span> <span class="o">=</span> <span class="n">pd</span><span class="o">.</span><span class="n">DataFrame</span><span class="p">(</span><span class="n">predicted_labels</span><span class="p">,</span>
                                <span class="n">index</span> <span class="o">=</span> <span class="n">np</span><span class="o">.</span><span class="n">arange</span><span class="p">(</span><span class="mi">1</span><span class="p">,</span> <span class="n">predicted_labels</span><span class="o">.</span><span class="n">shape</span><span class="p">[</span><span class="mi">0</span><span class="p">]</span> <span class="o">+</span> <span class="mi">1</span><span class="p">),</span>
                                <span class="n">columns</span><span class="o">=</span><span class="p">[</span><span class="n">target</span><span class="p">])</span>
    <span class="n">predicted_df</span><span class="o">.</span><span class="n">to_csv</span><span class="p">(</span><span class="n">out_file</span><span class="p">,</span> <span class="n">index_label</span><span class="o">=</span><span class="n">index_label</span><span class="p">)</span>
</pre></div>

    </div>
</div>
</div>

</div>
<div class="cell border-box-sizing code_cell rendered">
<div class="input">
<div class="prompt input_prompt">In&nbsp;[&nbsp;]:</div>
<div class="inner_cell">
    <div class="input_area">
<div class=" highlight hl-ipython3"><pre><span></span><span class="n">vw_pred</span> <span class="o">=</span> <span class="s1">&#39;&#39;&#39; ВАШ КОД ЗДЕСЬ &#39;&#39;&#39;</span>
</pre></div>

    </div>
</div>
</div>

</div>
<div class="cell border-box-sizing code_cell rendered">
<div class="input">
<div class="prompt input_prompt">In&nbsp;[&nbsp;]:</div>
<div class="inner_cell">
    <div class="input_area">
<div class=" highlight hl-ipython3"><pre><span></span><span class="n">write_to_submission_file</span><span class="p">(</span><span class="n">vw_pred</span><span class="p">,</span> <span class="n">os</span><span class="o">.</span><span class="n">path</span><span class="o">.</span><span class="n">join</span><span class="p">(</span><span class="n">PATH_TO_DATA</span><span class="p">,</span> <span class="s1">&#39;vw_400_users.csv&#39;</span><span class="p">))</span>
</pre></div>

    </div>
</div>
</div>

</div>
<div class="cell border-box-sizing text_cell rendered"><div class="prompt input_prompt">
</div><div class="inner_cell">
<div class="text_cell_render border-box-sizing rendered_html">
<p><strong>Сделайте то же самое для SGD и логистической регрессии. Тут уже ждать обучение логистической регрессии совсем скучно (заново запускать тетрадку вам не захочется), но давайте дождемся.</strong></p>

</div>
</div>
</div>
<div class="cell border-box-sizing code_cell rendered">
<div class="input">
<div class="prompt input_prompt">In&nbsp;[&nbsp;]:</div>
<div class="inner_cell">
    <div class="input_area">
<div class=" highlight hl-ipython3"><pre><span></span><span class="sd">&#39;&#39;&#39; ВАШ КОД ЗДЕСЬ &#39;&#39;&#39;</span>
</pre></div>

    </div>
</div>
</div>

</div>
<div class="cell border-box-sizing code_cell rendered">
<div class="input">
<div class="prompt input_prompt">In&nbsp;[&nbsp;]:</div>
<div class="inner_cell">
    <div class="input_area">
<div class=" highlight hl-ipython3"><pre><span></span><span class="n">write_to_submission_file</span><span class="p">(</span><span class="n">sgd_logit_test_pred</span><span class="p">,</span> 
                         <span class="n">os</span><span class="o">.</span><span class="n">path</span><span class="o">.</span><span class="n">join</span><span class="p">(</span><span class="n">PATH_TO_DATA</span><span class="p">,</span> <span class="s1">&#39;logit_400_users.csv&#39;</span><span class="p">))</span>
<span class="n">write_to_submission_file</span><span class="p">(</span><span class="n">sgd_logit_test_pred</span><span class="p">,</span> 
                         <span class="n">os</span><span class="o">.</span><span class="n">path</span><span class="o">.</span><span class="n">join</span><span class="p">(</span><span class="n">PATH_TO_DATA</span><span class="p">,</span> <span class="s1">&#39;sgd_400_users.csv&#39;</span><span class="p">))</span>
</pre></div>

    </div>
</div>
</div>

</div>
<div class="cell border-box-sizing text_cell rendered"><div class="prompt input_prompt">
</div><div class="inner_cell">
<div class="text_cell_render border-box-sizing rendered_html">
<p>Посмотрим на доли правильных ответов на публичной части (public leaderboard) тестовой выборки <a href="https://inclass.kaggle.com/c/identify-me-if-you-can4">этого</a> соревнования.</p>
<p><strong><font color='red'>Вопрос 4. </font> Какова доля правильных ответов на публичной части тестовой выборки (public leaderboard)  для Vowpal Wabbit?</strong></p>
<p><strong><font color='red'>Вопрос 5. </font> Какова доля правильных ответов на публичной части тестовой выборки (public leaderboard)  для SGD?</strong></p>
<p><strong><font color='red'>Вопрос 6. </font> Какова доля правильных ответов на публичной части тестовой выборки (public leaderboard)  для логистической регрессии?</strong></p>

</div>
</div>
</div>
<div class="cell border-box-sizing code_cell rendered">
<div class="input">
<div class="prompt input_prompt">In&nbsp;[&nbsp;]:</div>
<div class="inner_cell">
    <div class="input_area">
<div class=" highlight hl-ipython3"><pre><span></span><span class="n">vw_lb_score</span><span class="p">,</span> <span class="n">sgd_lb_score</span><span class="p">,</span> <span class="n">logit_lb_score</span> <span class="o">=</span> <span class="s1">&#39;&#39;&#39; ВАШ КОД ЗДЕСЬ &#39;&#39;&#39;</span>

<span class="n">write_answer_to_file</span><span class="p">(</span><span class="nb">round</span><span class="p">(</span><span class="n">vw_lb_score</span><span class="p">,</span> <span class="mi">3</span><span class="p">),</span> <span class="s1">&#39;answer6_4.txt&#39;</span><span class="p">)</span>
<span class="n">write_answer_to_file</span><span class="p">(</span><span class="nb">round</span><span class="p">(</span><span class="n">sgd_lb_score</span><span class="p">,</span> <span class="mi">3</span><span class="p">),</span> <span class="s1">&#39;answer6_5.txt&#39;</span><span class="p">)</span>
<span class="n">write_answer_to_file</span><span class="p">(</span><span class="nb">round</span><span class="p">(</span><span class="n">logit_lb_score</span><span class="p">,</span> <span class="mi">3</span><span class="p">),</span> <span class="s1">&#39;answer6_6.txt&#39;</span><span class="p">)</span>
</pre></div>

    </div>
</div>
</div>

</div>
<div class="cell border-box-sizing text_cell rendered"><div class="prompt input_prompt">
</div><div class="inner_cell">
<div class="text_cell_render border-box-sizing rendered_html">
<p><strong>В заключение по заданию:</strong></p>
<ul>
<li>Про соотношение качества классификации и скорости обучения VW, SGD и logit выводы предлагается сделать самостоятельно</li>
<li>Пожалуй, задача классификации на 400 классов (идентификация 400 пользователей) решается недостаточно хорошо при честном отделении по времени тестовой выборки от обучающей. Далее мы будем соревноваться в идентификации одного пользователя (Элис) – <a href="https://inclass.kaggle.com/c/catch-me-if-you-can-intruder-detection-through-webpage-session-tracking2">вот</a> соревнование, в котором предлагается поучаствовать. Не перепутайте! </li>
</ul>
<p><strong>Удачи!</strong></p>

</div>
</div>
</div>
 


    </div>
  </div>

  </div>


  
    <footer class="footer hidden-print">
      <div class="container">
        <div class="col-md-4">
          <p>
            This website does not host notebooks, it only renders notebooks
            available on other websites.
          </p>
        </div>

        <div class="col-md-4">
          <p>
            Delivered by <a href="https://www.fastly.com/">Fastly</a>,
            Rendered by <a href="https://developer.rackspace.com/?nbviewer=awesome">Rackspace</a>
          </p>
          <p>
            nbviewer GitHub <a href="https://github.com/jupyter/nbviewer">repository</a>.
          </p>
        </div>

        <div class="col-md-4">
          
  
            
              <p>
                nbviewer version:
                <a href="https://github.com/jupyter/nbviewer/commit/07b0e305b3254e2280b29f20ceb96c058db2f775">
                  07b0e30
                </a>
              </p>
            
          
  
  <p>
    nbconvert version: <a href="https://github.com/jupyter/nbconvert/releases/tag/5.6.0">
      5.6.0
    </a>
  </p>
  

          
  
  
  <p>
    Rendered
    <span class='date' data-date='Wed, 23 Oct 2019 17:41:10 UTC' title='Wed, 23 Oct 2019 17:41:10 UTC'>(Wed, 23 Oct 2019 17:41:10 UTC)</span>
  </p>
  

        </div>
      </div>
    </footer>
  

  <script src="/static/components/bootstrap/js/bootstrap.min.js?v=5869c96cc8f19086aee625d670d741f9"></script>
  <script src="/static/components/headroom.js/dist/headroom.min.js?v=b0a311ea668f8e768ea375f4a7abb81c"></script>
  <script src="/static/components/headroom.js/dist/jQuery.headroom.min.js?v=f3a1bae118315d0c234afc74dc6aab71"></script>

  
  
  <script>
    $(function(){ $("#menubar").headroom({
      tolerance: 5,
      offset: 205,
      classes: {
        initial: "animated",
        pinned: "slideInDown",
        unpinned: "slideOutUp"
      }
    })});
  </script>


  
  <script>
    (function(i,s,o,g,r,a,m){i['GoogleAnalyticsObject']=r;i[r]=i[r]||function(){
      (i[r].q=i[r].q||[]).push(arguments)},i[r].l=1*new Date();a=s.createElement(o),
      m=s.getElementsByTagName(o)[0];a.async=1;a.src=g;m.parentNode.insertBefore(a,m)
    })(window,document,'script','https://www.google-analytics.com/analytics.js','ga');
    ga('create', 'UA-52617120-5', 'auto',
       {'storage': 'none'});
    ga('set', 'anonymizeIp', true);
    ga('send', 'pageview');
  </script>
  
  <script>
    require({
        paths: {
          moment: "/static/components/moment/min/moment.min.js?v=89f87298ad94aa1e6b92f42eb66da043"
        }
      }, ["moment"], function(moment){
      var date = $("footer .date"),
        m = moment(new Date(date.data('date'))),
        update = function(){ date.text(m.fromNow()); };
      setInterval(update, 61*1000);
      update();
      var w = $(window).scroll(function(event){
        $("body").toggleClass("scrolled", w.scrollTop() > 0);
      });
    });
  </script>

  <!--NEW RELIC Stop Perf Measurement-->
  
  <!--NEW RELIC End-->
</body>
</html>